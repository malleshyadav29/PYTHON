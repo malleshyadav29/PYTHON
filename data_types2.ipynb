{
  "nbformat": 4,
  "nbformat_minor": 0,
  "metadata": {
    "colab": {
      "provenance": []
    },
    "kernelspec": {
      "name": "python3",
      "display_name": "Python 3"
    },
    "language_info": {
      "name": "python"
    }
  },
  "cells": [
    {
      "cell_type": "markdown",
      "source": [
        "DATA TYPES\n",
        "\n",
        "- Data Types Specifies a Type of value to perform a operation on that value.\n",
        "- There ara Two Types\n",
        "- Basic Data Type\n",
        "- Advanced Data Types"
      ],
      "metadata": {
        "id": "WmQNiJDDzSvl"
      }
    },
    {
      "cell_type": "markdown",
      "source": [
        "Basic Data Types\n",
        "\n",
        "Integer\n",
        "\n",
        "- The Number that can be a Positive,Negative and Zero .it can not have any fractional or Decimal number."
      ],
      "metadata": {
        "id": "1it354Znzru3"
      }
    },
    {
      "cell_type": "code",
      "source": [
        "i=900\n",
        "print(type(i))\n",
        "\n"
      ],
      "metadata": {
        "colab": {
          "base_uri": "https://localhost:8080/"
        },
        "id": "n3n-Gf31z6C5",
        "outputId": "f0d92bb0-ab44-40dd-e91b-5ab41a7f5ddd"
      },
      "execution_count": null,
      "outputs": [
        {
          "output_type": "stream",
          "name": "stdout",
          "text": [
            "<class 'int'>\n"
          ]
        }
      ]
    },
    {
      "cell_type": "markdown",
      "source": [
        "Float\n",
        "- The Number that can be a positive , negative and zero with  decimal point."
      ],
      "metadata": {
        "id": "_dUAr5_70St_"
      }
    },
    {
      "cell_type": "code",
      "source": [
        "k=6.98790\n",
        "print(type(k))"
      ],
      "metadata": {
        "colab": {
          "base_uri": "https://localhost:8080/"
        },
        "id": "NHLO326s00Bi",
        "outputId": "9dd4b35b-0710-4f84-ba9e-d2d8082d2e41"
      },
      "execution_count": null,
      "outputs": [
        {
          "output_type": "stream",
          "name": "stdout",
          "text": [
            "<class 'float'>\n"
          ]
        }
      ]
    },
    {
      "cell_type": "markdown",
      "source": [
        "Complex\n",
        "\n",
        "- The combination of real numbers and iamaginary number."
      ],
      "metadata": {
        "id": "8RWeVElq1D69"
      }
    },
    {
      "cell_type": "code",
      "source": [
        "a=6876+54j\n",
        "print(type(a))"
      ],
      "metadata": {
        "colab": {
          "base_uri": "https://localhost:8080/"
        },
        "id": "FqslDxqj1Qg5",
        "outputId": "ecef259f-fafe-42b3-bc3e-e03ae3e56750"
      },
      "execution_count": null,
      "outputs": [
        {
          "output_type": "stream",
          "name": "stdout",
          "text": [
            "<class 'complex'>\n"
          ]
        }
      ]
    },
    {
      "cell_type": "markdown",
      "source": [
        "Examples for Basic Data Types"
      ],
      "metadata": {
        "id": "R3PiNdnC1lco"
      }
    },
    {
      "cell_type": "code",
      "source": [
        "a=98\n",
        "b=98.76\n",
        "c=98+66j\n",
        "print(type(c))\n",
        "print(type(a))\n",
        "print(type(b))"
      ],
      "metadata": {
        "colab": {
          "base_uri": "https://localhost:8080/"
        },
        "id": "sAO5tSXS1rkV",
        "outputId": "0e137e7e-74ef-450c-c967-72b89f7259f4"
      },
      "execution_count": null,
      "outputs": [
        {
          "output_type": "stream",
          "name": "stdout",
          "text": [
            "<class 'complex'>\n",
            "<class 'int'>\n",
            "<class 'float'>\n"
          ]
        }
      ]
    },
    {
      "cell_type": "code",
      "source": [
        "a=-46\n",
        "b=-523.1805\n",
        "c=-96+97j\n",
        "print(type(a))\n",
        "print(type(b))\n",
        "print(type(c))"
      ],
      "metadata": {
        "colab": {
          "base_uri": "https://localhost:8080/"
        },
        "id": "3ZfX7db218uL",
        "outputId": "f3cd2951-5a3f-4677-b48a-5c45a38d0bec"
      },
      "execution_count": null,
      "outputs": [
        {
          "output_type": "stream",
          "name": "stdout",
          "text": [
            "<class 'int'>\n",
            "<class 'float'>\n",
            "<class 'complex'>\n"
          ]
        }
      ]
    },
    {
      "cell_type": "code",
      "source": [
        "a=-67\n",
        "b=98.34\n",
        "c=-32+82j\n",
        "d=a+b\n",
        "e=a+b+c\n",
        "f=a*b\n",
        "g=a-c-d\n",
        "h=g*a*a*c*d\n",
        "i=a*a*a*a*a-e\n",
        "print(d)\n",
        "print(type(d))\n",
        "print(e)\n",
        "print(type(e))\n",
        "print(f)\n",
        "print(type(f))\n",
        "print(g)\n",
        "print(type(g))\n",
        "print(h)\n",
        "print(type(h))\n",
        "print(i)\n",
        "print(type(i))\n",
        "print(type(a))\n",
        "print(type(b))\n",
        "print(type(c))\n",
        "print(type(d))\n",
        "print(type(e))\n",
        "print(type(f))\n",
        "print(type(g))\n",
        "print(type(h))\n",
        "print(type(i))"
      ],
      "metadata": {
        "colab": {
          "base_uri": "https://localhost:8080/"
        },
        "id": "Cf_S47Xz2Wht",
        "outputId": "14ce0323-0271-4143-ded7-7135d8a77f9f"
      },
      "execution_count": null,
      "outputs": [
        {
          "output_type": "stream",
          "name": "stdout",
          "text": [
            "31.340000000000003\n",
            "<class 'float'>\n",
            "(-0.6599999999999966+82j)\n",
            "<class 'complex'>\n",
            "-6588.780000000001\n",
            "<class 'float'>\n",
            "(-66.34-82j)\n",
            "<class 'complex'>\n",
            "(1244625612.9888-396152809.92880017j)\n",
            "<class 'complex'>\n",
            "(-1350125106.34-82j)\n",
            "<class 'complex'>\n",
            "<class 'int'>\n",
            "<class 'float'>\n",
            "<class 'complex'>\n",
            "<class 'float'>\n",
            "<class 'complex'>\n",
            "<class 'float'>\n",
            "<class 'complex'>\n",
            "<class 'complex'>\n",
            "<class 'complex'>\n"
          ]
        }
      ]
    },
    {
      "cell_type": "markdown",
      "source": [
        "Boolean\n",
        "\n",
        "- Any value present in a Function then it gives output as True.\n",
        "- Thre is no value Present in a Function it gives output as False."
      ],
      "metadata": {
        "id": "1aNCy8252uEC"
      }
    },
    {
      "cell_type": "markdown",
      "source": [
        "Examples"
      ],
      "metadata": {
        "id": "1mQyYkHG29Hc"
      }
    },
    {
      "cell_type": "code",
      "source": [
        "a=54>75\n",
        "print(a)"
      ],
      "metadata": {
        "colab": {
          "base_uri": "https://localhost:8080/"
        },
        "id": "lXeq_lW_3JJc",
        "outputId": "edf60e6d-d61e-4f5c-df67-126ea94caa1a"
      },
      "execution_count": null,
      "outputs": [
        {
          "output_type": "stream",
          "name": "stdout",
          "text": [
            "False\n"
          ]
        }
      ]
    },
    {
      "cell_type": "code",
      "source": [
        "b=98<99\n",
        "print(b)"
      ],
      "metadata": {
        "colab": {
          "base_uri": "https://localhost:8080/"
        },
        "id": "mYl_wO9a3RwW",
        "outputId": "67038eb8-9580-4b34-923f-bb89889ac34f"
      },
      "execution_count": null,
      "outputs": [
        {
          "output_type": "stream",
          "name": "stdout",
          "text": [
            "True\n"
          ]
        }
      ]
    },
    {
      "cell_type": "code",
      "source": [
        "c=(97==87)\n",
        "print(c)"
      ],
      "metadata": {
        "colab": {
          "base_uri": "https://localhost:8080/"
        },
        "id": "4nM9dVYc3fz6",
        "outputId": "ccb084f6-3bcd-4bef-c55c-6d11dd9431af"
      },
      "execution_count": null,
      "outputs": [
        {
          "output_type": "stream",
          "name": "stdout",
          "text": [
            "False\n"
          ]
        }
      ]
    },
    {
      "cell_type": "code",
      "source": [
        "d=(44==44)\n",
        "print(d)"
      ],
      "metadata": {
        "colab": {
          "base_uri": "https://localhost:8080/"
        },
        "id": "Ykz7j7Rx31qY",
        "outputId": "68563d62-f7fd-48d4-9ca0-f23becc3e986"
      },
      "execution_count": null,
      "outputs": [
        {
          "output_type": "stream",
          "name": "stdout",
          "text": [
            "True\n"
          ]
        }
      ]
    },
    {
      "cell_type": "code",
      "source": [
        "j=9==6\n",
        "print(j)"
      ],
      "metadata": {
        "colab": {
          "base_uri": "https://localhost:8080/"
        },
        "id": "yOnjE8eN4EkU",
        "outputId": "438bdb0c-913d-4410-f2bb-2ca12fe073cf"
      },
      "execution_count": null,
      "outputs": [
        {
          "output_type": "stream",
          "name": "stdout",
          "text": [
            "False\n"
          ]
        }
      ]
    },
    {
      "cell_type": "code",
      "source": [
        "k=9<10\n",
        "print(k)"
      ],
      "metadata": {
        "colab": {
          "base_uri": "https://localhost:8080/"
        },
        "id": "zFiE4t9M5kCr",
        "outputId": "8400f4df-48fe-4f35-db39-25ee17c87b93"
      },
      "execution_count": null,
      "outputs": [
        {
          "output_type": "stream",
          "name": "stdout",
          "text": [
            "True\n"
          ]
        }
      ]
    },
    {
      "cell_type": "code",
      "source": [
        "l=0==0\n",
        "print(l)"
      ],
      "metadata": {
        "colab": {
          "base_uri": "https://localhost:8080/"
        },
        "id": "w_Nm_TQn5s-b",
        "outputId": "d5556021-857c-47f5-989f-63efce577e86"
      },
      "execution_count": null,
      "outputs": [
        {
          "output_type": "stream",
          "name": "stdout",
          "text": [
            "True\n"
          ]
        }
      ]
    },
    {
      "cell_type": "code",
      "source": [
        "bool(2)"
      ],
      "metadata": {
        "colab": {
          "base_uri": "https://localhost:8080/"
        },
        "id": "ZdqK6WLD53yU",
        "outputId": "a5a3b677-3388-4054-ca65-c3f077e6a9fb"
      },
      "execution_count": null,
      "outputs": [
        {
          "output_type": "execute_result",
          "data": {
            "text/plain": [
              "True"
            ]
          },
          "metadata": {},
          "execution_count": 20
        }
      ]
    },
    {
      "cell_type": "code",
      "source": [
        "bool(0)"
      ],
      "metadata": {
        "colab": {
          "base_uri": "https://localhost:8080/"
        },
        "id": "BDeZnwl259BR",
        "outputId": "aacdd45f-8513-439a-d33e-8183f311b6bd"
      },
      "execution_count": null,
      "outputs": [
        {
          "output_type": "execute_result",
          "data": {
            "text/plain": [
              "False"
            ]
          },
          "metadata": {},
          "execution_count": 21
        }
      ]
    },
    {
      "cell_type": "code",
      "source": [
        "bool(-1)"
      ],
      "metadata": {
        "colab": {
          "base_uri": "https://localhost:8080/"
        },
        "id": "FGCqkDBC6CZ0",
        "outputId": "59b9d513-d96f-4fa2-d3e7-e8e1c4dc6e5c"
      },
      "execution_count": null,
      "outputs": [
        {
          "output_type": "execute_result",
          "data": {
            "text/plain": [
              "True"
            ]
          },
          "metadata": {},
          "execution_count": 22
        }
      ]
    },
    {
      "cell_type": "code",
      "source": [
        "bool(100)"
      ],
      "metadata": {
        "colab": {
          "base_uri": "https://localhost:8080/"
        },
        "id": "9OTo3kR-6JWm",
        "outputId": "565c6e12-7bb7-4bb6-864c-34ca63425381"
      },
      "execution_count": null,
      "outputs": [
        {
          "output_type": "execute_result",
          "data": {
            "text/plain": [
              "True"
            ]
          },
          "metadata": {},
          "execution_count": 23
        }
      ]
    },
    {
      "cell_type": "code",
      "source": [
        "bool()"
      ],
      "metadata": {
        "colab": {
          "base_uri": "https://localhost:8080/"
        },
        "id": "L6pL6IdA6OLT",
        "outputId": "e8338291-0823-4c30-9b5e-0d2cbf69e656"
      },
      "execution_count": null,
      "outputs": [
        {
          "output_type": "execute_result",
          "data": {
            "text/plain": [
              "False"
            ]
          },
          "metadata": {},
          "execution_count": 24
        }
      ]
    },
    {
      "cell_type": "code",
      "source": [
        "bool(9)"
      ],
      "metadata": {
        "colab": {
          "base_uri": "https://localhost:8080/"
        },
        "id": "6g_R4Kv36Ra0",
        "outputId": "4ce272c7-68e4-476c-95f4-07d27c828008"
      },
      "execution_count": null,
      "outputs": [
        {
          "output_type": "execute_result",
          "data": {
            "text/plain": [
              "True"
            ]
          },
          "metadata": {},
          "execution_count": 34
        }
      ]
    },
    {
      "cell_type": "code",
      "source": [
        "bool(j)"
      ],
      "metadata": {
        "colab": {
          "base_uri": "https://localhost:8080/"
        },
        "id": "PQGkOf5L6XNk",
        "outputId": "4f9a91ba-424f-4e7d-f46c-9f22b8af43f7"
      },
      "execution_count": null,
      "outputs": [
        {
          "output_type": "execute_result",
          "data": {
            "text/plain": [
              "False"
            ]
          },
          "metadata": {},
          "execution_count": 27
        }
      ]
    },
    {
      "cell_type": "code",
      "source": [
        "bool(k)"
      ],
      "metadata": {
        "colab": {
          "base_uri": "https://localhost:8080/"
        },
        "id": "JkWhtcXr6dIg",
        "outputId": "b419366a-c9ff-4be2-816f-29ba0edb316b"
      },
      "execution_count": null,
      "outputs": [
        {
          "output_type": "execute_result",
          "data": {
            "text/plain": [
              "True"
            ]
          },
          "metadata": {},
          "execution_count": 29
        }
      ]
    },
    {
      "cell_type": "code",
      "source": [
        "bool(l)"
      ],
      "metadata": {
        "colab": {
          "base_uri": "https://localhost:8080/"
        },
        "id": "-3NnfrVz6k0o",
        "outputId": "8a28bfd5-c42a-4493-ac61-d0683475103d"
      },
      "execution_count": null,
      "outputs": [
        {
          "output_type": "execute_result",
          "data": {
            "text/plain": [
              "True"
            ]
          },
          "metadata": {},
          "execution_count": 31
        }
      ]
    },
    {
      "cell_type": "markdown",
      "source": [
        "**7) explain type conversion (or) type casting for each type 5 examples**\n",
        "\n",
        "- it is used to convert the one type of date into another data type\n",
        "- they are two types of type conversions\n",
        "- 1)implicit typeconversion\n",
        "it converts data type into nother data type automatically\n",
        "- 2)explicit type conversion\n",
        "- in this method user needs involve to convert the data type into required data type\n",
        "- we can not convert complex into int and float because complex have real and imaginary parts\n",
        "- we can able to convert complex into int and float"
      ],
      "metadata": {
        "id": "_tAt4rXHFAqe"
      }
    },
    {
      "cell_type": "code",
      "source": [
        "#examples of implicit type conversion\n",
        "\n",
        "a = 23\n",
        "type(a)\n",
        ""
      ],
      "metadata": {
        "colab": {
          "base_uri": "https://localhost:8080/"
        },
        "id": "nWr0COTKFgqC",
        "outputId": "ae11bbba-9075-4905-fe43-549426c13306"
      },
      "execution_count": 35,
      "outputs": [
        {
          "output_type": "execute_result",
          "data": {
            "text/plain": [
              "int"
            ]
          },
          "metadata": {},
          "execution_count": 35
        }
      ]
    },
    {
      "cell_type": "code",
      "source": [
        "b = 356.8\n",
        "type(b)\n",
        ""
      ],
      "metadata": {
        "colab": {
          "base_uri": "https://localhost:8080/"
        },
        "id": "maeOwWLiFsZM",
        "outputId": "8fca3a09-8ea1-4c50-a221-0775bac40424"
      },
      "execution_count": 36,
      "outputs": [
        {
          "output_type": "execute_result",
          "data": {
            "text/plain": [
              "float"
            ]
          },
          "metadata": {},
          "execution_count": 36
        }
      ]
    },
    {
      "cell_type": "code",
      "source": [
        "a = 37\n",
        "b = 45.09\n",
        "type(a+b)\n",
        ""
      ],
      "metadata": {
        "colab": {
          "base_uri": "https://localhost:8080/"
        },
        "id": "zrohw2toGBMl",
        "outputId": "84856b0e-6425-489e-9fbc-481099ce0195"
      },
      "execution_count": 37,
      "outputs": [
        {
          "output_type": "execute_result",
          "data": {
            "text/plain": [
              "float"
            ]
          },
          "metadata": {},
          "execution_count": 37
        }
      ]
    },
    {
      "cell_type": "code",
      "source": [
        "a = 431\n",
        "b = 54.95\n",
        "type(a>b)"
      ],
      "metadata": {
        "colab": {
          "base_uri": "https://localhost:8080/"
        },
        "id": "T0R36mUbGIMF",
        "outputId": "f378cde1-f218-48e8-fbb2-916809fb24e4"
      },
      "execution_count": 38,
      "outputs": [
        {
          "output_type": "execute_result",
          "data": {
            "text/plain": [
              "bool"
            ]
          },
          "metadata": {},
          "execution_count": 38
        }
      ]
    },
    {
      "cell_type": "code",
      "source": [
        "a = 23\n",
        "b = 13.55\n",
        "type(a>b)"
      ],
      "metadata": {
        "colab": {
          "base_uri": "https://localhost:8080/"
        },
        "id": "8NAY4NlvGSl-",
        "outputId": "2285d866-f9b3-4efd-f8e0-f0dfbf07054f"
      },
      "execution_count": 39,
      "outputs": [
        {
          "output_type": "execute_result",
          "data": {
            "text/plain": [
              "bool"
            ]
          },
          "metadata": {},
          "execution_count": 39
        }
      ]
    },
    {
      "cell_type": "code",
      "source": [
        "a = 23.3\n",
        "b = 12\n",
        "type(a-b)"
      ],
      "metadata": {
        "colab": {
          "base_uri": "https://localhost:8080/"
        },
        "id": "hXbH3zyuGZsQ",
        "outputId": "2add16f0-ecf4-4b60-9db2-6f5a95205423"
      },
      "execution_count": 40,
      "outputs": [
        {
          "output_type": "execute_result",
          "data": {
            "text/plain": [
              "float"
            ]
          },
          "metadata": {},
          "execution_count": 40
        }
      ]
    },
    {
      "cell_type": "code",
      "source": [
        "a = 13\n",
        "b = 13.75\n",
        "type(a+b)"
      ],
      "metadata": {
        "colab": {
          "base_uri": "https://localhost:8080/"
        },
        "id": "oaA5REmWGh6e",
        "outputId": "2e599e92-af5b-4683-abd9-529cd9e98f7c"
      },
      "execution_count": 41,
      "outputs": [
        {
          "output_type": "execute_result",
          "data": {
            "text/plain": [
              "float"
            ]
          },
          "metadata": {},
          "execution_count": 41
        }
      ]
    },
    {
      "cell_type": "code",
      "source": [
        "# examples of explicit type conversions\n",
        "\n",
        "# convert int into float\n",
        "\n",
        "x = 90\n",
        "y = float(x)\n",
        "print(y)\n",
        "type(y)\n",
        ""
      ],
      "metadata": {
        "colab": {
          "base_uri": "https://localhost:8080/"
        },
        "id": "Z8MjYbtfGrdn",
        "outputId": "31c694f3-405f-4076-87cc-652fb8d50f25"
      },
      "execution_count": 42,
      "outputs": [
        {
          "output_type": "stream",
          "name": "stdout",
          "text": [
            "90.0\n"
          ]
        },
        {
          "output_type": "execute_result",
          "data": {
            "text/plain": [
              "float"
            ]
          },
          "metadata": {},
          "execution_count": 42
        }
      ]
    },
    {
      "cell_type": "code",
      "source": [
        "a = 332\n",
        "b = 14\n",
        "c = float(a*b)\n",
        "print(c)\n",
        "type(c)"
      ],
      "metadata": {
        "colab": {
          "base_uri": "https://localhost:8080/"
        },
        "id": "hAteto8lHKKf",
        "outputId": "8e38ae52-dbc5-4d21-e9b7-c136090817a8"
      },
      "execution_count": 43,
      "outputs": [
        {
          "output_type": "stream",
          "name": "stdout",
          "text": [
            "4648.0\n"
          ]
        },
        {
          "output_type": "execute_result",
          "data": {
            "text/plain": [
              "float"
            ]
          },
          "metadata": {},
          "execution_count": 43
        }
      ]
    },
    {
      "cell_type": "code",
      "source": [
        "vivo21 = 55000\n",
        "vivo22 = 74350\n",
        "vivo23 = float(vivo21-vivo22)\n",
        "print(vivo23)\n",
        "type(vivo23)"
      ],
      "metadata": {
        "colab": {
          "base_uri": "https://localhost:8080/"
        },
        "id": "US2Zf6CwHScq",
        "outputId": "18f61cc1-789c-4276-b8c6-25f601c2e7ce"
      },
      "execution_count": 47,
      "outputs": [
        {
          "output_type": "stream",
          "name": "stdout",
          "text": [
            "-19350.0\n"
          ]
        },
        {
          "output_type": "execute_result",
          "data": {
            "text/plain": [
              "float"
            ]
          },
          "metadata": {},
          "execution_count": 47
        }
      ]
    },
    {
      "cell_type": "code",
      "source": [
        "alexa = 6321\n",
        "alexa1 = 5633\n",
        "alexa2 = float(alexa-alexa1)\n",
        "print(alexa2)\n",
        "type(alexa2)"
      ],
      "metadata": {
        "colab": {
          "base_uri": "https://localhost:8080/"
        },
        "id": "h_C4tuuLIseT",
        "outputId": "b04372e0-9740-4995-8845-d2140492a31d"
      },
      "execution_count": 48,
      "outputs": [
        {
          "output_type": "stream",
          "name": "stdout",
          "text": [
            "688.0\n"
          ]
        },
        {
          "output_type": "execute_result",
          "data": {
            "text/plain": [
              "float"
            ]
          },
          "metadata": {},
          "execution_count": 48
        }
      ]
    },
    {
      "cell_type": "code",
      "source": [
        "pavan= 9977894\n",
        "yogesh = 9977894\n",
        "mallesh= float(pavan/yogesh)\n",
        "print(mallesh)\n",
        "type(mallesh)\n",
        ""
      ],
      "metadata": {
        "colab": {
          "base_uri": "https://localhost:8080/"
        },
        "id": "9YwUtLDSIzjq",
        "outputId": "76a3766e-c31c-456e-d621-fc91bd1489d4"
      },
      "execution_count": 50,
      "outputs": [
        {
          "output_type": "stream",
          "name": "stdout",
          "text": [
            "1.0\n"
          ]
        },
        {
          "output_type": "execute_result",
          "data": {
            "text/plain": [
              "float"
            ]
          },
          "metadata": {},
          "execution_count": 50
        }
      ]
    },
    {
      "cell_type": "code",
      "source": [
        "# convert float into int\n",
        "\n",
        "a = 34.0\n",
        "b = int(a)\n",
        "print(b)\n",
        "type(b)"
      ],
      "metadata": {
        "colab": {
          "base_uri": "https://localhost:8080/"
        },
        "id": "lZVenoeMJOM9",
        "outputId": "29f89ba4-3677-4407-d1e4-47ab416bf3a3"
      },
      "execution_count": 51,
      "outputs": [
        {
          "output_type": "stream",
          "name": "stdout",
          "text": [
            "34\n"
          ]
        },
        {
          "output_type": "execute_result",
          "data": {
            "text/plain": [
              "int"
            ]
          },
          "metadata": {},
          "execution_count": 51
        }
      ]
    },
    {
      "cell_type": "code",
      "source": [
        "x = 23.09\n",
        "y = 3425\n",
        "z = int(x+y)\n",
        "print(z)\n",
        "type(z)\n",
        ""
      ],
      "metadata": {
        "colab": {
          "base_uri": "https://localhost:8080/"
        },
        "id": "Iqf7YYplJSzE",
        "outputId": "c8c6adcf-69cb-4a66-fa6f-f600c9545e08"
      },
      "execution_count": 52,
      "outputs": [
        {
          "output_type": "stream",
          "name": "stdout",
          "text": [
            "3448\n"
          ]
        },
        {
          "output_type": "execute_result",
          "data": {
            "text/plain": [
              "int"
            ]
          },
          "metadata": {},
          "execution_count": 52
        }
      ]
    },
    {
      "cell_type": "code",
      "source": [
        "i = 232904.399\n",
        "j = 83344.94\n",
        "k = int(i*j)\n",
        "print(k)\n",
        "type(k)"
      ],
      "metadata": {
        "colab": {
          "base_uri": "https://localhost:8080/"
        },
        "id": "JCZWcAjyJcv9",
        "outputId": "8e72123d-3886-4a9d-9c21-a1f0b025cbbf"
      },
      "execution_count": 53,
      "outputs": [
        {
          "output_type": "stream",
          "name": "stdout",
          "text": [
            "19411403160\n"
          ]
        },
        {
          "output_type": "execute_result",
          "data": {
            "text/plain": [
              "int"
            ]
          },
          "metadata": {},
          "execution_count": 53
        }
      ]
    },
    {
      "cell_type": "code",
      "source": [
        "sal = 112139.56\n",
        "sal1 = 933449.852442\n",
        "sal2 = int(sal-sal1)\n",
        "print(sal2)\n",
        "type(sal2)\n",
        ""
      ],
      "metadata": {
        "colab": {
          "base_uri": "https://localhost:8080/"
        },
        "id": "F7obPBv3Jjv7",
        "outputId": "b0971dde-c16a-45e1-e0b2-aa35cfedc333"
      },
      "execution_count": 54,
      "outputs": [
        {
          "output_type": "stream",
          "name": "stdout",
          "text": [
            "-821310\n"
          ]
        },
        {
          "output_type": "execute_result",
          "data": {
            "text/plain": [
              "int"
            ]
          },
          "metadata": {},
          "execution_count": 54
        }
      ]
    },
    {
      "cell_type": "code",
      "source": [
        "zen = 289233.33\n",
        "zen1 = 11144\n",
        "zen2 = int(zen1/zen)\n",
        "print(zen2)\n",
        "type(zen2)"
      ],
      "metadata": {
        "colab": {
          "base_uri": "https://localhost:8080/"
        },
        "id": "DxJWRSeIJrwp",
        "outputId": "5f0a6b98-352c-46e2-ab63-a9b320386af0"
      },
      "execution_count": 55,
      "outputs": [
        {
          "output_type": "stream",
          "name": "stdout",
          "text": [
            "0\n"
          ]
        },
        {
          "output_type": "execute_result",
          "data": {
            "text/plain": [
              "int"
            ]
          },
          "metadata": {},
          "execution_count": 55
        }
      ]
    },
    {
      "cell_type": "code",
      "source": [
        "# convert int and float into complex\n",
        "\n",
        "x = 23\n",
        "y = 456.3\n",
        "z = complex(a,b)\n",
        "print(z)\n",
        "type(z)"
      ],
      "metadata": {
        "colab": {
          "base_uri": "https://localhost:8080/"
        },
        "id": "HmlTd-bWKI3L",
        "outputId": "b5863bfd-0d01-48dc-8564-a34d53b45775"
      },
      "execution_count": 56,
      "outputs": [
        {
          "output_type": "stream",
          "name": "stdout",
          "text": [
            "(34+34j)\n"
          ]
        },
        {
          "output_type": "execute_result",
          "data": {
            "text/plain": [
              "complex"
            ]
          },
          "metadata": {},
          "execution_count": 56
        }
      ]
    },
    {
      "cell_type": "code",
      "source": [
        "a = 0\n",
        "b = 0\n",
        "c = complex(a,b)\n",
        "print(c)\n",
        "type(c)"
      ],
      "metadata": {
        "colab": {
          "base_uri": "https://localhost:8080/"
        },
        "id": "SCjS3nK0KYbf",
        "outputId": "947bb2af-5148-4f8c-e853-55b16fbbeb71"
      },
      "execution_count": 57,
      "outputs": [
        {
          "output_type": "stream",
          "name": "stdout",
          "text": [
            "0j\n"
          ]
        },
        {
          "output_type": "execute_result",
          "data": {
            "text/plain": [
              "complex"
            ]
          },
          "metadata": {},
          "execution_count": 57
        }
      ]
    },
    {
      "cell_type": "code",
      "source": [
        "clr = 84\n",
        "clr1 = complex(clr)\n",
        "print(clr1)\n",
        "type(clr1)"
      ],
      "metadata": {
        "colab": {
          "base_uri": "https://localhost:8080/"
        },
        "id": "aHSa8e4KKwyQ",
        "outputId": "61a57142-a878-40ce-919e-8c0a8e1cf64b"
      },
      "execution_count": 58,
      "outputs": [
        {
          "output_type": "stream",
          "name": "stdout",
          "text": [
            "(84+0j)\n"
          ]
        },
        {
          "output_type": "execute_result",
          "data": {
            "text/plain": [
              "complex"
            ]
          },
          "metadata": {},
          "execution_count": 58
        }
      ]
    },
    {
      "cell_type": "code",
      "source": [
        "i = 233423.55\n",
        "j = 3344.4\n",
        "k = complex(i,j)\n",
        "print(k)\n",
        "type(k)\n",
        ""
      ],
      "metadata": {
        "colab": {
          "base_uri": "https://localhost:8080/"
        },
        "id": "7pVdKBvmK1Yp",
        "outputId": "b230f67a-0c98-41eb-f891-4b652d2e194c"
      },
      "execution_count": 59,
      "outputs": [
        {
          "output_type": "stream",
          "name": "stdout",
          "text": [
            "(233423.55+3344.4j)\n"
          ]
        },
        {
          "output_type": "execute_result",
          "data": {
            "text/plain": [
              "complex"
            ]
          },
          "metadata": {},
          "execution_count": 59
        }
      ]
    },
    {
      "cell_type": "code",
      "source": [
        "a = 12\n",
        "b = 123.4\n",
        "c = complex(a,b)\n",
        "print(c)\n",
        "type(c)\n",
        "\n"
      ],
      "metadata": {
        "colab": {
          "base_uri": "https://localhost:8080/"
        },
        "id": "rsE4UZ_5K9Fa",
        "outputId": "26bc8489-54f6-4dcd-bc68-ff8e42e16090"
      },
      "execution_count": 60,
      "outputs": [
        {
          "output_type": "stream",
          "name": "stdout",
          "text": [
            "(12+123.4j)\n"
          ]
        },
        {
          "output_type": "execute_result",
          "data": {
            "text/plain": [
              "complex"
            ]
          },
          "metadata": {},
          "execution_count": 60
        }
      ]
    }
  ]
}