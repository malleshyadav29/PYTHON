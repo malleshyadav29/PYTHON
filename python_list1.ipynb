{
  "nbformat": 4,
  "nbformat_minor": 0,
  "metadata": {
    "colab": {
      "provenance": []
    },
    "kernelspec": {
      "name": "python3",
      "display_name": "Python 3"
    },
    "language_info": {
      "name": "python"
    }
  },
  "cells": [
    {
      "cell_type": "markdown",
      "source": [
        "# 1) Define about list\n",
        "- there are many builts-in types in python that allow us to group and store multiple items. pyothon lists are the most versatile among them.\n",
        "- For example , we cwan use a python list to store a playlist of songs so that we can easily add,remove, and update songs as needed.\n",
        "- we create a list by placing elements inside square brackets [ ], separated by commas. For example\n",
        "- lists are :\n",
        "- **Ordered**- they maintain the order of elements.\n",
        "- **Mutable** - items can be changed after creation.\n",
        "-**Allow duplicates** : They can contain duplicate values.\n",
        "\n",
        "\n",
        "\n"
      ],
      "metadata": {
        "id": "88TVnEZEhuIu"
      }
    },
    {
      "cell_type": "code",
      "source": [
        "#creating an empty list\n",
        "my_list =[]\n",
        "print(my_list)"
      ],
      "metadata": {
        "colab": {
          "base_uri": "https://localhost:8080/"
        },
        "id": "_-Ady3VelCVy",
        "outputId": "e7eb1b75-e099-495d-a273-d5e9a7014989"
      },
      "execution_count": null,
      "outputs": [
        {
          "output_type": "stream",
          "name": "stdout",
          "text": [
            "[]\n"
          ]
        }
      ]
    },
    {
      "cell_type": "code",
      "source": [
        "#a list of three elements\n",
        "ages = [21,23,34]\n",
        "print(ages)"
      ],
      "metadata": {
        "colab": {
          "base_uri": "https://localhost:8080/"
        },
        "id": "mHjvzdrIkjBT",
        "outputId": "828d88e3-6557-4f7e-f1e1-7c633246ecf9"
      },
      "execution_count": null,
      "outputs": [
        {
          "output_type": "stream",
          "name": "stdout",
          "text": [
            "[21, 23, 34]\n"
          ]
        }
      ]
    },
    {
      "cell_type": "markdown",
      "source": [
        "**Access list elements**\n",
        "- in python lists are ordered and each item in a lists is associated with a number is known as a list index.\n",
        "- The index of first item is 0, the index of second item is 1, and so on.\n",
        "- Python allows negative indexing for its squences.\n",
        "- The index of -1 refers to the last item, -2 to second last item and so on.\n",
        "\n"
      ],
      "metadata": {
        "id": "8tJ1PsxdqPfv"
      }
    },
    {
      "cell_type": "code",
      "source": [
        "# positive\n",
        "name=[\"mallesh\",\"kanna\",\"pavan\",\"yogesh\"]\n",
        "print(name[1])\n",
        "print(name[0])"
      ],
      "metadata": {
        "colab": {
          "base_uri": "https://localhost:8080/"
        },
        "id": "4w1UDZ9ZwGNq",
        "outputId": "5c3c3344-5822-4e10-fb35-23a1bdb1423c"
      },
      "execution_count": null,
      "outputs": [
        {
          "output_type": "stream",
          "name": "stdout",
          "text": [
            "kanna\n",
            "mallesh\n"
          ]
        }
      ]
    },
    {
      "cell_type": "code",
      "source": [
        "#negative\n",
        "name=[\"mallesh\",\"kannna\",\"pavan\",\"yogesh\"]\n",
        "print(name[-1])\n",
        "print(name[-2])"
      ],
      "metadata": {
        "colab": {
          "base_uri": "https://localhost:8080/"
        },
        "id": "fm2JOcVIw8TU",
        "outputId": "3a793b98-0732-48bc-e4e4-acd0dc8d8f22"
      },
      "execution_count": null,
      "outputs": [
        {
          "output_type": "stream",
          "name": "stdout",
          "text": [
            "yogesh\n",
            "pavan\n"
          ]
        }
      ]
    },
    {
      "cell_type": "markdown",
      "source": [
        "**Slicing of a list**\n",
        "- In python, it is possible to access a section of items from the list using the slicing operator : .\n",
        "- variable_name [start_index : End_index].......n-1 only for end_index"
      ],
      "metadata": {
        "id": "mkHrTA7Lx0ej"
      }
    },
    {
      "cell_type": "code",
      "source": [
        "#positive\n",
        "my_name = [\"yogesh\",\"pavan\",\"kanna\",\"sathyam\",\"mahipal\",\"ganesh\",\"ramu\",\"rakesh\",\"sai\",\"arun\"]\n",
        "print(my_name[3:9])\n",
        "print(my_name[8])\n",
        "print(my_name[3:])\n"
      ],
      "metadata": {
        "colab": {
          "base_uri": "https://localhost:8080/"
        },
        "id": "BdW84Qhq4A59",
        "outputId": "fd061055-5414-4855-ab8a-c6fceaa5855d"
      },
      "execution_count": null,
      "outputs": [
        {
          "output_type": "stream",
          "name": "stdout",
          "text": [
            "['sathyam', 'mahipal', 'ganesh', 'ramu', 'rakesh', 'sai']\n",
            "sai\n",
            "['sathyam', 'mahipal', 'ganesh', 'ramu', 'rakesh', 'sai', 'arun']\n"
          ]
        }
      ]
    },
    {
      "cell_type": "code",
      "source": [
        "#positive\n",
        "my_name = [\"yogesh\",\"pavan\",\"kanna\",\"sathyam\",\"mahipal\",\"ganesh\",\"ramu\",\"rakesh\",\"sai\",\"arun\"]\n",
        "print(my_name[-6:-2])\n",
        "print(my_name[-9:-3])\n",
        "print(my_name[-5:-1])\n"
      ],
      "metadata": {
        "colab": {
          "base_uri": "https://localhost:8080/"
        },
        "id": "WXHv1oDQ5zi0",
        "outputId": "c1cd09b9-8a24-4acc-8770-b7450a559a9d"
      },
      "execution_count": null,
      "outputs": [
        {
          "output_type": "stream",
          "name": "stdout",
          "text": [
            "['mahipal', 'ganesh', 'ramu', 'rakesh']\n",
            "['pavan', 'kanna', 'sathyam', 'mahipal', 'ganesh', 'ramu']\n",
            "['ganesh', 'ramu', 'rakesh', 'sai']\n"
          ]
        }
      ]
    },
    {
      "cell_type": "markdown",
      "source": [
        "**List operation**\n",
        "\n",
        "1) Concatenation\n",
        "- it means add together . use the + character to add a variable to another variable  "
      ],
      "metadata": {
        "id": "ajt_dMTE70Da"
      }
    },
    {
      "cell_type": "code",
      "source": [
        "a= [1,2,3,4]\n",
        "b= [1,3,4,5,9]\n",
        "c= a+b\n",
        "print(c)"
      ],
      "metadata": {
        "colab": {
          "base_uri": "https://localhost:8080/"
        },
        "id": "kLV0kb7f9I0a",
        "outputId": "7a65214f-8e6e-41cf-fdf0-fc712f1d6f16"
      },
      "execution_count": null,
      "outputs": [
        {
          "output_type": "stream",
          "name": "stdout",
          "text": [
            "[1, 2, 3, 4, 1, 3, 4, 5, 9]\n"
          ]
        }
      ]
    },
    {
      "cell_type": "markdown",
      "source": [
        "2) Repetition\n",
        "- The repetition operator is denoted by a symbol '*' symbol and is useful for repeating strings to a certain length"
      ],
      "metadata": {
        "id": "V09sX0JJ9um7"
      }
    },
    {
      "cell_type": "code",
      "source": [
        "a=[3,4,6,9,12]\n",
        "b=a*4\n",
        "print(b)"
      ],
      "metadata": {
        "colab": {
          "base_uri": "https://localhost:8080/"
        },
        "id": "8BWGbOAA-1rU",
        "outputId": "1145f735-a140-4458-eb5a-6438816c243d"
      },
      "execution_count": null,
      "outputs": [
        {
          "output_type": "stream",
          "name": "stdout",
          "text": [
            "[3, 4, 6, 9, 12, 3, 4, 6, 9, 12, 3, 4, 6, 9, 12, 3, 4, 6, 9, 12]\n"
          ]
        }
      ]
    },
    {
      "cell_type": "markdown",
      "source": [
        "#2) create 10 examples for list from different data types\n"
      ],
      "metadata": {
        "id": "qq2i7x8Lp2wl"
      }
    },
    {
      "cell_type": "code",
      "source": [
        "#examples\n",
        "#int\n",
        "int=[1,35,63,23,9,11,45,22]\n",
        "print(\"int\",int)\n",
        "#float\n",
        "float=[1.05,2.34,4.65,3.78,0.1,2.3,33.45]\n",
        "print(\"float\",float)\n",
        "#int and float\n",
        "int_float=[7,2.5,7,99.45,99,4.65,56]\n",
        "print(\"int_float\",int_float)\n",
        "#complex\n",
        "com=[9+2j,2+1j,9+22j,45+3.3j,22+0j]\n",
        "print(\"complex\",com)\n",
        "#string\n",
        "list=[\"rice\",\"oil\",\"soap\",\"sugar\",\"moondal\",\"tomato\",\"groundnut\",\"chillipowder\"]\n",
        "print(\"list\",list)\n",
        "#int_string\n",
        "int_string=[22,\"rice\",5,\"oil\",\"moondal\",54,32]\n",
        "print(\"int_sring\",int_string)\n",
        "#Boolean\n",
        "bool=[True,False,True,True,False]\n",
        "print(\"Boolean\",bool)\n",
        "name=[\"mallesh\",\"pavan\",\"yogesh\",\"kanna\",\"sathyam\"]\n",
        "print(\"name\",name)\n",
        "var=[24,5.45,\"yogesh\",\"pavan\",2+6j,8,True,False,(4+5j),(3.14+4.2j)]\n",
        "all=[24,3.45,'data_science',(4+7j),True,False,'apple']\n"
      ],
      "metadata": {
        "colab": {
          "base_uri": "https://localhost:8080/"
        },
        "id": "mVV3Ccq0qfOz",
        "outputId": "8944d94f-6488-4fc4-b38b-dac403fec4c2"
      },
      "execution_count": 17,
      "outputs": [
        {
          "output_type": "stream",
          "name": "stdout",
          "text": [
            "int [1, 35, 63, 23, 9, 11, 45, 22]\n",
            "float [1.05, 2.34, 4.65, 3.78, 0.1, 2.3, 33.45]\n",
            "int_float [7, 2.5, 7, 99.45, 99, 4.65, 56]\n",
            "complex [(9+2j), (2+1j), (9+22j), (45+3.3j), (22+0j)]\n",
            "list ['rice', 'oil', 'soap', 'sugar', 'moondal', 'tomato', 'groundnut', 'chillipowder']\n",
            "int_sring [22, 'rice', 5, 'oil', 'moondal', 54, 32]\n",
            "Boolean [True, False, True, True, False]\n",
            "name ['mallesh', 'pavan', 'yogesh', 'kanna', 'sathyam']\n"
          ]
        }
      ]
    },
    {
      "cell_type": "markdown",
      "source": [
        "#3) Create a list with 15 Elements you need to access each and every element from list both postive and negitive\n"
      ],
      "metadata": {
        "id": "tRKsgKWw6Kvg"
      }
    },
    {
      "cell_type": "code",
      "source": [
        "lodges=[\"akshara\",\"deepa\",\"laxmi\",\"sharadha\",\"kamadhenu\",\"devi\",\"krishana\",\"hirvani\",\"vnr\",\"gayathri\",\"manasa\",\"shindhu\",\"tjrao\",\"himaja\",\"harihara\"]\n",
        "#postive\n",
        "print(\"Index of 1 :\",lodges[1])\n",
        "print(\"Index of 7 :\",lodges[7])\n",
        "print(\"Index of 0 :\",lodges[0])\n",
        "print(\"Index of 14 :\",lodges[14])\n",
        "print(\"Index of 11 :\",lodges[11])\n",
        "#negative\n",
        "print(\"Index of -6 :\",lodges[-6])\n",
        "print(\"Index of -1 :\",lodges[-1])\n",
        "print(\"Index of -14 :\",lodges[-14])\n",
        "print(\"Index of -10 :\",lodges[-10])\n",
        "print(\"Index of -8 :\",lodges[-8])\n",
        "print(lodges)"
      ],
      "metadata": {
        "colab": {
          "base_uri": "https://localhost:8080/"
        },
        "id": "TWocFgQf8GT_",
        "outputId": "a13af359-ddaf-4d8b-d05b-6ff1f41c73b4"
      },
      "execution_count": 24,
      "outputs": [
        {
          "output_type": "stream",
          "name": "stdout",
          "text": [
            "Index of 1 : deepa\n",
            "Index of 7 : hirvani\n",
            "Index of 0 : akshara\n",
            "Index of 14 : harihara\n",
            "Index of 11 : shindhu\n",
            "Index of -6 : gayathri\n",
            "Index of -1 : harihara\n",
            "Index of -14 : deepa\n",
            "Index of -10 : devi\n",
            "Index of -8 : hirvani\n",
            "['akshara', 'deepa', 'laxmi', 'sharadha', 'kamadhenu', 'devi', 'krishana', 'hirvani', 'vnr', 'gayathri', 'manasa', 'shindhu', 'tjrao', 'himaja', 'harihara']\n"
          ]
        }
      ]
    },
    {
      "cell_type": "markdown",
      "source": [
        "#4) Apply slicing on 15 elements with positive and negitive index"
      ],
      "metadata": {
        "id": "PmLKRjsF_617"
      }
    },
    {
      "cell_type": "code",
      "source": [
        "lodges=[\"akshara\",\"deepa\",\"laxmi\",\"sharadha\",\"kamadhenu\",\"devi\",\"krishana\",\"hirvani\",\"vnr\",\"gayathri\",\"manasa\",\"shindhu\",\"tjrao\",\"himaja\",\"harihara\"]\n",
        "#slicing using positive index\n",
        "print(\"Index of 0 to 13 :\",lodges[0:13])\n",
        "print(\"Index of 3 to 7 :\",lodges[3:7])\n",
        "print(\"Index of 3 to end :\",lodges[3:15])\n",
        "print(\"Index of frist 4 :\",lodges[:4])\n",
        "print(\"Index of 34 :\",lodges[:34])\n",
        "#slicing using negative index\n",
        "print(\"Index of -7 to -3 :\",lodges[-7:-3])\n",
        "print(\"Index of -14 to -1 :\",lodges[-14:-1])\n",
        "print(\"Index of  first -2 :\",lodges[:-2])\n",
        "print(\"Index of -6 to -1  :\",lodges[-6:-1])\n",
        "print(\"Index of -35 :\",lodges[:-35])"
      ],
      "metadata": {
        "colab": {
          "base_uri": "https://localhost:8080/"
        },
        "id": "nWcKM0I8Ahhy",
        "outputId": "becbc38d-d5d7-492e-9027-5e5434ee3604"
      },
      "execution_count": 29,
      "outputs": [
        {
          "output_type": "stream",
          "name": "stdout",
          "text": [
            "Index of 0 to 13 : ['akshara', 'deepa', 'laxmi', 'sharadha', 'kamadhenu', 'devi', 'krishana', 'hirvani', 'vnr', 'gayathri', 'manasa', 'shindhu', 'tjrao']\n",
            "Index of 3 to 7 : ['sharadha', 'kamadhenu', 'devi', 'krishana']\n",
            "Index of 3 to end : ['sharadha', 'kamadhenu', 'devi', 'krishana', 'hirvani', 'vnr', 'gayathri', 'manasa', 'shindhu', 'tjrao', 'himaja', 'harihara']\n",
            "Index of frist 4 : ['akshara', 'deepa', 'laxmi', 'sharadha']\n",
            "Index of 34 : ['akshara', 'deepa', 'laxmi', 'sharadha', 'kamadhenu', 'devi', 'krishana', 'hirvani', 'vnr', 'gayathri', 'manasa', 'shindhu', 'tjrao', 'himaja', 'harihara']\n",
            "Index of -7 to -3 : ['vnr', 'gayathri', 'manasa', 'shindhu']\n",
            "Index of -14 to -1 : ['deepa', 'laxmi', 'sharadha', 'kamadhenu', 'devi', 'krishana', 'hirvani', 'vnr', 'gayathri', 'manasa', 'shindhu', 'tjrao', 'himaja']\n",
            "Index of  first -2 : ['akshara', 'deepa', 'laxmi', 'sharadha', 'kamadhenu', 'devi', 'krishana', 'hirvani', 'vnr', 'gayathri', 'manasa', 'shindhu', 'tjrao']\n",
            "Index of -6 to -1  : ['gayathri', 'manasa', 'shindhu', 'tjrao', 'himaja']\n",
            "Index of -35 : []\n"
          ]
        }
      ]
    },
    {
      "cell_type": "markdown",
      "source": [
        "#5)concatenation list 5 examples\n"
      ],
      "metadata": {
        "id": "9m8enC7NEgtg"
      }
    },
    {
      "cell_type": "code",
      "source": [
        "a=var+bool\n",
        "print(a)\n",
        "b=float+com\n",
        "print(b)\n",
        "c=int+float\n",
        "print(c)\n",
        "d=lodges+int_float\n",
        "print(d)\n",
        "e= name + all\n",
        "print(e)"
      ],
      "metadata": {
        "colab": {
          "base_uri": "https://localhost:8080/"
        },
        "id": "plO4OcKNErBs",
        "outputId": "94da00b9-5c1b-45d8-a7ff-2fd4ced902a3"
      },
      "execution_count": 36,
      "outputs": [
        {
          "output_type": "stream",
          "name": "stdout",
          "text": [
            "[24, 5.45, 'yogesh', 'pavan', (2+6j), 8, True, False, (4+5j), (3.14+4.2j), True, False, True, True, False]\n",
            "[1.05, 2.34, 4.65, 3.78, 0.1, 2.3, 33.45, (9+2j), (2+1j), (9+22j), (45+3.3j), (22+0j)]\n",
            "[1, 35, 63, 23, 9, 11, 45, 22, 1.05, 2.34, 4.65, 3.78, 0.1, 2.3, 33.45]\n",
            "['akshara', 'deepa', 'laxmi', 'sharadha', 'kamadhenu', 'devi', 'krishana', 'hirvani', 'vnr', 'gayathri', 'manasa', 'shindhu', 'tjrao', 'himaja', 'harihara', 7, 2.5, 7, 99.45, 99, 4.65, 56]\n",
            "['mallesh', 'pavan', 'yogesh', 'kanna', 'sathyam', 24, 3.45, 'data_science', (4+7j), True, False, 'apple']\n"
          ]
        }
      ]
    },
    {
      "cell_type": "markdown",
      "source": [
        "#6) repitation  list with five examples"
      ],
      "metadata": {
        "id": "O3mMuwgZGELk"
      }
    },
    {
      "cell_type": "code",
      "source": [
        "x=int*3\n",
        "print(x)\n",
        "y=var*7\n",
        "print(y)\n",
        "z=int+float\n",
        "a=z*4\n",
        "print(a)\n",
        "b=float*6\n",
        "print(b)\n",
        "c=name*4\n",
        "print(c)"
      ],
      "metadata": {
        "colab": {
          "base_uri": "https://localhost:8080/"
        },
        "id": "Z1lBJjj8GP5B",
        "outputId": "913b3a5d-b4b8-4fb6-b0b7-e2480b4aa913"
      },
      "execution_count": 38,
      "outputs": [
        {
          "output_type": "stream",
          "name": "stdout",
          "text": [
            "[1, 35, 63, 23, 9, 11, 45, 22, 1, 35, 63, 23, 9, 11, 45, 22, 1, 35, 63, 23, 9, 11, 45, 22]\n",
            "[24, 5.45, 'yogesh', 'pavan', (2+6j), 8, True, False, (4+5j), (3.14+4.2j), 24, 5.45, 'yogesh', 'pavan', (2+6j), 8, True, False, (4+5j), (3.14+4.2j), 24, 5.45, 'yogesh', 'pavan', (2+6j), 8, True, False, (4+5j), (3.14+4.2j), 24, 5.45, 'yogesh', 'pavan', (2+6j), 8, True, False, (4+5j), (3.14+4.2j), 24, 5.45, 'yogesh', 'pavan', (2+6j), 8, True, False, (4+5j), (3.14+4.2j), 24, 5.45, 'yogesh', 'pavan', (2+6j), 8, True, False, (4+5j), (3.14+4.2j), 24, 5.45, 'yogesh', 'pavan', (2+6j), 8, True, False, (4+5j), (3.14+4.2j)]\n",
            "[1, 35, 63, 23, 9, 11, 45, 22, 1.05, 2.34, 4.65, 3.78, 0.1, 2.3, 33.45, 1, 35, 63, 23, 9, 11, 45, 22, 1.05, 2.34, 4.65, 3.78, 0.1, 2.3, 33.45, 1, 35, 63, 23, 9, 11, 45, 22, 1.05, 2.34, 4.65, 3.78, 0.1, 2.3, 33.45, 1, 35, 63, 23, 9, 11, 45, 22, 1.05, 2.34, 4.65, 3.78, 0.1, 2.3, 33.45]\n",
            "[1.05, 2.34, 4.65, 3.78, 0.1, 2.3, 33.45, 1.05, 2.34, 4.65, 3.78, 0.1, 2.3, 33.45, 1.05, 2.34, 4.65, 3.78, 0.1, 2.3, 33.45, 1.05, 2.34, 4.65, 3.78, 0.1, 2.3, 33.45, 1.05, 2.34, 4.65, 3.78, 0.1, 2.3, 33.45, 1.05, 2.34, 4.65, 3.78, 0.1, 2.3, 33.45]\n",
            "['mallesh', 'pavan', 'yogesh', 'kanna', 'sathyam', 'mallesh', 'pavan', 'yogesh', 'kanna', 'sathyam', 'mallesh', 'pavan', 'yogesh', 'kanna', 'sathyam', 'mallesh', 'pavan', 'yogesh', 'kanna', 'sathyam']\n"
          ]
        }
      ]
    },
    {
      "cell_type": "markdown",
      "source": [
        "#7) modification of elements  in a a list of elements using index  and slicing"
      ],
      "metadata": {
        "id": "nd40iMSNHNkQ"
      }
    },
    {
      "cell_type": "code",
      "source": [
        "names = [\"ram\",\"raju\",\"sai\",\"ravi\",\"mani\",\"yogesh\",\"pavan\",\"shiva\",\"arun\",\"ganesh\",\"suraj\",\"mallesh\",\"vikram\",\"suresh\",\"ramesh\",\"amar\"]\n",
        "\n",
        "# index\n",
        "\n",
        "A = names.index (\"yogesh\")\n",
        "print(A)\n",
        "\n",
        "j = names.index (\"mani\")\n",
        "print(j)\n",
        "\n",
        "C = names.index (\"arun\")\n",
        "print(C)\n",
        "\n",
        "nn = names.index (\"suraj\")\n",
        "print(nn)\n",
        "\n",
        "E = names.index (\"vikram\")\n",
        "print(E)\n",
        "\n",
        "# slicing\n",
        "\n",
        "print(names[3:15])\n",
        "\n",
        "print(names[ :8])\n",
        "\n",
        "print(names[14: ])\n",
        "\n",
        "print(names[-12:-2])\n",
        "\n",
        "print(names[ :-11])\n",
        "\n",
        "print(names[-15: ])\n"
      ],
      "metadata": {
        "colab": {
          "base_uri": "https://localhost:8080/"
        },
        "id": "vx5-QcAnI2Jd",
        "outputId": "638471ca-b4b7-494e-cdd5-13fdb664fcd6"
      },
      "execution_count": 40,
      "outputs": [
        {
          "output_type": "stream",
          "name": "stdout",
          "text": [
            "5\n",
            "4\n",
            "8\n",
            "10\n",
            "12\n",
            "['ravi', 'mani', 'yogesh', 'pavan', 'shiva', 'arun', 'ganesh', 'suraj', 'mallesh', 'vikram', 'suresh', 'ramesh']\n",
            "['ram', 'raju', 'sai', 'ravi', 'mani', 'yogesh', 'pavan', 'shiva']\n",
            "['ramesh', 'amar']\n",
            "['mani', 'yogesh', 'pavan', 'shiva', 'arun', 'ganesh', 'suraj', 'mallesh', 'vikram', 'suresh']\n",
            "['ram', 'raju', 'sai', 'ravi', 'mani']\n",
            "['raju', 'sai', 'ravi', 'mani', 'yogesh', 'pavan', 'shiva', 'arun', 'ganesh', 'suraj', 'mallesh', 'vikram', 'suresh', 'ramesh', 'amar']\n"
          ]
        }
      ]
    },
    {
      "cell_type": "markdown",
      "source": [
        "5) List methods\n",
        "- There are mainly 9 methods\n",
        "- Which are used to change the list,add the element,subtract the element,modify the element\n",
        "- append(),extend(),insert(),remove(),pop(),index(),count(),sort(),reverse()\n",
        "1.append() :\n",
        "\n",
        "adds an element to the end of the list"
      ],
      "metadata": {
        "id": "IF5quDc0KNcZ"
      }
    },
    {
      "cell_type": "code",
      "source": [
        "numbers=[5,9,44,88]\n",
        "numbers.append(321)\n",
        "print(numbers)"
      ],
      "metadata": {
        "colab": {
          "base_uri": "https://localhost:8080/"
        },
        "id": "CLfzzye9LCYR",
        "outputId": "8657c497-d95c-4d06-d571-f607db356e1f"
      },
      "execution_count": 42,
      "outputs": [
        {
          "output_type": "stream",
          "name": "stdout",
          "text": [
            "[5, 9, 44, 88, 321]\n"
          ]
        }
      ]
    },
    {
      "cell_type": "markdown",
      "source": [
        "2.extend():\n",
        "\n",
        "- Appends elements from anaother list to the ends\n",
        "- it ends the list using another list"
      ],
      "metadata": {
        "id": "g-hjK9SALiCs"
      }
    },
    {
      "cell_type": "code",
      "source": [
        "numbers=[4,3,7,8]\n",
        "numbers1=[4,8,2,1,9,0,5]\n",
        "numbers.extend(numbers1)\n",
        "print(numbers)"
      ],
      "metadata": {
        "colab": {
          "base_uri": "https://localhost:8080/"
        },
        "id": "R9nQJzBrMDNH",
        "outputId": "3ca73d12-a257-4671-dfc2-21f1a634c2ec"
      },
      "execution_count": 44,
      "outputs": [
        {
          "output_type": "stream",
          "name": "stdout",
          "text": [
            "[4, 3, 7, 8, 4, 8, 2, 1, 9, 0, 5]\n"
          ]
        }
      ]
    },
    {
      "cell_type": "code",
      "source": [
        "numbers2=[5,8,1,0,4,2,54,1]\n",
        "numbers.extend(numbers2)\n",
        "print(numbers)"
      ],
      "metadata": {
        "colab": {
          "base_uri": "https://localhost:8080/"
        },
        "id": "o1iZDF5rLlqV",
        "outputId": "21e8e3b3-be9d-40ae-e74e-f49fd91b1638"
      },
      "execution_count": 43,
      "outputs": [
        {
          "output_type": "stream",
          "name": "stdout",
          "text": [
            "[5, 9, 44, 88, 321, 5, 8, 1, 0, 4, 2, 54, 1]\n"
          ]
        }
      ]
    },
    {
      "cell_type": "markdown",
      "source": [
        "2. insert():\n",
        "- inserts an element in a specific position"
      ],
      "metadata": {
        "id": "EjfZZwKsMJbO"
      }
    },
    {
      "cell_type": "code",
      "source": [
        "numbers=[7,5,3,8,66]\n",
        "numbers.insert(4,1)\n",
        "print(numbers)"
      ],
      "metadata": {
        "colab": {
          "base_uri": "https://localhost:8080/"
        },
        "id": "WckGZOXhMYZO",
        "outputId": "42669b05-7af8-4e4b-a055-3d4bad914baf"
      },
      "execution_count": 46,
      "outputs": [
        {
          "output_type": "stream",
          "name": "stdout",
          "text": [
            "[7, 5, 3, 8, 1, 66]\n"
          ]
        }
      ]
    },
    {
      "cell_type": "markdown",
      "source": [
        "4.remove() :\n",
        "\n",
        "- Removes the first occurence of a value"
      ],
      "metadata": {
        "id": "5X6cwsxVM0fO"
      }
    },
    {
      "cell_type": "code",
      "source": [
        "numbers=[2,4,7,9,1,3,6,11,5,8,]\n",
        "numbers.remove(2)\n",
        "print(numbers)"
      ],
      "metadata": {
        "colab": {
          "base_uri": "https://localhost:8080/"
        },
        "id": "Z0PAK7LCNBjK",
        "outputId": "80620733-e26c-4c4a-ae86-85238d07f509"
      },
      "execution_count": 47,
      "outputs": [
        {
          "output_type": "stream",
          "name": "stdout",
          "text": [
            "[4, 7, 9, 1, 3, 6, 11, 5, 8]\n"
          ]
        }
      ]
    },
    {
      "cell_type": "markdown",
      "source": [
        "5.pop():\n",
        "\n",
        "- Removes and returns an element at a specific index"
      ],
      "metadata": {
        "id": "_hHX4_zyNYXQ"
      }
    },
    {
      "cell_type": "code",
      "source": [
        "apple=[1,4,2,3,7,6,5,9,0,3,1,4,2]\n",
        "popped_apple = apple.pop(1)\n",
        "print(popped_apple)"
      ],
      "metadata": {
        "colab": {
          "base_uri": "https://localhost:8080/"
        },
        "id": "IgiYJMZONbkU",
        "outputId": "15b6ebad-0444-4383-8765-56229356845c"
      },
      "execution_count": 49,
      "outputs": [
        {
          "output_type": "stream",
          "name": "stdout",
          "text": [
            "4\n"
          ]
        }
      ]
    },
    {
      "cell_type": "markdown",
      "source": [
        "6.index() :\n",
        "\n",
        "- Gives the index number of particular element."
      ],
      "metadata": {
        "id": "Zolb_TDeOSu_"
      }
    },
    {
      "cell_type": "code",
      "source": [
        "numbers=[12,20,40,100,53,51,60,90,203]\n",
        "index=numbers.index(100)\n",
        "print(index)"
      ],
      "metadata": {
        "colab": {
          "base_uri": "https://localhost:8080/"
        },
        "id": "l4hsoh6UOgqO",
        "outputId": "e6b34c17-134f-4bb7-f3fd-7ef923b2a572"
      },
      "execution_count": 50,
      "outputs": [
        {
          "output_type": "stream",
          "name": "stdout",
          "text": [
            "3\n"
          ]
        }
      ]
    },
    {
      "cell_type": "markdown",
      "source": [
        "7.count() :\n",
        "\n",
        "- Returns the number of occurences of the exact value\n"
      ],
      "metadata": {
        "id": "OuER8zM9OnKv"
      }
    },
    {
      "cell_type": "code",
      "source": [
        "numbers=[3,2,1,6,5,4,3,2,1,9,0,8,6,4,4,5,2,1,0,2,3]\n",
        "count=numbers.count(3)\n",
        "print(count)"
      ],
      "metadata": {
        "colab": {
          "base_uri": "https://localhost:8080/"
        },
        "id": "YaRa91e5Ornv",
        "outputId": "9031ae68-454a-48bc-c62e-504c68d7e6db"
      },
      "execution_count": 51,
      "outputs": [
        {
          "output_type": "stream",
          "name": "stdout",
          "text": [
            "3\n"
          ]
        }
      ]
    },
    {
      "cell_type": "markdown",
      "source": [
        "8.sort() :\n",
        "\n",
        "- sorting the list in a ascending order.\n"
      ],
      "metadata": {
        "id": "_91YmC52O1Mr"
      }
    },
    {
      "cell_type": "code",
      "source": [
        "numbers=[3,2,1,6,5,4,3,2,1,9,0,8,6,4,4,5,2,1,0,2,3]\n",
        "numbers.sort()\n",
        "print(numbers)"
      ],
      "metadata": {
        "colab": {
          "base_uri": "https://localhost:8080/"
        },
        "id": "hy4UR5gaO3U1",
        "outputId": "be487ec8-3c0d-429b-dbcf-ded621e2bf79"
      },
      "execution_count": 52,
      "outputs": [
        {
          "output_type": "stream",
          "name": "stdout",
          "text": [
            "[0, 0, 1, 1, 1, 2, 2, 2, 2, 3, 3, 3, 4, 4, 4, 5, 5, 6, 6, 8, 9]\n"
          ]
        }
      ]
    },
    {
      "cell_type": "markdown",
      "source": [
        "9.reverse():\n",
        "\n",
        "reverse the order of the elements in the list"
      ],
      "metadata": {
        "id": "GUh6ypZhPBDP"
      }
    },
    {
      "cell_type": "code",
      "source": [
        "number=[1,4,3,2,0,5]\n",
        "number.reverse()\n",
        "print(number)"
      ],
      "metadata": {
        "colab": {
          "base_uri": "https://localhost:8080/"
        },
        "id": "V6bp-5B_PC1U",
        "outputId": "fe485aa8-c6bd-4595-b4fe-0a6cbc85cc24"
      },
      "execution_count": 53,
      "outputs": [
        {
          "output_type": "stream",
          "name": "stdout",
          "text": [
            "[5, 0, 2, 3, 4, 1]\n"
          ]
        }
      ]
    },
    {
      "cell_type": "markdown",
      "source": [
        "10.clear()\n",
        "- removes all the elements from the list and makes list empty\n",
        "- clear list can be represented with list.clear()"
      ],
      "metadata": {
        "id": "EwqVoU7WPr-Z"
      }
    },
    {
      "cell_type": "code",
      "source": [
        "a=[9,8,7,6,5,4,3,21,0]\n",
        "a.clear()\n",
        "print(a)"
      ],
      "metadata": {
        "colab": {
          "base_uri": "https://localhost:8080/"
        },
        "id": "PJm_NhceQKKU",
        "outputId": "e878b51c-af56-4d22-ac74-0156514a911b"
      },
      "execution_count": 54,
      "outputs": [
        {
          "output_type": "stream",
          "name": "stdout",
          "text": [
            "[]\n"
          ]
        }
      ]
    },
    {
      "cell_type": "markdown",
      "source": [
        "11. min():\n",
        "\n",
        "- Calculates the minimum of all the elements of the List"
      ],
      "metadata": {
        "id": "p3LWomoFQZ8f"
      }
    },
    {
      "cell_type": "code",
      "source": [
        "lst = [15, 3, 9, 2, 431]\n",
        "maximum= min(lst)\n",
        "print(maximum)"
      ],
      "metadata": {
        "colab": {
          "base_uri": "https://localhost:8080/"
        },
        "id": "UT0RLEWhQ8vO",
        "outputId": "3a7327ce-ea0b-44c5-b727-27f8e6576a61"
      },
      "execution_count": 56,
      "outputs": [
        {
          "output_type": "stream",
          "name": "stdout",
          "text": [
            "2\n"
          ]
        }
      ]
    },
    {
      "cell_type": "markdown",
      "source": [
        "12. max():\n",
        "\n",
        "- Calculates the maximum of all the elements of the List"
      ],
      "metadata": {
        "id": "dV2jOeZaRJFr"
      }
    },
    {
      "cell_type": "code",
      "source": [
        "a = [1, 5, 3, 9, 2]\n",
        "largest_value = max(a)\n",
        "print(largest_value)"
      ],
      "metadata": {
        "colab": {
          "base_uri": "https://localhost:8080/"
        },
        "id": "ZmNkL5smRL-j",
        "outputId": "c0d19c4b-1953-4815-c3dd-eb6b2ea2f7d4"
      },
      "execution_count": 57,
      "outputs": [
        {
          "output_type": "stream",
          "name": "stdout",
          "text": [
            "9\n"
          ]
        }
      ]
    },
    {
      "cell_type": "markdown",
      "source": [
        "13. copy():\n",
        "\n",
        "- returns the copy of a list"
      ],
      "metadata": {
        "id": "4mUgDfMhRVZO"
      }
    },
    {
      "cell_type": "code",
      "source": [
        "number=[12,0,53,5,3224]\n",
        "number.copy()\n",
        "print(number)\n"
      ],
      "metadata": {
        "colab": {
          "base_uri": "https://localhost:8080/"
        },
        "id": "SM7fyN3cRmlX",
        "outputId": "c97543dc-2ab5-46f8-cf42-361502ea9679"
      },
      "execution_count": 58,
      "outputs": [
        {
          "output_type": "stream",
          "name": "stdout",
          "text": [
            "[12, 0, 53, 5, 3224]\n"
          ]
        }
      ]
    }
  ]
}