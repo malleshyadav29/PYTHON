{
  "nbformat": 4,
  "nbformat_minor": 0,
  "metadata": {
    "colab": {
      "provenance": []
    },
    "kernelspec": {
      "name": "python3",
      "display_name": "Python 3"
    },
    "language_info": {
      "name": "python"
    }
  },
  "cells": [
    {
      "cell_type": "markdown",
      "source": [
        "#python introduction"
      ],
      "metadata": {
        "id": "BtTxMBl6x0uU"
      }
    },
    {
      "cell_type": "markdown",
      "source": [
        "1. WHAT IS PYTHON?\n",
        "- Python is a high-level,interpreted programming language known for its readability and simplicity,making it an excellent choice for beginner and experienced programmers.\n",
        "\n",
        "- Python is a versatile language that supports multiple programming paradigms,including procedural,object-oriented and functional programming, allowing developers to choose the best approch for their projects.\n",
        "\n",
        "- Python is an open source language, Python allows anyone to access and modify its source code, building a large community that contributes a wealth of libraries and tools."
      ],
      "metadata": {
        "id": "ieVXX-insRe2"
      }
    },
    {
      "cell_type": "markdown",
      "source": [
        "2. HISTORY OF PYTHON\n",
        "Python was invented in the late 1980s by Guido van Rossum at Centrum Wiskunde & Informatic (CWI) in the Netherland as a successor to the ABC programming language, which was in SETL, capable of exception handing and in terfacing with the Amoeba operating system.Its implementation began in december 1989.\n",
        "\n",
        "PYTHON VERSIONS\n",
        "\n",
        "1. Python 1.0 - Released in January 1994 -Initial release with core features.\n",
        "2. Python 1.5 - Released in December 1997 -Introduced important features like the 'lambda' keyword.\n",
        "3. Python 2.0 - Released in October 2000 -Added list comprehensions and garbage collection.\n",
        "4. Python 2.1 - Released in April 2001 -Introduced nested scopes and new syntax features.\n",
        "5. Python 2.7 - Released in July 2010 -Final release of the 2.x series, introducing features from 3.x\n",
        "6. Python 3.0 - Released in December 2001 -Major update that not backward-compatible -Introduced print function and better unicode support.\n",
        "7. Python 3.1 - Released in June 2009 -Improved I/O performance and added features for better usability.\n",
        "8. Python 3.6 - Released in December 2016 -Introduced formatted string literals (f-strings) and asynchronous generators.\n",
        "9. Python 3.7 - Released in June 2018 -Added data classes and bulit-in breakpoint functionality.\n",
        "10. Python 3.10 - Released in October 2021 -Introduced structural pattern matching and precise type hints."
      ],
      "metadata": {
        "id": "zMH_Y48LsnTh"
      }
    },
    {
      "cell_type": "markdown",
      "source": [
        "3. WHY WE NEED TO USE PYTHON?\n",
        "\n",
        "Python is commonly used for developing websites and software,task automation, data analysis and data visualisation. Since it's relatively easy to learn,Python has been adopted by many non-programmers,such as accouuntants and scientist for a variety of everyday tasks,like organsing finances."
      ],
      "metadata": {
        "id": "LIUrrdUJt6a1"
      }
    },
    {
      "cell_type": "markdown",
      "source": [
        "4. APPLICATIONS OF PYTHON\n",
        "\n",
        "1.Web Development: Frameworks like Django and Flask enable the rapid development of secure and scable web applications.\n",
        "\n",
        "2.Data Science and Machine Learning: Libraries sucj as Pandas,NumPy and scikit-learn are essential for datat analysis, manipilation and creating predictive models.\n",
        "\n",
        "3.Automation and Scripting: Python is widely used for automating repetitive tasks,such as data entry and web scraping,using tools like Selenium and Beautiful Soup.\n"
      ],
      "metadata": {
        "id": "1hx5_rKXuJV9"
      }
    },
    {
      "cell_type": "markdown",
      "source": [
        "5. PYTHON KEYWORDS\n",
        "\n",
        "Python Keywords are reserved words that have special meaning in the language. These keywords cannot be used as identifiers(names for variables,functions,etc).There are totally 35 keywords."
      ],
      "metadata": {
        "id": "XHzOFMf7vMVY"
      }
    },
    {
      "cell_type": "code",
      "source": [
        "import keyword\n",
        "\n",
        "#Get the list of Python Keywords\n",
        "python_keywords = keyword.kwlist\n",
        "\n",
        "# Display the list of Keywords\n",
        "print(python_keywords)"
      ],
      "metadata": {
        "colab": {
          "base_uri": "https://localhost:8080/"
        },
        "id": "xnGwGjzrvZhM",
        "outputId": "8809dda0-6584-4901-caf2-06ffbecf7cee"
      },
      "execution_count": 1,
      "outputs": [
        {
          "output_type": "stream",
          "name": "stdout",
          "text": [
            "['False', 'None', 'True', 'and', 'as', 'assert', 'async', 'await', 'break', 'class', 'continue', 'def', 'del', 'elif', 'else', 'except', 'finally', 'for', 'from', 'global', 'if', 'import', 'in', 'is', 'lambda', 'nonlocal', 'not', 'or', 'pass', 'raise', 'return', 'try', 'while', 'with', 'yield']\n"
          ]
        }
      ]
    },
    {
      "cell_type": "code",
      "source": [
        "len(python_keywords)\n",
        "#length of keywords"
      ],
      "metadata": {
        "colab": {
          "base_uri": "https://localhost:8080/"
        },
        "id": "3muRSsMBvvw7",
        "outputId": "b129514b-ec65-4f4c-a980-bd38bf20d180"
      },
      "execution_count": 2,
      "outputs": [
        {
          "output_type": "execute_result",
          "data": {
            "text/plain": [
              "35"
            ]
          },
          "metadata": {},
          "execution_count": 2
        }
      ]
    },
    {
      "cell_type": "markdown",
      "source": [
        "6. PYTHON COMMENTS\n",
        "\n",
        "Comments in Python are identified with a hash symbol,\"#\" and extend to the end of the line. Hash characters in a string are not considered comments. However, There are three ways to write a comment asa separate line,beside the corresponding statement of code as a multi-line comment block."
      ],
      "metadata": {
        "id": "TF_4ziz3wbvJ"
      }
    },
    {
      "cell_type": "code",
      "source": [
        "#Example for Comments\n",
        "#Welcome to Python Programming Language"
      ],
      "metadata": {
        "id": "O6NXyn3bwtH5"
      },
      "execution_count": 3,
      "outputs": []
    },
    {
      "cell_type": "markdown",
      "source": [
        "7. PYTHON VARIABLES\n",
        "A variable in Python is the name of a memory location that we use for storing data.\n",
        "\n",
        "Rules for Python variables:\n",
        "\n",
        "- A variable name must start with a letter ot the undrscore character.\n",
        "- A variable name cannot start with a number.\n",
        "- A variable name can only contain alpha-numeric characters and underscore(A-z,0-9,_)\n",
        "- Variable names are case-sensitive (age,Age and AGE are three differnt variables)\n",
        "- A variable name cannot be any of the Python Keywords."
      ],
      "metadata": {
        "id": "NsintSyDxDzT"
      }
    },
    {
      "cell_type": "code",
      "source": [
        "#Example valid variables\n",
        "ab = 5891\n",
        "a_b = 5892\n",
        "_a_b = 5893\n",
        "aB = 5894\n",
        "Ab = 5895\n",
        "AB = 5896\n",
        "ab2 = 5897\n",
        "AB2 = 5898\n",
        "a_b_c = 5899"
      ],
      "metadata": {
        "id": "zp_qHrjWxcEj"
      },
      "execution_count": null,
      "outputs": []
    },
    {
      "cell_type": "markdown",
      "source": [],
      "metadata": {
        "id": "VZJ9Gl0ww7HE"
      }
    },
    {
      "cell_type": "markdown",
      "source": [],
      "metadata": {
        "id": "h6qEoitwub-l"
      }
    }
  ]
}