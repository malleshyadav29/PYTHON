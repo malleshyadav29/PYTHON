{
  "nbformat": 4,
  "nbformat_minor": 0,
  "metadata": {
    "colab": {
      "provenance": []
    },
    "kernelspec": {
      "name": "python3",
      "display_name": "Python 3"
    },
    "language_info": {
      "name": "python"
    }
  },
  "cells": [
    {
      "cell_type": "markdown",
      "source": [
        "#1.python while looop:\n",
        "- while loop is used to run to used to run a block code untila certain conditions is met.\n",
        "- the syntax of while loop is:\n",
        "\n",
        "while condition : # body of while loop\n",
        "\n",
        "Here,\n",
        "\n",
        "- A while loop evaluates the condition\n",
        "- If the condition evaluates to true, the code inside the while loop is executed\n",
        "- Condition is evaluated again\n",
        "- this process continues until the condition is false.\n",
        "- when condition evaluates to false, the loop stops\n"
      ],
      "metadata": {
        "id": "RCTnp8UsDH70"
      }
    },
    {
      "cell_type": "code",
      "source": [
        "# program to display number from 1 to 5\n",
        "# initialize the variable\n",
        "i= 10\n",
        "# while loop from i = 1 to 5\n",
        "while i<= 50:\n",
        "  print(i)\n",
        "  i=i+10 # increment"
      ],
      "metadata": {
        "colab": {
          "base_uri": "https://localhost:8080/"
        },
        "id": "OvQHV89fdY9-",
        "outputId": "4b69812e-cdde-4c08-db57-0e349a84dac6"
      },
      "execution_count": null,
      "outputs": [
        {
          "output_type": "stream",
          "name": "stdout",
          "text": [
            "10\n",
            "20\n",
            "30\n",
            "40\n",
            "50\n"
          ]
        }
      ]
    },
    {
      "cell_type": "markdown",
      "source": [
        "#2.For loop\n",
        "\n",
        "- the for loop is used for iterates over the sequence of the data(that is either a list, tuple, dictionary, string (or) orange).\n",
        "\n",
        "- outps will always be given in vertical format\n",
        "\n",
        "- syntax :\n",
        "\n",
        "for val in sequence : #statement\n",
        "\n",
        "here,value access each item of the sequence on each iteration\n",
        "\n",
        "the loop continues until we reach the last item in the sequence\n"
      ],
      "metadata": {
        "id": "5b00f4kFfbmZ"
      }
    },
    {
      "cell_type": "code",
      "source": [
        "#string\n",
        "a=\"python\"\n",
        "for i in a:\n",
        "  print (i)"
      ],
      "metadata": {
        "colab": {
          "base_uri": "https://localhost:8080/"
        },
        "id": "36cXhPopy0FM",
        "outputId": "7d2aab4b-86f0-4c51-e872-8830ec2d776d"
      },
      "execution_count": null,
      "outputs": [
        {
          "output_type": "stream",
          "name": "stdout",
          "text": [
            "p\n",
            "y\n",
            "t\n",
            "h\n",
            "o\n",
            "n\n"
          ]
        }
      ]
    },
    {
      "cell_type": "code",
      "source": [
        "#list data\n",
        "h=[\"A\",\"B\",\"c\"]\n",
        "for x in h:\n",
        "   print (x)"
      ],
      "metadata": {
        "colab": {
          "base_uri": "https://localhost:8080/"
        },
        "id": "Zez28EYkzUwE",
        "outputId": "72f2b5e1-2f9a-450e-ffdf-7721096759e8"
      },
      "execution_count": null,
      "outputs": [
        {
          "output_type": "stream",
          "name": "stdout",
          "text": [
            "A\n",
            "B\n",
            "c\n"
          ]
        }
      ]
    },
    {
      "cell_type": "code",
      "source": [
        "#tuple\n",
        "tup=(\"hello\",\"world\",\"datascience\")\n",
        "for i in tup:\n",
        "    print(i)"
      ],
      "metadata": {
        "colab": {
          "base_uri": "https://localhost:8080/"
        },
        "id": "8VnBcGXW23qA",
        "outputId": "c8784c19-cd97-4417-9d61-5a1ecfd2c64f"
      },
      "execution_count": null,
      "outputs": [
        {
          "output_type": "stream",
          "name": "stdout",
          "text": [
            "hello\n",
            "world\n",
            "datascience\n"
          ]
        }
      ]
    },
    {
      "cell_type": "code",
      "source": [
        "dict = {\"name\":\"teks\",\"Age\":4,\"location\":\"hi-tech city\"}\n",
        "\n",
        "for key,values in dict.items():\n",
        "    print(key,values)"
      ],
      "metadata": {
        "colab": {
          "base_uri": "https://localhost:8080/"
        },
        "id": "AOG8T95i3vux",
        "outputId": "3f94cdee-06a7-4d08-dfcb-4d339177141e"
      },
      "execution_count": null,
      "outputs": [
        {
          "output_type": "stream",
          "name": "stdout",
          "text": [
            "name teks\n",
            "Age 4\n",
            "location hi-tech city\n"
          ]
        }
      ]
    },
    {
      "cell_type": "code",
      "source": [
        "dict =  {\"name\":\"teks\",\"Age\":4,\"location\":\"hi-tech city\"}\n",
        "for key,value in dict.items():\n",
        "    print(f\"key is {key} and value is {value}\")"
      ],
      "metadata": {
        "colab": {
          "base_uri": "https://localhost:8080/"
        },
        "id": "TeSJFDT04OCH",
        "outputId": "5d4d8634-4a39-464b-e946-a29ca820e93b"
      },
      "execution_count": null,
      "outputs": [
        {
          "output_type": "stream",
          "name": "stdout",
          "text": [
            "key is name and value is teks\n",
            "key is Age and value is 4\n",
            "key is location and value is hi-tech city\n"
          ]
        }
      ]
    },
    {
      "cell_type": "code",
      "source": [
        "# Find the even nnumber and odd number in list\n",
        "number =[1,2,3,4,5,6,7,8,9]\n",
        "for i in number:\n",
        "  if i % 2 ==0:\n",
        "    print(i,\"even number\")\n",
        "  else:\n",
        "    print(i,\"odd number\")"
      ],
      "metadata": {
        "colab": {
          "base_uri": "https://localhost:8080/"
        },
        "id": "Luloz8F35RrX",
        "outputId": "09a688f4-ebe5-4544-f8c1-16c77970d188"
      },
      "execution_count": null,
      "outputs": [
        {
          "output_type": "stream",
          "name": "stdout",
          "text": [
            "1 odd number\n",
            "2 even number\n",
            "3 odd number\n",
            "4 even number\n",
            "5 odd number\n",
            "6 even number\n",
            "7 odd number\n",
            "8 even number\n",
            "9 odd number\n"
          ]
        }
      ]
    },
    {
      "cell_type": "code",
      "source": [
        "#vote eligibility\n",
        "\n",
        "age=[12,56,34,7,84,5,23,78,18]\n",
        "for i in age :\n",
        "  if i >=18:\n",
        "    print(\"vote\",i)\n",
        "  else :\n",
        "    print(\"not vote\",i)"
      ],
      "metadata": {
        "colab": {
          "base_uri": "https://localhost:8080/"
        },
        "id": "3BvNHT3t6uII",
        "outputId": "5d101d52-514a-4aa6-e3f5-4083acd76b2d"
      },
      "execution_count": null,
      "outputs": [
        {
          "output_type": "stream",
          "name": "stdout",
          "text": [
            "not vote 12\n",
            "vote 56\n",
            "vote 34\n",
            "not vote 7\n",
            "vote 84\n",
            "not vote 5\n",
            "vote 23\n",
            "vote 78\n",
            "vote 18\n"
          ]
        }
      ]
    },
    {
      "cell_type": "markdown",
      "source": [
        "#1Q:  write a python program to check given year is leap or not"
      ],
      "metadata": {
        "id": "t9V--kBm_-rm"
      }
    },
    {
      "cell_type": "code",
      "source": [
        "year=[2002,2003,2004,2005,2006,2007]\n",
        "for y in year:\n",
        "    if y % 4==0:\n",
        "      print(f\"{y}leap year\")\n",
        "    else:\n",
        "      print(f\"{y} not leap year\")"
      ],
      "metadata": {
        "colab": {
          "base_uri": "https://localhost:8080/"
        },
        "id": "l1uFfcMn_6sR",
        "outputId": "86dd9152-ff6a-4a5e-cb50-9650778135bc"
      },
      "execution_count": null,
      "outputs": [
        {
          "output_type": "stream",
          "name": "stdout",
          "text": [
            "2002 not leap year\n",
            "2003 not leap year\n",
            "2004leap year\n",
            "2005 not leap year\n",
            "2006 not leap year\n",
            "2007 not leap year\n"
          ]
        }
      ]
    },
    {
      "cell_type": "markdown",
      "source": [
        "#2Q: python program to find a given number even or odd"
      ],
      "metadata": {
        "id": "WSYo6ebSDexl"
      }
    },
    {
      "cell_type": "code",
      "source": [
        "numbers = 11,22,33,44,55,66,77,88,99\n",
        "\n",
        "for i in numbers:\n",
        "    if i%2==0:\n",
        "        print(f\"{i} is even\")\n",
        "    else:\n",
        "        print(f\"{i} is odd\")"
      ],
      "metadata": {
        "colab": {
          "base_uri": "https://localhost:8080/"
        },
        "id": "cfy4W2b6Dk3j",
        "outputId": "76e53a6b-4518-47d2-cd5e-23251bc71068"
      },
      "execution_count": null,
      "outputs": [
        {
          "output_type": "stream",
          "name": "stdout",
          "text": [
            "11 is odd\n",
            "22 is even\n",
            "33 is odd\n",
            "44 is even\n",
            "55 is odd\n",
            "66 is even\n",
            "77 is odd\n",
            "88 is even\n",
            "99 is odd\n"
          ]
        }
      ]
    },
    {
      "cell_type": "markdown",
      "source": [
        "#3Q: python program to check if a list is empty or not"
      ],
      "metadata": {
        "id": "0sXUNOEaD4zY"
      }
    },
    {
      "cell_type": "code",
      "source": [
        "lst = []\n",
        "\n",
        "for item in lst:\n",
        "    print(\"The list is not empty.\")\n",
        "    break\n",
        "else:\n",
        "    print(\"The list is empty.\")"
      ],
      "metadata": {
        "colab": {
          "base_uri": "https://localhost:8080/"
        },
        "id": "nmpZCI8LD_gx",
        "outputId": "599d090c-a022-4b4b-ddf6-20660f060615"
      },
      "execution_count": null,
      "outputs": [
        {
          "output_type": "stream",
          "name": "stdout",
          "text": [
            "The list is empty.\n"
          ]
        }
      ]
    },
    {
      "cell_type": "markdown",
      "source": [
        "#4Q: python program to calculate grade of a students"
      ],
      "metadata": {
        "id": "4JiIjw21EGaQ"
      }
    },
    {
      "cell_type": "code",
      "source": [
        "\n",
        "\n",
        "# Split the string into individual grade strings and convert to integers\n",
        "grades = [32,78,87,97,65,87]\n",
        "\n",
        "#Splitting the string into individual grade strings.\n",
        "#Stripping whitespace from each grade string.\n",
        "\n",
        "for mark in grades:\n",
        "    if mark >= 90:\n",
        "        print(f\"{mark}: A\")\n",
        "    elif mark >= 80:\n",
        "        print(f\"{mark}: B\")\n",
        "    elif mark >= 70:\n",
        "        print(f\"{mark}: C\")\n",
        "    elif mark >= 60:\n",
        "        print(f\"{mark}: D\")\n",
        "    elif mark >= 50:\n",
        "        print(f\"{mark}: E\")\n",
        "    else:\n",
        "        print(f\"{mark}: F\")"
      ],
      "metadata": {
        "colab": {
          "base_uri": "https://localhost:8080/"
        },
        "id": "b9GkMwDvEhvO",
        "outputId": "d3c72780-91ab-4fa3-a4c4-872520c37a4f"
      },
      "execution_count": null,
      "outputs": [
        {
          "output_type": "stream",
          "name": "stdout",
          "text": [
            "32: F\n",
            "78: C\n",
            "87: B\n",
            "97: A\n",
            "65: D\n",
            "87: B\n"
          ]
        }
      ]
    },
    {
      "cell_type": "markdown",
      "source": [
        "#5Q: check whether given word is a palindrome or not"
      ],
      "metadata": {
        "id": "G2t2AzCGTohk"
      }
    },
    {
      "cell_type": "code",
      "source": [
        "word = input(\"Enter your word: \")\n",
        "for i in word:\n",
        "    if word ==i:\n",
        "        print(\"The word is a palindrome.\")\n",
        "    else:\n",
        "        print(\"The word is not a palindrome.\")\n",
        ""
      ],
      "metadata": {
        "colab": {
          "base_uri": "https://localhost:8080/"
        },
        "id": "pJAer9h3UB1x",
        "outputId": "d48e7129-105c-47bc-85e1-dc49509abe6b"
      },
      "execution_count": 4,
      "outputs": [
        {
          "output_type": "stream",
          "name": "stdout",
          "text": [
            "Enter your word: mom\n",
            "The word is not a palindrome.\n",
            "The word is not a palindrome.\n",
            "The word is not a palindrome.\n"
          ]
        }
      ]
    },
    {
      "cell_type": "markdown",
      "source": [
        "#6Q.write a python program to find the smallest among the three number"
      ],
      "metadata": {
        "id": "LTtyRRvgUoBZ"
      }
    },
    {
      "cell_type": "code",
      "source": [
        "smallest = float('inf')\n",
        "\n",
        "for i in range(3):\n",
        "    num = int(input(f\"Enter number {i + 1}: \"))\n",
        "    if num < smallest:\n",
        "        smallest = num\n",
        "\n",
        "print(f\"The smallest number is: {smallest}\")"
      ],
      "metadata": {
        "colab": {
          "base_uri": "https://localhost:8080/"
        },
        "id": "NoifSMPgWJYI",
        "outputId": "e9206571-53ce-49dc-8676-4145092a6763"
      },
      "execution_count": 17,
      "outputs": [
        {
          "output_type": "stream",
          "name": "stdout",
          "text": [
            "Enter number 1: 7\n",
            "Enter number 2: 5\n",
            "Enter number 3: 9\n",
            "The smallest number is: 5\n"
          ]
        }
      ]
    },
    {
      "cell_type": "markdown",
      "source": [
        "#7Q.find the second largest number in a list"
      ],
      "metadata": {
        "id": "gOjtuDubYMMX"
      }
    },
    {
      "cell_type": "code",
      "source": [
        "my_list = [9,4,7,8]\n",
        "largest = second_largest = 0\n",
        "\n",
        "for num in my_list:\n",
        "    if num > largest:\n",
        "        second_largest = largest\n",
        "        largest = num\n",
        "    else:\n",
        "        second_largest = num\n",
        "\n",
        "print(second_largest)\n"
      ],
      "metadata": {
        "colab": {
          "base_uri": "https://localhost:8080/"
        },
        "id": "a2pXgL0vYL3E",
        "outputId": "c5f60da4-75ca-46f6-f24a-1ed10b806284"
      },
      "execution_count": 20,
      "outputs": [
        {
          "output_type": "stream",
          "name": "stdout",
          "text": [
            "8\n"
          ]
        }
      ]
    },
    {
      "cell_type": "markdown",
      "source": [
        "#8Q.calculate Body Mass Index and categorize it"
      ],
      "metadata": {
        "id": "vc1Ivt5lYqO-"
      }
    },
    {
      "cell_type": "code",
      "source": [
        "n=0\n",
        "weight = float(input(\"Enter weight : \"))\n",
        "height = float(input(\"Enter height : \"))\n",
        "\n",
        "for n in range(1):  # Loop runs only once\n",
        "    bmi = weight / (height ** 2)\n",
        "    if bmi < 18.5:\n",
        "        category = \"Underweight\"\n",
        "    elif 18.5 <= bmi < 24.9:\n",
        "        category = \"Normal weight\"\n",
        "    elif 25 <= bmi < 29.9:\n",
        "        category = \"Overweight\"\n",
        "    else:\n",
        "        category = \"Obesity\"\n",
        "    print(f\"Weight: {weight} , Height: {height} , Category: {category}\")"
      ],
      "metadata": {
        "colab": {
          "base_uri": "https://localhost:8080/"
        },
        "id": "QkSxMr1sYzxr",
        "outputId": "71c43cce-d671-42dc-d71d-d7a357cb3408"
      },
      "execution_count": 23,
      "outputs": [
        {
          "output_type": "stream",
          "name": "stdout",
          "text": [
            "Enter weight : 67\n",
            "Enter height : 5.2\n",
            "Weight: 67.0 , Height: 5.2 , Category: Underweight\n"
          ]
        }
      ]
    },
    {
      "cell_type": "markdown",
      "source": [
        "#9Q:.python program to check vote eligiblity"
      ],
      "metadata": {
        "id": "E-R0FOXnZPfO"
      }
    },
    {
      "cell_type": "code",
      "source": [
        "age = [8,34,66,11,17,18,7]\n",
        "\n",
        "for n in age:\n",
        "    if n >= 18:\n",
        "        print(f\"Age {n} is  eligible\")\n",
        "    else:\n",
        "        print(f\"Age {n} is not eligible\")"
      ],
      "metadata": {
        "colab": {
          "base_uri": "https://localhost:8080/"
        },
        "id": "dBqyYt9FZXzN",
        "outputId": "ab3cb8c8-4e1d-43da-a9c4-59eb33b1f33a"
      },
      "execution_count": 25,
      "outputs": [
        {
          "output_type": "stream",
          "name": "stdout",
          "text": [
            "Age 8 is not eligible\n",
            "Age 34 is  eligible\n",
            "Age 66 is  eligible\n",
            "Age 11 is not eligible\n",
            "Age 17 is not eligible\n",
            "Age 18 is  eligible\n",
            "Age 7 is not eligible\n"
          ]
        }
      ]
    },
    {
      "cell_type": "markdown",
      "source": [
        "#10Q:python program to find the person age belong to which group"
      ],
      "metadata": {
        "id": "Pxff86KUZlYD"
      }
    },
    {
      "cell_type": "code",
      "source": [
        "i = 0\n",
        "age = int(input(\"Enter your age: \"))\n",
        "for i in range(1):\n",
        "    if age <= 22:\n",
        "        print(f\"Age {age} is School group\")\n",
        "    elif age > 22 and age <= 50:\n",
        "        print(f\"Age {age} is Work group\")\n",
        "    else:\n",
        "        print(f\"Age {age} is  Retire group\")"
      ],
      "metadata": {
        "colab": {
          "base_uri": "https://localhost:8080/"
        },
        "id": "qp5oj_PaZpyr",
        "outputId": "8daeaf9c-037b-4e52-957f-e3b0c090b91a"
      },
      "execution_count": 26,
      "outputs": [
        {
          "output_type": "stream",
          "name": "stdout",
          "text": [
            "Enter your age: 22\n",
            "Age 22 is School group\n"
          ]
        }
      ]
    },
    {
      "cell_type": "markdown",
      "source": [
        "# control statement:control flow of outpur\n",
        "**1)pass**\n",
        "- In python, the pass statement is used when the programmer wants to by pass any coding segment."
      ],
      "metadata": {
        "id": "zxMMEv42Z1BE"
      }
    },
    {
      "cell_type": "code",
      "source": [
        "#example\n",
        "num=[1,2,3,4,5,6]\n",
        "for i in num:\n",
        " if i == 3:\n",
        "        pass\n",
        " else:\n",
        "     print(i)"
      ],
      "metadata": {
        "colab": {
          "base_uri": "https://localhost:8080/"
        },
        "id": "17AW1UkQaWnK",
        "outputId": "d5f5a042-6846-4f17-a380-9aae02c6ccee"
      },
      "execution_count": 44,
      "outputs": [
        {
          "output_type": "stream",
          "name": "stdout",
          "text": [
            "1\n",
            "2\n",
            "4\n",
            "5\n",
            "6\n"
          ]
        }
      ]
    },
    {
      "cell_type": "markdown",
      "source": [
        "**2)continue**:\n",
        "# - python continue statement is a loop control statement that forces to execute the next iteration of the loop while skipping the rest of the code inside the loop for the current iteration only."
      ],
      "metadata": {
        "id": "yQDl2aB2bD5c"
      }
    },
    {
      "cell_type": "code",
      "source": [
        "#example\n",
        "num=[1,2,3,4,5,6]\n",
        "for i in num:\n",
        " if i == 5:\n",
        "        continue\n",
        " else:\n",
        "     print(i)"
      ],
      "metadata": {
        "colab": {
          "base_uri": "https://localhost:8080/"
        },
        "id": "yeJtn2k6b4Nd",
        "outputId": "f6d2e544-9b48-4d7b-9e7e-ce66a3539d05"
      },
      "execution_count": 45,
      "outputs": [
        {
          "output_type": "stream",
          "name": "stdout",
          "text": [
            "1\n",
            "2\n",
            "3\n",
            "4\n",
            "6\n"
          ]
        }
      ]
    },
    {
      "cell_type": "markdown",
      "source": [
        "**3)break:**\n",
        "- the break statement is a control flow statement in python that allows you to exit a loop early when a certain condition is met:\n"
      ],
      "metadata": {
        "id": "5yDvOGSIb--z"
      }
    },
    {
      "cell_type": "code",
      "source": [
        "#example\n",
        "num=[1,2,3,4,5,6]\n",
        "for i in num:\n",
        " if i == 3:\n",
        "        break\n",
        " else:\n",
        "     print(i)"
      ],
      "metadata": {
        "colab": {
          "base_uri": "https://localhost:8080/"
        },
        "id": "IbHaT-dtciOE",
        "outputId": "60c41e60-d7a5-438f-e70e-ee02307b8448"
      },
      "execution_count": 46,
      "outputs": [
        {
          "output_type": "stream",
          "name": "stdout",
          "text": [
            "1\n",
            "2\n"
          ]
        }
      ]
    },
    {
      "cell_type": "code",
      "source": [
        "#example:\n",
        "for i in range (0,21):\n",
        " if i == 7:\n",
        "     pass\n",
        " elif i==14:\n",
        "    break\n",
        " else:\n",
        "      print(i)"
      ],
      "metadata": {
        "colab": {
          "base_uri": "https://localhost:8080/"
        },
        "id": "466dQVJicpvw",
        "outputId": "d5a073c3-a695-44e7-e807-0c6dcb37db0c"
      },
      "execution_count": 52,
      "outputs": [
        {
          "output_type": "stream",
          "name": "stdout",
          "text": [
            "0\n",
            "1\n",
            "2\n",
            "3\n",
            "4\n",
            "5\n",
            "6\n",
            "8\n",
            "9\n",
            "10\n",
            "11\n",
            "12\n",
            "13\n"
          ]
        }
      ]
    }
  ]
}