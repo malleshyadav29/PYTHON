{
  "cells": [
    {
      "cell_type": "markdown",
      "metadata": {
        "id": "htbG1S08WgJB"
      },
      "source": [
        "#**OOPS** :\n",
        "- Object Oriented Programming Language\n",
        "- It deals with real world objects\n",
        "- there are 4 pillars for oops\n",
        "\n",
        "     - Inheritence\n",
        "\n",
        "     - abstarction\n",
        "\n",
        "     - polymorphism\n",
        "\n",
        "     - encapsulation\n",
        "\n",
        "- and there are classes and objects in oops\n",
        "\n",
        "**OOPS**:  bind the data and the functions that work together as a single unit so that no other part of the code can access the data .\n",
        "\n",
        "#Class:\n",
        "- collection of objects\n",
        "- conatins the blueprint or the prototypes of the objects\n",
        "- in one class we can wirte n no. of functions\n",
        "- syntax: classname():\n",
        "#Object:\n",
        "- which is behaviour and state associated in it\n",
        "- it is a instence of the class"
      ]
    },
    {
      "cell_type": "code",
      "execution_count": 1,
      "metadata": {
        "id": "HXNJkOOkYKgY",
        "colab": {
          "base_uri": "https://localhost:8080/"
        },
        "outputId": "ca23bf6b-f103-4a3a-a7dd-3549ddef0d1b"
      },
      "outputs": [
        {
          "output_type": "stream",
          "name": "stdout",
          "text": [
            "5\n",
            "hello\n"
          ]
        }
      ],
      "source": [
        "class myclass:\n",
        "    x=5\n",
        "    u=\"hello\"\n",
        "obj1=myclass()\n",
        "print(obj1.x)\n",
        "print(obj1.u)"
      ]
    },
    {
      "cell_type": "code",
      "execution_count": null,
      "metadata": {
        "colab": {
          "background_save": true
        },
        "id": "fpPXfOnTYMYk",
        "outputId": "4bd2b477-a715-4881-b2a1-77712377ac6c"
      },
      "outputs": [
        {
          "name": "stdout",
          "output_type": "stream",
          "text": [
            "welcome to data science class at 5:30pm\n"
          ]
        }
      ],
      "source": [
        "class data:\n",
        "    d=\"welcome to data science class at 5:30pm\"\n",
        "obj=data()\n",
        "print(obj.d)"
      ]
    },
    {
      "cell_type": "code",
      "execution_count": 3,
      "metadata": {
        "id": "5jgSCK_6Y68B",
        "colab": {
          "base_uri": "https://localhost:8080/"
        },
        "outputId": "b7271cbe-c147-49d7-e5e5-a6f11a4e0955"
      },
      "outputs": [
        {
          "output_type": "stream",
          "name": "stdout",
          "text": [
            "my name is mallesh\n"
          ]
        }
      ],
      "source": [
        "class name:\n",
        "    s=\"my name is mallesh\"\n",
        "a=name()\n",
        "print(a.s)"
      ]
    },
    {
      "cell_type": "code",
      "execution_count": 4,
      "metadata": {
        "id": "cVhWridNY-Z6",
        "colab": {
          "base_uri": "https://localhost:8080/"
        },
        "outputId": "2546bbc3-0829-412f-98a2-a9f2d1f7402e"
      },
      "outputs": [
        {
          "output_type": "stream",
          "name": "stdout",
          "text": [
            "max is 5 years old\n"
          ]
        }
      ],
      "source": [
        "class Dog:\n",
        "    def __init__(self,name,age):\n",
        "        self.name=name\n",
        "        self.age=age\n",
        "    def bark(self):\n",
        "        print(\"bow bow\")\n",
        "\n",
        "dog1=Dog(\"max\",5)\n",
        "print(f'{dog1.name} is {dog1.age} years old')"
      ]
    },
    {
      "cell_type": "code",
      "execution_count": 5,
      "metadata": {
        "id": "Z5-AVRXtZBv6",
        "colab": {
          "base_uri": "https://localhost:8080/"
        },
        "outputId": "56794f19-aaae-46b7-e65d-c24014ed49f1"
      },
      "outputs": [
        {
          "output_type": "stream",
          "name": "stdout",
          "text": [
            "Buddy is 6 years old\n"
          ]
        }
      ],
      "source": [
        "dog2=Dog(\"Buddy\",6)\n",
        "print(f'{dog2.name} is {dog2.age} years old')\n"
      ]
    },
    {
      "cell_type": "code",
      "execution_count": 6,
      "metadata": {
        "colab": {
          "base_uri": "https://localhost:8080/"
        },
        "id": "cuMiAm0aZC69",
        "outputId": "88135cd5-9b22-48ad-c8f1-92442b63a676"
      },
      "outputs": [
        {
          "output_type": "stream",
          "name": "stdout",
          "text": [
            "bow bow\n"
          ]
        }
      ],
      "source": [
        "dog1.bark()"
      ]
    },
    {
      "cell_type": "code",
      "execution_count": 7,
      "metadata": {
        "id": "4_IjD-qTZKrY",
        "colab": {
          "base_uri": "https://localhost:8080/"
        },
        "outputId": "78424ded-ae6a-4a67-b3da-2ed95f8ec5f1"
      },
      "outputs": [
        {
          "output_type": "stream",
          "name": "stdout",
          "text": [
            "bow bow\n"
          ]
        }
      ],
      "source": [
        "dog2.bark()\n"
      ]
    },
    {
      "cell_type": "code",
      "execution_count": 8,
      "metadata": {
        "id": "etnuES4YZO1M"
      },
      "outputs": [],
      "source": [
        "class Hospital:\n",
        "    def __init__(self,name, disease):\n",
        "        self.name = name\n",
        "        self.disease = disease\n",
        "\n",
        "    def die(self):\n",
        "        print(\"gone\")"
      ]
    },
    {
      "cell_type": "code",
      "execution_count": 10,
      "metadata": {
        "id": "ST7lKlNQZSC-",
        "colab": {
          "base_uri": "https://localhost:8080/"
        },
        "outputId": "0698c7e4-d660-4147-e240-0b1eff733410"
      },
      "outputs": [
        {
          "output_type": "stream",
          "name": "stdout",
          "text": [
            "diabetes had gone at the age of 90\n"
          ]
        }
      ],
      "source": [
        "a=Hospital(\"diabetes\",90)\n",
        "print(f'{a.name} had gone at the age of {a.disease}')"
      ]
    },
    {
      "cell_type": "code",
      "execution_count": 11,
      "metadata": {
        "id": "z95hkM5eZV5j",
        "colab": {
          "base_uri": "https://localhost:8080/"
        },
        "outputId": "42277d99-d21f-46f0-fd7c-428a345d42b0"
      },
      "outputs": [
        {
          "output_type": "stream",
          "name": "stdout",
          "text": [
            "student name is kanna and 20 years old\n",
            "student name is yogesh and 19 years old\n"
          ]
        }
      ],
      "source": [
        "class student:\n",
        "    def __init__(self,name,age):\n",
        "        self.name=name\n",
        "        self.age=age\n",
        "\n",
        "s1=student(\"kanna\",20)\n",
        "s2=student(\"yogesh\",19)\n",
        "print(f'student name is {s1.name} and {s1.age} years old')\n",
        "print(f'student name is {s2.name} and {s2.age} years old')"
      ]
    },
    {
      "cell_type": "markdown",
      "metadata": {
        "id": "T-M44v0_amP6"
      },
      "source": [
        "#**Encapsulation**:\n",
        "- wrapping the data and methods in a single unit\n",
        "\n",
        "- used for security purpose\n",
        "\n",
        "- helps to achieve data hiding\n",
        "\n",
        "- we denote attributes using underscore(_)\n",
        "\n",
        "- we have three types here:\n",
        "\n",
        "public/private\n",
        "\n",
        "protect\n",
        "\n",
        "- for proctectiong we use single underscore(_)\n",
        "- for private and public we use double underscore(__)\n",
        "\n",
        "- private can be used only in particular class\n",
        "- we as protect can be used in everywhere when the inheritence is done"
      ]
    },
    {
      "cell_type": "code",
      "execution_count": 21,
      "metadata": {
        "id": "v5d_j_lAbN55"
      },
      "outputs": [],
      "source": [
        "class Demo:\n",
        "    def __init__(self, a, b):\n",
        "        self.__a = a\n",
        "        self._b = b\n",
        "\n",
        "    def output(self):\n",
        "        print(self._b)\n",
        "        print(self.__a)\n",
        "\n",
        "\n",
        "class Demo1(Demo):\n",
        "    def input(self):\n",
        "        print(self._b)\n",
        "\n",
        "    def private(self):\n",
        "        print(self.__a)"
      ]
    },
    {
      "cell_type": "code",
      "execution_count": 22,
      "metadata": {
        "colab": {
          "base_uri": "https://localhost:8080/"
        },
        "id": "vF6h7D7QbPDj",
        "outputId": "acf523f2-7ee1-4a8f-b11e-d73de0bcfb79"
      },
      "outputs": [
        {
          "output_type": "stream",
          "name": "stdout",
          "text": [
            "10\n",
            "5\n",
            "10\n"
          ]
        }
      ],
      "source": [
        "d = Demo1(5, 10)\n",
        "d.output()\n",
        "d.input()\n"
      ]
    },
    {
      "cell_type": "code",
      "execution_count": 23,
      "metadata": {
        "id": "e67az0m5bTPu"
      },
      "outputs": [],
      "source": [
        "class dog:\n",
        "\n",
        "    def __init__(self,name,age):\n",
        "        self.__name=name\n",
        "        self.__age=age\n",
        "\n",
        "    def get_name(self):\n",
        "        print(self.__name)\n",
        "\n",
        "    def get_age(self):\n",
        "        print(self.__age)\n",
        "\n",
        "class dog1(dog):\n",
        "    def input(self):\n",
        "        self.get_name()\n",
        "        self.get_age()\n"
      ]
    },
    {
      "cell_type": "code",
      "execution_count": 27,
      "metadata": {
        "id": "fKGU6pEfbeup"
      },
      "outputs": [],
      "source": [
        "max=dog(\"max\",5)\n"
      ]
    },
    {
      "cell_type": "code",
      "execution_count": 25,
      "metadata": {
        "id": "AIj7O4CLbipN",
        "colab": {
          "base_uri": "https://localhost:8080/"
        },
        "outputId": "e6fed83a-f69b-4dda-a156-e8fefa808361"
      },
      "outputs": [
        {
          "output_type": "stream",
          "name": "stdout",
          "text": [
            "max\n"
          ]
        }
      ],
      "source": [
        "max.get_name()"
      ]
    },
    {
      "cell_type": "code",
      "execution_count": 26,
      "metadata": {
        "id": "fTX7HQn-bl3A",
        "colab": {
          "base_uri": "https://localhost:8080/"
        },
        "outputId": "7caf3e76-754f-4df6-8415-262b8229cd66"
      },
      "outputs": [
        {
          "output_type": "stream",
          "name": "stdout",
          "text": [
            "Buddy\n",
            "3\n"
          ]
        }
      ],
      "source": [
        "d = dog1(\"Buddy\", 3)\n",
        "d.input()"
      ]
    },
    {
      "cell_type": "markdown",
      "metadata": {
        "id": "YYKSYzT8bpr_"
      },
      "source": [
        "#**Polymorphism:**\n",
        "- poly simply means many forms\n",
        "- the same entity can perform different operations in different scenarios\n"
      ]
    },
    {
      "cell_type": "code",
      "execution_count": 28,
      "metadata": {
        "id": "Oh1KiUi4b419"
      },
      "outputs": [],
      "source": [
        "class add:\n",
        "    def add(self,a,b):\n",
        "        print(a+b)"
      ]
    },
    {
      "cell_type": "code",
      "execution_count": 29,
      "metadata": {
        "id": "S_jycaTeb5mB"
      },
      "outputs": [],
      "source": [
        "a=add()"
      ]
    },
    {
      "cell_type": "code",
      "execution_count": 30,
      "metadata": {
        "id": "cvIyolr6b-pe",
        "colab": {
          "base_uri": "https://localhost:8080/"
        },
        "outputId": "2a76f2be-8b37-4b84-8d2e-875ec36225ef"
      },
      "outputs": [
        {
          "output_type": "stream",
          "name": "stdout",
          "text": [
            "8\n",
            "ab\n",
            "7.6\n",
            "(7+27j)\n"
          ]
        }
      ],
      "source": [
        "a.add(3,5)\n",
        "a.add('a','b')\n",
        "a.add(3.4,4.2)\n",
        "a.add(3+4j,4+23j)"
      ]
    },
    {
      "cell_type": "code",
      "execution_count": 31,
      "metadata": {
        "id": "sHQPBJq6cLH8"
      },
      "outputs": [],
      "source": [
        "class multi:\n",
        "    def mul(self,a,b,c):\n",
        "        print(a*b*c)"
      ]
    },
    {
      "cell_type": "code",
      "execution_count": 32,
      "metadata": {
        "id": "HcWU1-pOcPsw"
      },
      "outputs": [],
      "source": [
        "b=multi()"
      ]
    },
    {
      "cell_type": "code",
      "execution_count": 33,
      "metadata": {
        "id": "OWgZNvqXcT1M",
        "colab": {
          "base_uri": "https://localhost:8080/"
        },
        "outputId": "a08e179a-133a-45b5-b219-c41a8cbb0e7c"
      },
      "outputs": [
        {
          "output_type": "stream",
          "name": "stdout",
          "text": [
            "30\n"
          ]
        }
      ],
      "source": [
        "b.mul(3,5,2)"
      ]
    },
    {
      "cell_type": "code",
      "execution_count": 34,
      "metadata": {
        "id": "K_TQikNccXwU",
        "colab": {
          "base_uri": "https://localhost:8080/"
        },
        "outputId": "0e14a469-38c4-4cae-f963-2eb8654d4a03"
      },
      "outputs": [
        {
          "output_type": "stream",
          "name": "stdout",
          "text": [
            "385.56\n"
          ]
        }
      ],
      "source": [
        "b.mul(3.4,2.1,54)"
      ]
    },
    {
      "cell_type": "code",
      "execution_count": 35,
      "metadata": {
        "id": "ZSHJsKYTccXs",
        "colab": {
          "base_uri": "https://localhost:8080/"
        },
        "outputId": "9b8f093e-8548-43e7-a52e-07b9c00f26a6"
      },
      "outputs": [
        {
          "output_type": "stream",
          "name": "stdout",
          "text": [
            "(-792+2204j)\n"
          ]
        }
      ],
      "source": [
        "b.mul(2+12j,4+2j,43+2j)"
      ]
    },
    {
      "cell_type": "markdown",
      "metadata": {
        "id": "gQ4MUFeYcj7v"
      },
      "source": [
        "#**Abstraction:**\n",
        "- Hiding the unnecessary details\n",
        "- Abstarction allows us to focus on the what an object does rather than how it achieve its functionality"
      ]
    },
    {
      "cell_type": "code",
      "execution_count": 37,
      "metadata": {
        "id": "nJiPzEG5cxLV"
      },
      "outputs": [],
      "source": [
        "class car:\n",
        "    def start_engine(self):\n",
        "        pass\n",
        "    def start_drive(self):\n",
        "        pass\n",
        "    def stop_engine(self):\n",
        "        pass"
      ]
    }
  ],
  "metadata": {
    "colab": {
      "provenance": []
    },
    "kernelspec": {
      "display_name": "Python 3",
      "name": "python3"
    },
    "language_info": {
      "name": "python"
    }
  },
  "nbformat": 4,
  "nbformat_minor": 0
}