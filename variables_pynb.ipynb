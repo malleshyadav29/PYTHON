{
  "nbformat": 4,
  "nbformat_minor": 0,
  "metadata": {
    "colab": {
      "provenance": []
    },
    "kernelspec": {
      "name": "python3",
      "display_name": "Python 3"
    },
    "language_info": {
      "name": "python"
    }
  },
  "cells": [
    {
      "cell_type": "markdown",
      "source": [
        "#**Variables**\n",
        "- A Variable is a Symbolica name in programing used to store the data that can be referenced through a program .Variables can hold different types of data.\n",
        "- Variables play a fundamental roie in making programs dynamic and flexible as they allow the storage and manipulation or reference of data in a program's runtime\n",
        "#Rules of Variables\n",
        "- Variables can written in Alpha-Numaric Structure ,(A-Z) and (0-9).\n",
        "- Variables can not  Start With Special Characters Except Underscore (-).\n",
        "- Variable can not Start with Any Digits.\n",
        "- Variables can not Start with any Keywords.\n",
        "- Variables are Case Sensitive.\n",
        "#Types of Variables\n",
        "There are two types of Variables\n",
        "\n",
        "1) Single Variable\n",
        "\n",
        "2) Multi Variable\n",
        "\n",
        "1) Single Variable:\n",
        "\n",
        "- Single Variable Refers to the Declaration of one variable to Store Data.\n"
      ],
      "metadata": {
        "id": "vtTJnXpQLq-T"
      }
    },
    {
      "cell_type": "code",
      "source": [
        "a=5\n",
        "b=9\n",
        "c=22\n",
        "print(a)\n",
        "print(b)\n",
        "print(c)\n",
        "print(a,b,c)\n"
      ],
      "metadata": {
        "colab": {
          "base_uri": "https://localhost:8080/"
        },
        "id": "_r7I0JH6M52h",
        "outputId": "9e741766-976e-446e-f498-63ebab74da5a"
      },
      "execution_count": 2,
      "outputs": [
        {
          "output_type": "stream",
          "name": "stdout",
          "text": [
            "5\n",
            "9\n",
            "22\n",
            "5 9 22\n"
          ]
        }
      ]
    },
    {
      "cell_type": "markdown",
      "source": [
        "2) Multi Variable:\n",
        "\n",
        "- Multi Variables are classified in two types\n",
        "- Multi to Multi\n",
        "- Multi to One\n",
        "\n",
        "- **Multi to Multi**\n",
        "\n",
        "The Variables which can assign values from Multiple varibles to another set of multiple variables in single step.\n",
        "\n"
      ],
      "metadata": {
        "id": "y-5NUCFrLq7b"
      }
    },
    {
      "cell_type": "code",
      "source": [
        "a,b,c=11,22,33\n",
        "print(a,b,c)\n",
        "print(a)\n",
        "print(b)\n",
        "print(c)"
      ],
      "metadata": {
        "colab": {
          "base_uri": "https://localhost:8080/"
        },
        "id": "aKSV1DeLN5vO",
        "outputId": "b41da55b-c304-46f1-d8a6-dba6c9642a7b"
      },
      "execution_count": 3,
      "outputs": [
        {
          "output_type": "stream",
          "name": "stdout",
          "text": [
            "11 22 33\n",
            "11\n",
            "22\n",
            "33\n"
          ]
        }
      ]
    },
    {
      "cell_type": "markdown",
      "source": [
        "**Multi to One**\n",
        "\n",
        "Multiple Variables Combined to form a single Output."
      ],
      "metadata": {
        "id": "dnlpZC6sOCm3"
      }
    },
    {
      "cell_type": "code",
      "source": [
        "a=b=c=1234\n",
        "print(c)\n",
        "print(b-c)\n",
        "print(a+b)\n",
        "print(a,b,c)"
      ],
      "metadata": {
        "colab": {
          "base_uri": "https://localhost:8080/"
        },
        "id": "7THA2xtkOOKG",
        "outputId": "330dc943-5773-4781-e906-2ccabdd4985a"
      },
      "execution_count": 4,
      "outputs": [
        {
          "output_type": "stream",
          "name": "stdout",
          "text": [
            "1234\n",
            "0\n",
            "2468\n",
            "1234 1234 1234\n"
          ]
        }
      ]
    },
    {
      "cell_type": "markdown",
      "source": [
        "#Examples for Single variable\n"
      ],
      "metadata": {
        "id": "HxiBz6R2OZlh"
      }
    },
    {
      "cell_type": "code",
      "source": [
        "a=5\n",
        "b=20\n",
        "c=50\n",
        "print(a)\n",
        "print(a*b)\n",
        "print(c/a)"
      ],
      "metadata": {
        "colab": {
          "base_uri": "https://localhost:8080/"
        },
        "id": "9THkZQN4OgFG",
        "outputId": "3daa03cf-0056-45db-fbd5-f811821b7325"
      },
      "execution_count": 5,
      "outputs": [
        {
          "output_type": "stream",
          "name": "stdout",
          "text": [
            "5\n",
            "100\n",
            "10.0\n"
          ]
        }
      ]
    },
    {
      "cell_type": "code",
      "source": [
        "a=25.1\n",
        "b=30\n",
        "c=3+5j\n",
        "print(c)\n",
        "print(a)\n",
        "print(a+c)"
      ],
      "metadata": {
        "colab": {
          "base_uri": "https://localhost:8080/"
        },
        "id": "PjsjasNIOmf7",
        "outputId": "e38830a9-d5b0-4807-e48d-467010e95610"
      },
      "execution_count": 6,
      "outputs": [
        {
          "output_type": "stream",
          "name": "stdout",
          "text": [
            "(3+5j)\n",
            "25.1\n",
            "(28.1+5j)\n"
          ]
        }
      ]
    },
    {
      "cell_type": "code",
      "source": [
        "x=-26\n",
        "y=82222\n",
        "z=66565.45544\n",
        "w=-2.4+0j\n",
        "v=37\n",
        "print(z)\n",
        "print(x+y+z+w-v)\n",
        "print(v*w-x)\n",
        "print(v/w*x*z-v)\n",
        "print(-x-v-w-z)\n",
        "print(x+y+z+w+v)"
      ],
      "metadata": {
        "colab": {
          "base_uri": "https://localhost:8080/"
        },
        "id": "BdWbLUrzOsFI",
        "outputId": "e6ebbb44-5264-4e39-8e42-b09f6149e9d7"
      },
      "execution_count": 7,
      "outputs": [
        {
          "output_type": "stream",
          "name": "stdout",
          "text": [
            "66565.45544\n",
            "(148722.05544+0j)\n",
            "(-62.8+0j)\n",
            "(26681616.38886667+0j)\n",
            "(-66574.05544000001+0j)\n",
            "(148796.05544+0j)\n"
          ]
        }
      ]
    },
    {
      "cell_type": "markdown",
      "source": [
        "#Multi to Multi Examples\n"
      ],
      "metadata": {
        "id": "iR7IcbQbOxmk"
      }
    },
    {
      "cell_type": "code",
      "source": [
        "a,b,c,x,y,z,=121,123,1234.23,50+2j,-15,3.58\n",
        "print(x)\n",
        "print(y)\n",
        "print(c*z)\n",
        "print(y/b)\n",
        "print(z+x)\n",
        "print(a-z)\n",
        "print(z*x*y*c*a)\n",
        "print(a+z+y+c)\n",
        "print(z/a+c*x+a)\n",
        "print(x+a+a-c-z)"
      ],
      "metadata": {
        "colab": {
          "base_uri": "https://localhost:8080/"
        },
        "id": "ed-jp6e6OzhV",
        "outputId": "dc5d391f-2bf1-4e0c-ea38-20cae9cd0cc5"
      },
      "execution_count": 8,
      "outputs": [
        {
          "output_type": "stream",
          "name": "stdout",
          "text": [
            "(50+2j)\n",
            "-15\n",
            "4418.5434000000005\n",
            "-0.12195121951219512\n",
            "(53.58+2j)\n",
            "117.42\n",
            "(-400982813.55-16039312.542j)\n",
            "1343.81\n",
            "(61832.52958677686+2468.46j)\n",
            "(-945.8100000000001+2j)\n"
          ]
        }
      ]
    },
    {
      "cell_type": "markdown",
      "source": [
        "#Multi to OneMulti to One"
      ],
      "metadata": {
        "id": "kwTQLqjRO-xl"
      }
    },
    {
      "cell_type": "code",
      "source": [
        "i=j=k=7777777\n",
        "print(j)\n",
        "print(i)\n",
        "print(k)\n",
        "print(i*k)\n",
        "print(j-i)\n",
        "print(i-k+j)\n",
        "print(j*k/i)\n",
        "print(i+j+k*i*j*k)\n",
        "print(i*j-k)\n"
      ],
      "metadata": {
        "colab": {
          "base_uri": "https://localhost:8080/"
        },
        "id": "nb13_jHXPAXy",
        "outputId": "b0e88550-0aec-4964-ae17-85698e3e928a"
      },
      "execution_count": 9,
      "outputs": [
        {
          "output_type": "stream",
          "name": "stdout",
          "text": [
            "7777777\n",
            "7777777\n",
            "7777777\n",
            "60493815061729\n",
            "0\n",
            "7777777\n",
            "7777777.0\n",
            "3659501660722670416096024995\n",
            "60493807283952\n"
          ]
        }
      ]
    },
    {
      "cell_type": "code",
      "source": [
        "a=b=c=2.358,2+56562j,0\n",
        "print(a)\n",
        "print(a+b)\n",
        "print(a+a)\n",
        "print(c)\n",
        "print(a+b+c)\n"
      ],
      "metadata": {
        "colab": {
          "base_uri": "https://localhost:8080/"
        },
        "id": "drJ_9z4hPKI0",
        "outputId": "7a68f3ee-9a7f-4809-b6c8-c125ef23a97c"
      },
      "execution_count": 10,
      "outputs": [
        {
          "output_type": "stream",
          "name": "stdout",
          "text": [
            "(2.358, (2+56562j), 0)\n",
            "(2.358, (2+56562j), 0, 2.358, (2+56562j), 0)\n",
            "(2.358, (2+56562j), 0, 2.358, (2+56562j), 0)\n",
            "(2.358, (2+56562j), 0)\n",
            "(2.358, (2+56562j), 0, 2.358, (2+56562j), 0, 2.358, (2+56562j), 0)\n"
          ]
        }
      ]
    }
  ]
}