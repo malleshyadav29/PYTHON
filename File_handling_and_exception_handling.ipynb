{
  "nbformat": 4,
  "nbformat_minor": 0,
  "metadata": {
    "colab": {
      "provenance": []
    },
    "kernelspec": {
      "name": "python3",
      "display_name": "Python 3"
    },
    "language_info": {
      "name": "python"
    }
  },
  "cells": [
    {
      "cell_type": "markdown",
      "source": [
        "#**File handling**\n",
        "- In python, file handling involves performing operations like reading and writing the files\n",
        "- Here , we have 5 operations in a flie\n",
        "- open file\n",
        "- read file\n",
        "- write file\n",
        "- append file(if we want)\n",
        "- close file\n",
        "#Opening the file\n",
        "- To open the file we use open() function\n",
        "- This function require at least one argument (the name of the file to open )\n",
        "- you can also specify in which mode the file should be opened\n",
        "\n",
        "commom modes include:\n",
        "\n",
        "- r(read)\n",
        "- w(write)\n",
        "- a(append)\n",
        "- b(binary write or read)\n",
        "- t(text mode)"
      ],
      "metadata": {
        "id": "juyh93u6ky4Z"
      }
    },
    {
      "cell_type": "code",
      "source": [
        "file=open('data .com.txt','r')"
      ],
      "metadata": {
        "id": "gOhN_w6IlqK2"
      },
      "execution_count": 18,
      "outputs": []
    },
    {
      "cell_type": "markdown",
      "source": [
        "#Reading the file\n",
        "- There are several methods to read the file\n",
        "- read() - read the entire file\n",
        "- readline() - read one line at a time\n",
        "- readlines() - Read all lines and return them as a list"
      ],
      "metadata": {
        "id": "5BzwLf0plyip"
      }
    },
    {
      "cell_type": "code",
      "source": [
        "content=file.read()\n",
        "print(content)"
      ],
      "metadata": {
        "id": "Nhbu6XYblyHO",
        "colab": {
          "base_uri": "https://localhost:8080/"
        },
        "outputId": "be940d3d-5863-47c5-87a8-67b5633c8811"
      },
      "execution_count": 19,
      "outputs": [
        {
          "output_type": "stream",
          "name": "stdout",
          "text": [
            "Hello, Data science\n",
            "say hi! \n"
          ]
        }
      ]
    },
    {
      "cell_type": "code",
      "source": [
        "lines=file.readlines()\n",
        "print(lines)"
      ],
      "metadata": {
        "colab": {
          "base_uri": "https://localhost:8080/"
        },
        "id": "4VZU3fBKnXyT",
        "outputId": "6d6b9594-3ba3-4497-ab01-9810f549d122"
      },
      "execution_count": 20,
      "outputs": [
        {
          "output_type": "stream",
          "name": "stdout",
          "text": [
            "[]\n"
          ]
        }
      ]
    },
    {
      "cell_type": "code",
      "source": [
        "file = open('data .com.txt', 'r')\n",
        "lines = file.readlines()\n",
        "print(lines)"
      ],
      "metadata": {
        "colab": {
          "base_uri": "https://localhost:8080/"
        },
        "id": "stOoZucJncJs",
        "outputId": "e500b46a-d4eb-4c8e-fb13-34a27551efb9"
      },
      "execution_count": 21,
      "outputs": [
        {
          "output_type": "stream",
          "name": "stdout",
          "text": [
            "['Hello, Data science\\n', 'say hi!\\xa0']\n"
          ]
        }
      ]
    },
    {
      "cell_type": "code",
      "source": [
        "file = open('data .com.txt', 'r')\n",
        "lines = file.readline()\n",
        "print(lines)"
      ],
      "metadata": {
        "colab": {
          "base_uri": "https://localhost:8080/"
        },
        "id": "pwTOhQ-EnpPb",
        "outputId": "b8993ecb-808b-4d41-e015-6a4b0a0d6a3b"
      },
      "execution_count": 22,
      "outputs": [
        {
          "output_type": "stream",
          "name": "stdout",
          "text": [
            "Hello, Data science\n",
            "\n"
          ]
        }
      ]
    },
    {
      "cell_type": "markdown",
      "source": [
        "#**writing the file**\n",
        "- To write the file , open it and we can use 'w' for write\n",
        "- and append 'a' for add to the next line\n",
        "- In write 'w' mode it will delete the before data and add new data\n",
        "- In append 'a' mode it will add the data to the existing data\n"
      ],
      "metadata": {
        "id": "DFYNrV88nx3K"
      }
    },
    {
      "cell_type": "code",
      "source": [
        "file = open('data .com.txt', 'w')\n",
        "file.write(\"Hi My name is mallesh\\n\")"
      ],
      "metadata": {
        "colab": {
          "base_uri": "https://localhost:8080/"
        },
        "id": "29ybqTbroJUq",
        "outputId": "dafa962a-30c1-4512-8182-139c7a820236"
      },
      "execution_count": 23,
      "outputs": [
        {
          "output_type": "execute_result",
          "data": {
            "text/plain": [
              "22"
            ]
          },
          "metadata": {},
          "execution_count": 23
        }
      ]
    },
    {
      "cell_type": "code",
      "source": [
        "file = open('data .com.txt', 'a')\n",
        "file.write(\"I am excited to learn and improve my data science skills!\\n\")"
      ],
      "metadata": {
        "colab": {
          "base_uri": "https://localhost:8080/"
        },
        "id": "agJYY9HDoUwM",
        "outputId": "3cf634d4-12b5-493c-e182-d2a2ee1ceb6d"
      },
      "execution_count": 24,
      "outputs": [
        {
          "output_type": "execute_result",
          "data": {
            "text/plain": [
              "58"
            ]
          },
          "metadata": {},
          "execution_count": 24
        }
      ]
    },
    {
      "cell_type": "code",
      "source": [
        "file = open('data .com.txt', 'w')\n",
        "lines = [\n",
        "    \"Hi My name is mallesh\\n\",\n",
        "    \"I am learning data science from Teks academy Hitech city branch\\n\",\n",
        "    \"And my timing are 5:30-6:30\\n\"\n",
        "]\n",
        "file.writelines(lines)"
      ],
      "metadata": {
        "id": "p5ZR2dLGoaRA"
      },
      "execution_count": 25,
      "outputs": []
    },
    {
      "cell_type": "code",
      "source": [
        "file = open('data .com.txt', 'a')\n",
        "file.write(\"I am excited to learn and improve my data science skills!\\n\")"
      ],
      "metadata": {
        "colab": {
          "base_uri": "https://localhost:8080/"
        },
        "id": "grcAhealoply",
        "outputId": "f59428c8-2983-481c-9e5b-5b635c510ee4"
      },
      "execution_count": 26,
      "outputs": [
        {
          "output_type": "execute_result",
          "data": {
            "text/plain": [
              "58"
            ]
          },
          "metadata": {},
          "execution_count": 26
        }
      ]
    },
    {
      "cell_type": "markdown",
      "source": [
        "#**closing the file**\n",
        "- Always close a file after completing operations to free up the systems resources\n"
      ],
      "metadata": {
        "id": "VJT0BRCmo1u6"
      }
    },
    {
      "cell_type": "code",
      "source": [
        "file.close()"
      ],
      "metadata": {
        "id": "5mXV49XEo9VW"
      },
      "execution_count": 27,
      "outputs": []
    },
    {
      "cell_type": "markdown",
      "source": [
        "#**Exception Handling in files**\n",
        "- If an exception occurs when we are performing some operator with the file the code exists without closing the file\n",
        "\n",
        "- A safer way is to use a try .... finally or\n",
        "\n",
        "                    try .... except"
      ],
      "metadata": {
        "id": "W2Fpm11vpBtB"
      }
    },
    {
      "cell_type": "code",
      "source": [
        "try:\n",
        "    file = open('data .com.txt', 'r')\n",
        "    read=file.read()\n",
        "    print(read)\n",
        "\n",
        "\n",
        "finally:\n",
        "    file.close()"
      ],
      "metadata": {
        "colab": {
          "base_uri": "https://localhost:8080/"
        },
        "id": "4saibRqNpPR2",
        "outputId": "97a7b49c-bd3d-4898-9b41-10d0268d467e"
      },
      "execution_count": 28,
      "outputs": [
        {
          "output_type": "stream",
          "name": "stdout",
          "text": [
            "Hi My name is mallesh\n",
            "I am learning data science from Teks academy Hitech city branch\n",
            "And my timing are 5:30-6:30\n",
            "I am excited to learn and improve my data science skills!\n",
            "\n"
          ]
        }
      ]
    },
    {
      "cell_type": "code",
      "source": [
        "try:\n",
        "    result=num/den\n",
        "    print(result)\n",
        "\n",
        "except:\n",
        "    print(\"given den is zero\")"
      ],
      "metadata": {
        "colab": {
          "base_uri": "https://localhost:8080/"
        },
        "id": "SnGD-aRHpWQ0",
        "outputId": "5f2375f2-b51c-4260-82ed-8190953ef6a6"
      },
      "execution_count": 29,
      "outputs": [
        {
          "output_type": "stream",
          "name": "stdout",
          "text": [
            "given den is zero\n"
          ]
        }
      ]
    },
    {
      "cell_type": "code",
      "source": [
        "num=int(input(\"enter the num:\"))\n",
        "den=int(input(\"enter the num:\"))"
      ],
      "metadata": {
        "colab": {
          "base_uri": "https://localhost:8080/"
        },
        "id": "_SFYdjDUpaD4",
        "outputId": "3911d389-fd0a-4f47-bb7d-4c0904850530"
      },
      "execution_count": 31,
      "outputs": [
        {
          "name": "stdout",
          "output_type": "stream",
          "text": [
            "enter the num:5\n",
            "enter the num:3\n"
          ]
        }
      ]
    },
    {
      "cell_type": "code",
      "source": [
        "try:\n",
        "    result=num/den\n",
        "    print(result)\n",
        "\n",
        "except:\n",
        "    print(\"given den is zero\")\n"
      ],
      "metadata": {
        "colab": {
          "base_uri": "https://localhost:8080/"
        },
        "id": "S73xcXqMpdzC",
        "outputId": "b339b40e-6af6-42e9-e0c3-ddcf605685b9"
      },
      "execution_count": 32,
      "outputs": [
        {
          "output_type": "stream",
          "name": "stdout",
          "text": [
            "1.6666666666666667\n"
          ]
        }
      ]
    },
    {
      "cell_type": "markdown",
      "source": [
        "#**Regular Expressions**\n",
        "- useful for NLP\n",
        "- we can easily clean the data\n",
        "- used for pattern matching , text manipulation\n",
        "- flexible way to search ,match,manipulate the text data\n",
        "\n",
        "\n",
        "#**Regular Expressions Functions**\n",
        "- The 're' module offers a set of functions that allows us to search a string for a match\n",
        "- there are 4 main functions\n",
        "1.findall():\n",
        "\n",
        "- returns a list of containing all matches"
      ],
      "metadata": {
        "id": "TAU_tkefpq-6"
      }
    },
    {
      "cell_type": "code",
      "source": [
        "import re\n",
        "user=input(\"enter the char:\")\n",
        "txt=\"hello world\"\n",
        "x=re.findall(user,txt)\n",
        "print(x)"
      ],
      "metadata": {
        "colab": {
          "base_uri": "https://localhost:8080/"
        },
        "id": "8sJ_wmuoqMmI",
        "outputId": "9385ef93-dace-4b84-ca75-8d85064b0d8d"
      },
      "execution_count": 35,
      "outputs": [
        {
          "output_type": "stream",
          "name": "stdout",
          "text": [
            "enter the char:d\n",
            "['d']\n"
          ]
        }
      ]
    },
    {
      "cell_type": "code",
      "source": [
        "import re\n",
        "user=input(\"enter the char:\")\n",
        "txt=\"Hello world\"\n",
        "x=re.findall(user,txt)\n",
        "if x:\n",
        "    print(\"matched\",x)\n",
        "else:\n",
        "    print(\"not matched\",x)\n"
      ],
      "metadata": {
        "colab": {
          "base_uri": "https://localhost:8080/"
        },
        "id": "K13j_gKrqpl2",
        "outputId": "57bbbfe3-74d1-4e07-be94-ca3ff7377be0"
      },
      "execution_count": 40,
      "outputs": [
        {
          "output_type": "stream",
          "name": "stdout",
          "text": [
            "enter the char:l\n",
            "matched ['l', 'l', 'l']\n"
          ]
        }
      ]
    },
    {
      "cell_type": "code",
      "source": [
        "import re\n",
        "txt = \"hello world\"\n",
        "x = re.findall(\"ell\", txt)\n",
        "if x:\n",
        "    print(\"matched\",x)\n",
        "else:\n",
        "    print(\"not matched\",x)\n"
      ],
      "metadata": {
        "colab": {
          "base_uri": "https://localhost:8080/"
        },
        "id": "9liXYsevq0jX",
        "outputId": "08ef2708-1f41-4700-aa29-1f7ad55db857"
      },
      "execution_count": 42,
      "outputs": [
        {
          "output_type": "stream",
          "name": "stdout",
          "text": [
            "matched ['ell']\n"
          ]
        }
      ]
    },
    {
      "cell_type": "markdown",
      "source": [
        "2.Search():\n",
        "- Searches for the string for a match and returns a match object,if there is a match\n",
        "- If there is more than one match ,only the first occurence of the match will be returned\n"
      ],
      "metadata": {
        "id": "DvqUx7r6rRBg"
      }
    },
    {
      "cell_type": "code",
      "source": [
        "import re\n",
        "txt=\"the rain in spain\"\n",
        "x=re.search('i',txt)\n",
        "print(x.start())"
      ],
      "metadata": {
        "colab": {
          "base_uri": "https://localhost:8080/"
        },
        "id": "oyZswpWWrZ8E",
        "outputId": "d40fab10-9daf-4f55-f58a-2090bd6ee095"
      },
      "execution_count": 43,
      "outputs": [
        {
          "output_type": "stream",
          "name": "stdout",
          "text": [
            "6\n"
          ]
        }
      ]
    },
    {
      "cell_type": "code",
      "source": [
        "import re\n",
        "txt=\"the rain in spain\"\n",
        "x=re.search('sp',txt)\n",
        "print(x.start())"
      ],
      "metadata": {
        "colab": {
          "base_uri": "https://localhost:8080/"
        },
        "id": "RoQ1LWbUreP_",
        "outputId": "a85f4cc4-5dc9-4e7f-9290-0f69d4b4f3c6"
      },
      "execution_count": 44,
      "outputs": [
        {
          "output_type": "stream",
          "name": "stdout",
          "text": [
            "12\n"
          ]
        }
      ]
    },
    {
      "cell_type": "markdown",
      "source": [
        "3.split():\n",
        "\n",
        "- used to return a list where the string has been split at each match"
      ],
      "metadata": {
        "id": "A-SBloUTrijv"
      }
    },
    {
      "cell_type": "code",
      "source": [
        "import re\n",
        "txt=\"the rain in spain\"\n",
        "x=re.split('i',txt)\n",
        "print(x)"
      ],
      "metadata": {
        "colab": {
          "base_uri": "https://localhost:8080/"
        },
        "id": "sl56j2Wkrpye",
        "outputId": "6e95d881-aefc-4885-a355-a47965749ce0"
      },
      "execution_count": 45,
      "outputs": [
        {
          "output_type": "stream",
          "name": "stdout",
          "text": [
            "['the ra', 'n ', 'n spa', 'n']\n"
          ]
        }
      ]
    },
    {
      "cell_type": "code",
      "source": [
        "import re\n",
        "txt=\"the rain in spain\"\n",
        "x=re.split('in',txt)\n",
        "print(x)\n"
      ],
      "metadata": {
        "colab": {
          "base_uri": "https://localhost:8080/"
        },
        "id": "rvp22G8orzUf",
        "outputId": "035e589b-83ae-4393-9b61-2e1019ebea9f"
      },
      "execution_count": 46,
      "outputs": [
        {
          "output_type": "stream",
          "name": "stdout",
          "text": [
            "['the ra', ' ', ' spa', '']\n"
          ]
        }
      ]
    },
    {
      "cell_type": "code",
      "source": [
        "import re\n",
        "txt=\"the rain in spain\"\n",
        "x=re.split(' ',txt)\n",
        "print(x)"
      ],
      "metadata": {
        "colab": {
          "base_uri": "https://localhost:8080/"
        },
        "id": "fKTqVVJyr2wB",
        "outputId": "a29bcc0d-01fb-4906-9f8d-99acd45645fb"
      },
      "execution_count": 47,
      "outputs": [
        {
          "output_type": "stream",
          "name": "stdout",
          "text": [
            "['the', 'rain', 'in', 'spain']\n"
          ]
        }
      ]
    },
    {
      "cell_type": "code",
      "source": [
        "import re\n",
        "txt=\"the rain in spain\"\n",
        "x=re.split('n',txt,2)\n",
        "print(x)"
      ],
      "metadata": {
        "colab": {
          "base_uri": "https://localhost:8080/"
        },
        "id": "aQOo_3Cur6Qr",
        "outputId": "f711ad82-8be6-4e9f-8e3d-ca36670ad05e"
      },
      "execution_count": 48,
      "outputs": [
        {
          "output_type": "stream",
          "name": "stdout",
          "text": [
            "['the rai', ' i', ' spain']\n"
          ]
        }
      ]
    },
    {
      "cell_type": "markdown",
      "source": [
        "4.sub():\n",
        "\n",
        "- replaces the matches with the text of your choice\n"
      ],
      "metadata": {
        "id": "FhoZNTs_sBlc"
      }
    },
    {
      "cell_type": "code",
      "source": [
        "import re\n",
        "txt=\"the rain in india\"\n",
        "x=re.sub(\"h\",\"u\",txt)\n",
        "print(x)"
      ],
      "metadata": {
        "colab": {
          "base_uri": "https://localhost:8080/"
        },
        "id": "F6BlF43WsHFA",
        "outputId": "ce97be7f-e640-4c67-955b-ee259f1d83a6"
      },
      "execution_count": 49,
      "outputs": [
        {
          "output_type": "stream",
          "name": "stdout",
          "text": [
            "tue rain in india\n"
          ]
        }
      ]
    },
    {
      "cell_type": "code",
      "source": [
        "import re\n",
        "txt=\"the rain in india\"\n",
        "x=re.sub(\"h\",\"12\",txt)\n",
        "print(x)"
      ],
      "metadata": {
        "colab": {
          "base_uri": "https://localhost:8080/"
        },
        "id": "FWkeLxOasK7Y",
        "outputId": "f342931b-f706-412c-cdf9-34212669eb18"
      },
      "execution_count": 50,
      "outputs": [
        {
          "output_type": "stream",
          "name": "stdout",
          "text": [
            "t12e rain in india\n"
          ]
        }
      ]
    },
    {
      "cell_type": "markdown",
      "source": [
        "#Remaining Functions\n",
        "1.Literal characters:\n",
        "\n",
        "- that match exactly as they appear"
      ],
      "metadata": {
        "id": "18IZzF6JsPW3"
      }
    },
    {
      "cell_type": "code",
      "source": [
        "import re\n",
        "pattern = re.compile(r's')\n",
        "match = pattern.search('say hello to sushma')\n",
        "if match:\n",
        "    print('match found:', match.group())\n",
        "else:\n",
        "    print('match not found')"
      ],
      "metadata": {
        "colab": {
          "base_uri": "https://localhost:8080/"
        },
        "id": "sdrkQxAhsUsb",
        "outputId": "01565c9c-f024-4cf7-d7a7-c5038d5caf43"
      },
      "execution_count": 51,
      "outputs": [
        {
          "output_type": "stream",
          "name": "stdout",
          "text": [
            "match found: s\n"
          ]
        }
      ]
    },
    {
      "cell_type": "code",
      "source": [
        "import re\n",
        "pattern = re.compile(r'sus')\n",
        "match = pattern.search('say hello to sushma')\n",
        "if match:\n",
        "    print('match found:', match.group())\n",
        "else:\n",
        "    print('match not found')"
      ],
      "metadata": {
        "colab": {
          "base_uri": "https://localhost:8080/"
        },
        "id": "48_l3z8Bsazs",
        "outputId": "571426ff-971c-40e2-aec0-1a229c89f08c"
      },
      "execution_count": 52,
      "outputs": [
        {
          "output_type": "stream",
          "name": "stdout",
          "text": [
            "match found: sus\n"
          ]
        }
      ]
    },
    {
      "cell_type": "markdown",
      "source": [
        "2.Dot(.)wild card:\n",
        "\n",
        "- is a special character that matches any single character except a newline"
      ],
      "metadata": {
        "id": "3Vrfr6LZsfK4"
      }
    },
    {
      "cell_type": "code",
      "source": [
        "import re\n",
        "pattern = r\"f..g\"\n",
        "text = \"fog, frog, flag\"\n",
        "matches = re.findall(pattern, text)\n",
        "if match:\n",
        "    print(\"match found:\" ,matches)\n",
        "else:\n",
        "    print(\"match not found\")"
      ],
      "metadata": {
        "colab": {
          "base_uri": "https://localhost:8080/"
        },
        "id": "ftcBD6onsm3w",
        "outputId": "86f57625-95c0-439d-b711-87037a24d723"
      },
      "execution_count": 53,
      "outputs": [
        {
          "output_type": "stream",
          "name": "stdout",
          "text": [
            "match found: ['frog', 'flag']\n"
          ]
        }
      ]
    },
    {
      "cell_type": "code",
      "source": [
        "import re\n",
        "pattern = r\"c.t\"\n",
        "text = \"cat, dog, cut, mouse\"\n",
        "matches = re.findall(pattern, text)\n",
        "if match:\n",
        "    print(\"match found:\" ,matches)\n",
        "else:\n",
        "    print(\"match not found\")"
      ],
      "metadata": {
        "colab": {
          "base_uri": "https://localhost:8080/"
        },
        "id": "g4DLS2yLsrDZ",
        "outputId": "917cf23e-13cc-4b2f-f565-8b4baaa16ce7"
      },
      "execution_count": 54,
      "outputs": [
        {
          "output_type": "stream",
          "name": "stdout",
          "text": [
            "match found: ['cat', 'cut']\n"
          ]
        }
      ]
    },
    {
      "cell_type": "markdown",
      "source": [
        "3.Square brackets[ ]:\n",
        "\n",
        "- define a character class, allowing you to match any one of several specified characters at a given position in the pattern."
      ],
      "metadata": {
        "id": "RAwZUHD8swlt"
      }
    },
    {
      "cell_type": "code",
      "source": [
        "import re\n",
        "pattern = re.compile(r'[Hhello]')\n",
        "match = pattern.search('Hello')\n",
        "if match:\n",
        "    print('Match found:', match.group())\n",
        "else:\n",
        "    print('Match not found')\n"
      ],
      "metadata": {
        "colab": {
          "base_uri": "https://localhost:8080/"
        },
        "id": "16fmh0Its04T",
        "outputId": "2916f04e-f278-4d4d-bdc4-b0b1ee7bc3e4"
      },
      "execution_count": 55,
      "outputs": [
        {
          "output_type": "stream",
          "name": "stdout",
          "text": [
            "Match found: H\n"
          ]
        }
      ]
    },
    {
      "cell_type": "code",
      "source": [
        "import re\n",
        "pattern = re.compile(r'[Hh]ello')\n",
        "match = pattern.search('Hello')\n",
        "if match:\n",
        "    print('Match found:', match.group())\n",
        "else:\n",
        "    print('Match not found')"
      ],
      "metadata": {
        "colab": {
          "base_uri": "https://localhost:8080/"
        },
        "id": "riIL3liQs4kx",
        "outputId": "84358a5e-4d73-4ef6-c28b-753167d9e54a"
      },
      "execution_count": 56,
      "outputs": [
        {
          "output_type": "stream",
          "name": "stdout",
          "text": [
            "Match found: Hello\n"
          ]
        }
      ]
    },
    {
      "cell_type": "code",
      "source": [
        "import re\n",
        "text = \"cat, bat, rat, mat\"\n",
        "pattern = r\"[crm]at\"\n",
        "matches = re.findall(pattern, text)\n",
        "if match:\n",
        "    print('Match found:', matches)\n",
        "else:\n",
        "    print('Match not found')"
      ],
      "metadata": {
        "id": "j8wi2CrNs8eK",
        "outputId": "da1c0559-83a1-41e6-eab8-0f4c7128d461",
        "colab": {
          "base_uri": "https://localhost:8080/"
        }
      },
      "execution_count": 57,
      "outputs": [
        {
          "output_type": "stream",
          "name": "stdout",
          "text": [
            "Match found: ['cat', 'rat', 'mat']\n"
          ]
        }
      ]
    }
  ]
}