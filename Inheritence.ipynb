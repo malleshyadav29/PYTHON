{
  "nbformat": 4,
  "nbformat_minor": 0,
  "metadata": {
    "colab": {
      "provenance": []
    },
    "kernelspec": {
      "name": "python3",
      "display_name": "Python 3"
    },
    "language_info": {
      "name": "python"
    }
  },
  "cells": [
    {
      "cell_type": "markdown",
      "source": [
        "#**Inheritence**\n",
        "- way of creating a new class from an existing class without any mofifying it\n",
        "- The newly formed class is derived class and also called as Child class\n",
        "- The existing class is called base class or Child class\n",
        "- we can have 1 parent class - 2 child classes or\n",
        "1 parent class - 1 child class\n",
        "- First we need to create the base class and using base class we can create the child class\n"
      ],
      "metadata": {
        "id": "VJYrxUrcfMP7"
      }
    },
    {
      "cell_type": "code",
      "source": [
        "class person:\n",
        "\n",
        "    def __init__(self,name,age):\n",
        "        self.name=name\n",
        "        self.age=age\n",
        "\n",
        "class yogesh(person):\n",
        "    def Myname(self):\n",
        "        print(\"My name is yogesh\")\n",
        "\n",
        "class pavan(person):\n",
        "    def Myname(self):\n",
        "        print(\"My name is pavan\")"
      ],
      "metadata": {
        "id": "zY_D_klVfsRn"
      },
      "execution_count": 5,
      "outputs": []
    },
    {
      "cell_type": "code",
      "source": [
        "s = yogesh(\"yogesh\", 25)\n",
        "h = pavan (\"pavan\", 30)\n",
        "print(s.age)\n",
        "print( h.age)"
      ],
      "metadata": {
        "colab": {
          "base_uri": "https://localhost:8080/"
        },
        "id": "Rc6BTtJ8f-Hp",
        "outputId": "c2cab877-e837-4859-c2b4-1e7ad8c0ea4d"
      },
      "execution_count": 6,
      "outputs": [
        {
          "output_type": "stream",
          "name": "stdout",
          "text": [
            "25\n",
            "30\n"
          ]
        }
      ]
    },
    {
      "cell_type": "code",
      "source": [
        "s.Myname()\n",
        "h.Myname()"
      ],
      "metadata": {
        "colab": {
          "base_uri": "https://localhost:8080/"
        },
        "id": "tUbiXTU0gkN0",
        "outputId": "6a9ed4b5-747d-472c-a716-4431dbbad2c2"
      },
      "execution_count": 7,
      "outputs": [
        {
          "output_type": "stream",
          "name": "stdout",
          "text": [
            "My name is yogesh\n",
            "My name is pavan\n"
          ]
        }
      ]
    },
    {
      "cell_type": "code",
      "source": [
        "class bike:\n",
        "\n",
        "    def color(self):\n",
        "        print(\"The color is red\")\n",
        "\n",
        "    def sound(self):\n",
        "        print(\"The sound is keek keek!\")\n",
        "\n",
        "class Hero(bike):\n",
        "\n",
        "    def Brand(self):\n",
        "        print(\"The Brand name is hero\")\n",
        "\n",
        "class FZ(bike):\n",
        "\n",
        "    def Brand(self):\n",
        "        print(\"The Brand name is hero\")"
      ],
      "metadata": {
        "id": "B7pWX94NgrEY"
      },
      "execution_count": 18,
      "outputs": []
    },
    {
      "cell_type": "code",
      "source": [
        "a=Hero()\n",
        "a.color()\n",
        "a.sound()\n",
        "a.Brand()"
      ],
      "metadata": {
        "colab": {
          "base_uri": "https://localhost:8080/"
        },
        "id": "rNQ89AbzguwL",
        "outputId": "0dcf7918-ebc7-4990-ebfa-eeac3f756d7d"
      },
      "execution_count": 19,
      "outputs": [
        {
          "output_type": "stream",
          "name": "stdout",
          "text": [
            "The color is red\n",
            "The sound is keek keek!\n",
            "The Brand name is hero\n"
          ]
        }
      ]
    },
    {
      "cell_type": "code",
      "source": [
        "b=FZ()\n",
        "b.color()\n",
        "b.Brand()"
      ],
      "metadata": {
        "colab": {
          "base_uri": "https://localhost:8080/"
        },
        "id": "iCfDsfhhiQYq",
        "outputId": "cb8be62c-2317-413e-ed7b-8c72ab3ab8a3"
      },
      "execution_count": 20,
      "outputs": [
        {
          "output_type": "stream",
          "name": "stdout",
          "text": [
            "The color is red\n",
            "The Brand name is hero\n"
          ]
        }
      ]
    },
    {
      "cell_type": "code",
      "source": [
        "class Teks:\n",
        "\n",
        "    def datascience(self):\n",
        "        print(\"It is DS\")\n",
        "\n",
        "    def dataanalyst(self):\n",
        "        print(\"It is DA\")\n",
        "\n",
        "    def python(self):\n",
        "        print(\"It is included\")\n",
        "\n",
        "class Hitech(Teks):\n",
        "\n",
        "    def Branch(self):\n",
        "        print(\"It is in Hitech city\")\n",
        "\n",
        "class Ammerpet(Teks):\n",
        "\n",
        "    def Branch(self):\n",
        "        print(\"It is in Ameerpet location\")\n",
        "\n"
      ],
      "metadata": {
        "id": "lL5gAVfMiZjM"
      },
      "execution_count": 22,
      "outputs": []
    },
    {
      "cell_type": "code",
      "source": [
        "a=Hitech()\n",
        "a.datascience()\n",
        "a.python()\n",
        "a.Branch()"
      ],
      "metadata": {
        "colab": {
          "base_uri": "https://localhost:8080/"
        },
        "id": "sb3RpaFTj2pi",
        "outputId": "e7c03f3c-23a3-42e3-a123-17fd0630d422"
      },
      "execution_count": 23,
      "outputs": [
        {
          "output_type": "stream",
          "name": "stdout",
          "text": [
            "It is DS\n",
            "It is included\n",
            "It is in Hitech city\n"
          ]
        }
      ]
    },
    {
      "cell_type": "code",
      "source": [
        "b=Ammerpet()\n",
        "b.dataanalyst()\n",
        "b.Branch()"
      ],
      "metadata": {
        "colab": {
          "base_uri": "https://localhost:8080/"
        },
        "id": "mVGRH_5kj-R-",
        "outputId": "c5b21554-e0dc-400b-8f3a-8cd725201256"
      },
      "execution_count": 24,
      "outputs": [
        {
          "output_type": "stream",
          "name": "stdout",
          "text": [
            "It is DA\n",
            "It is in Ameerpet location\n"
          ]
        }
      ]
    }
  ]
}