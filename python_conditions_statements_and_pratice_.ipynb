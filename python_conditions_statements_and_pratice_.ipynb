{
  "nbformat": 4,
  "nbformat_minor": 0,
  "metadata": {
    "colab": {
      "provenance": []
    },
    "kernelspec": {
      "name": "python3",
      "display_name": "Python 3"
    },
    "language_info": {
      "name": "python"
    }
  },
  "cells": [
    {
      "cell_type": "markdown",
      "source": [
        "#python conditions statements\n",
        "- In python, conditions statements are used to control the flow of a program based on certain condition.\n",
        "- The if, else and elif (short for \"else if\") keywords are used for creating conditional structure.\n",
        "\n",
        "1) python if statement\n",
        "- An if statement executes a block of code only if the specified condition is met.\n",
        "\n",
        "**syntax**\n",
        "\n",
        "- if condition   #body of if statement\n",
        "\n",
        "  \n",
        "\n",
        "  Here, if the condition of if statement is:\n",
        "\n",
        "  True - the body of the if statement excuites.\n",
        "\n",
        "  False - the body of the if statement is skipped execution.\n"
      ],
      "metadata": {
        "id": "T9dh2MZU1ezq"
      }
    },
    {
      "cell_type": "code",
      "source": [
        "number = 43\n",
        "# check if number is greater then 0\n",
        "if number >0: #conduction_____if conduction is True it will the return the body statement\n",
        " print('number is positive')\n",
        "# print ('this statement always excuites')\n"
      ],
      "metadata": {
        "colab": {
          "base_uri": "https://localhost:8080/"
        },
        "id": "W1k9z9gR5iNt",
        "outputId": "486a9fb9-edd6-4fca-945d-d6f5c9c8702f"
      },
      "execution_count": null,
      "outputs": [
        {
          "output_type": "stream",
          "name": "stdout",
          "text": [
            "number is positive\n"
          ]
        }
      ]
    },
    {
      "cell_type": "markdown",
      "source": [
        "2) python else statement\n",
        "- An if statement can have an optional else clause.\n",
        "- The else statement executes if the condition in the if statement evaluates to fales.\n",
        "#syntax\n",
        "- if condition          #body of if statement\n",
        "- else         # body of else statement\n",
        "\n",
        "here, if the condition inside the if statement evalutes to\n",
        "\n",
        "True - the body of if executes, and the body of else is skipped.\n",
        "False - the body of else exeutes, and the body of its shipped."
      ],
      "metadata": {
        "id": "duT-r0PR8Q5_"
      }
    },
    {
      "cell_type": "code",
      "source": [
        "number = -6\n",
        "if number >0:\n",
        "  print('positive number')\n",
        "else:\n",
        "  print('negative number')  #print('this ststement alwys executes')"
      ],
      "metadata": {
        "colab": {
          "base_uri": "https://localhost:8080/"
        },
        "id": "iZZ9O753-FA3",
        "outputId": "45c7fc4f-cdf6-4867-c3be-c0664cd335a2"
      },
      "execution_count": null,
      "outputs": [
        {
          "output_type": "stream",
          "name": "stdout",
          "text": [
            "negative number\n"
          ]
        }
      ]
    },
    {
      "cell_type": "markdown",
      "source": [
        "3) python elif number\n",
        "# syntax\n",
        "- if conditions: # body statement\n",
        "\n",
        "  elif conditin: # body statement\n",
        "  \n",
        "  else: # body statement"
      ],
      "metadata": {
        "id": "KH18EbD--jxb"
      }
    },
    {
      "cell_type": "code",
      "source": [
        "number = 0\n",
        "if number >0:\n",
        "  print('positive number')\n",
        "elif number<0:\n",
        "  print('negative number')\n",
        "else:\n",
        "  print('zero')\n",
        "  #print('this statement is alwys exeuted')"
      ],
      "metadata": {
        "colab": {
          "base_uri": "https://localhost:8080/"
        },
        "id": "R9xvI2Wh_gOF",
        "outputId": "7ceeabff-0cbd-41ca-a186-ccc14c681675"
      },
      "execution_count": null,
      "outputs": [
        {
          "output_type": "stream",
          "name": "stdout",
          "text": [
            "zero\n"
          ]
        }
      ]
    },
    {
      "cell_type": "markdown",
      "source": [
        "#types of inputs\n",
        "- static input - (As devoloper we are taking input)\n",
        "- dynamic input - (we need to collect data from user)"
      ],
      "metadata": {
        "id": "oqywbVSfAMIe"
      }
    },
    {
      "cell_type": "code",
      "source": [
        "#example1\n",
        "h = 798\n",
        "user = input(\"enter ur name\")\n",
        "print(user)\n"
      ],
      "metadata": {
        "colab": {
          "base_uri": "https://localhost:8080/"
        },
        "id": "poil2DLeA78v",
        "outputId": "0073fa66-1955-41d1-d136-ccc795e60978"
      },
      "execution_count": null,
      "outputs": [
        {
          "output_type": "stream",
          "name": "stdout",
          "text": [
            "enter ur namemallesh\n",
            "mallesh\n"
          ]
        }
      ]
    },
    {
      "cell_type": "code",
      "source": [
        "#example2\n",
        "age = int(input (\"enter ur age:\"))\n",
        "\n"
      ],
      "metadata": {
        "colab": {
          "base_uri": "https://localhost:8080/"
        },
        "id": "8G-ujQY1DLQR",
        "outputId": "731be63d-b374-4c27-a8b5-094490dc45b9"
      },
      "execution_count": null,
      "outputs": [
        {
          "name": "stdout",
          "output_type": "stream",
          "text": [
            "enter ur age:21\n"
          ]
        }
      ]
    },
    {
      "cell_type": "code",
      "source": [
        "#example3\n",
        "vol=['a','e','i','o','u']\n",
        "user=input (\"enter your char:\")\n",
        "if user in vol :\n",
        "  print(\"it vols\")\n",
        "else:\n",
        "  print('not vols')"
      ],
      "metadata": {
        "colab": {
          "base_uri": "https://localhost:8080/"
        },
        "id": "y2c7jENj_pO1",
        "outputId": "15c14c26-70e1-4881-d0b7-6c0a6b0a7782"
      },
      "execution_count": null,
      "outputs": [
        {
          "output_type": "stream",
          "name": "stdout",
          "text": [
            "enter your char:i\n",
            "it vols\n"
          ]
        }
      ]
    },
    {
      "cell_type": "code",
      "source": [
        "#example4\n",
        "small_vol=['a','e','i','o','u']\n",
        "cap_vol=['A','E','I','O','U']\n",
        "user=input(\"enter your char:\")\n",
        "if user in vol:\n",
        "  print(\"its vols\")\n",
        "elif user in cap_vol:\n",
        "  print(\"its a cap vols\")\n",
        "else:\n",
        "  print(\"not vol\")"
      ],
      "metadata": {
        "colab": {
          "base_uri": "https://localhost:8080/"
        },
        "id": "dsxABu3RAXtO",
        "outputId": "a7e2683f-11c5-4a57-c82c-480be52df613"
      },
      "execution_count": null,
      "outputs": [
        {
          "output_type": "stream",
          "name": "stdout",
          "text": [
            "enter your char:I\n",
            "its a cap vols\n"
          ]
        }
      ]
    },
    {
      "cell_type": "code",
      "source": [
        "#example5\n",
        "#a,b,c i need find max letter\n",
        "a=3\n",
        "b=8\n",
        "c=14\n",
        "if a>b and a>c:\n",
        "  print(\"a is max\")\n",
        "elif b>a and b>c:\n",
        "  print(\"b is max\")\n",
        "else:\n",
        "  print(\"c is max\")"
      ],
      "metadata": {
        "colab": {
          "base_uri": "https://localhost:8080/"
        },
        "id": "bNTHdUdVB6FT",
        "outputId": "ace81855-9291-48c6-a4d9-61bc1785e5c0"
      },
      "execution_count": null,
      "outputs": [
        {
          "output_type": "stream",
          "name": "stdout",
          "text": [
            "c is max\n"
          ]
        }
      ]
    },
    {
      "cell_type": "code",
      "execution_count": null,
      "metadata": {
        "colab": {
          "base_uri": "https://localhost:8080/"
        },
        "id": "mvcnEgTYslNQ",
        "outputId": "391faf8d-5646-42b8-b898-2c8dc63707e4"
      },
      "outputs": [
        {
          "output_type": "stream",
          "name": "stdout",
          "text": [
            "enter the year:2023\n",
            "no is not a leap year\n"
          ]
        }
      ],
      "source": [
        "#1Q: write a python program  to check given year leap year or not\n",
        "year = int(input(\"enter the year:\"))\n",
        "if year % 4 == 0:\n",
        "   print(\"yes is a leap year\")\n",
        "else:\n",
        "    print(\"no is not a leap year\")"
      ]
    },
    {
      "cell_type": "code",
      "source": [
        "# 2Q: write a python program to find at given number even or odd\n",
        "number = int (input (\"enter ur lucky number:\"))\n",
        "print(number)\n",
        "if(number % 2)==0:\n",
        "  print(\"even number\")\n",
        "else:\n",
        "  print(\"odd number\")"
      ],
      "metadata": {
        "colab": {
          "base_uri": "https://localhost:8080/"
        },
        "id": "yrZCUupgwJRQ",
        "outputId": "33264dd0-8c86-4444-d97b-07dc5faaa486"
      },
      "execution_count": null,
      "outputs": [
        {
          "output_type": "stream",
          "name": "stdout",
          "text": [
            "enter ur lucky number:9\n",
            "9\n",
            "odd number\n"
          ]
        }
      ]
    },
    {
      "cell_type": "code",
      "source": [
        "#3Q: write a python program to check if a list is empty or not\n",
        "h=[]\n",
        "if not h :\n",
        "  print(\"empty list\")\n",
        "else :\n",
        "  print(\"not empty list\")"
      ],
      "metadata": {
        "colab": {
          "base_uri": "https://localhost:8080/"
        },
        "id": "Ayqy3f_n1HFb",
        "outputId": "338c86fa-3f5a-4abc-9a35-aafee14f4292"
      },
      "execution_count": null,
      "outputs": [
        {
          "output_type": "stream",
          "name": "stdout",
          "text": [
            "empty list\n"
          ]
        }
      ]
    },
    {
      "cell_type": "code",
      "source": [
        "#4Q: write a python code to calculate grade of a student\n",
        "marks = float(input(\"Please enter the marks (0-100): \"))\n",
        "if marks >= 90:\n",
        "  print(\"grade A\")\n",
        "elif marks >= 80:\n",
        "  print(\"grade B\")\n",
        "elif marks >= 70:\n",
        "  print(\"grade C\")\n",
        "elif marks >= 60:\n",
        "  print(\"grade D\")\n",
        "elif marks >= 50:\n",
        "  print(\"grade E\")\n",
        "else:\n",
        "  print(\"grade F\")\n",
        "\n"
      ],
      "metadata": {
        "id": "dJrZ7QXO15Ui",
        "colab": {
          "base_uri": "https://localhost:8080/"
        },
        "outputId": "43bb0558-23ab-419f-8b12-a5c525738d59"
      },
      "execution_count": null,
      "outputs": [
        {
          "output_type": "stream",
          "name": "stdout",
          "text": [
            "Please enter the marks (0-100): 44\n",
            "grade F\n"
          ]
        }
      ]
    },
    {
      "cell_type": "code",
      "source": [
        "# 5Q: check wheather given word is a palindrome or not\n",
        "word = str(input(\"enter a word:\"))\n",
        "if word == word [::-1]:\n",
        "  print(\"yes it is palindrome\")\n",
        "else:\n",
        "  print(\"no it is not palindrome\")"
      ],
      "metadata": {
        "id": "cWAp-bSk88mx",
        "colab": {
          "base_uri": "https://localhost:8080/"
        },
        "outputId": "bae140da-5d78-4cb2-fb6e-3202a3f7a449"
      },
      "execution_count": null,
      "outputs": [
        {
          "output_type": "stream",
          "name": "stdout",
          "text": [
            "enter a word:did\n",
            "yes it is palindrome\n"
          ]
        }
      ]
    },
    {
      "cell_type": "code",
      "source": [
        "#Q6.write a python program to find the smallest among the three numbers\n",
        "a=int(input(\"enter 1st number: \"))\n",
        "b=int(input(\"enter 2nd number: \"))\n",
        "c=int(input(\"enter 3rd number: \"))\n",
        "\n",
        "if a<b and a<c:\n",
        "      print(a)\n",
        "elif b<c and b<a:\n",
        "      print(b)\n",
        "else:\n",
        "     print(c)"
      ],
      "metadata": {
        "colab": {
          "base_uri": "https://localhost:8080/"
        },
        "id": "XDfgnOrf1J8p",
        "outputId": "f17599dc-f88e-480c-e567-e21dd92c206d"
      },
      "execution_count": 9,
      "outputs": [
        {
          "output_type": "stream",
          "name": "stdout",
          "text": [
            "enter 1st number: 19\n",
            "enter 2nd number: 33\n",
            "enter 3rd number: 2\n",
            "2\n"
          ]
        }
      ]
    },
    {
      "cell_type": "code",
      "source": [
        "# Q7.find the second largest number in a list\n",
        "list = [2,5,7,11]\n",
        "list.sort()\n",
        "print(list[-2])"
      ],
      "metadata": {
        "colab": {
          "base_uri": "https://localhost:8080/"
        },
        "id": "8z4moo7C1KZF",
        "outputId": "dc6dd860-6a0a-4145-83ab-dd5693b0d868"
      },
      "execution_count": 7,
      "outputs": [
        {
          "output_type": "stream",
          "name": "stdout",
          "text": [
            "7\n"
          ]
        }
      ]
    },
    {
      "cell_type": "code",
      "source": [
        "#8Q: calculate BMI and categorize it\n",
        "weight = int(input(\"enter ur weight\"))\n",
        "height = float(input(\"enter ur hight\"))\n",
        "x = weight/float(height**2)\n",
        "if x<18.5:\n",
        "   print(\"Underwheight\")\n",
        "if x>=18.5 and x<25:\n",
        "  print(\"normal\")\n",
        "if x>= 25 and x< 30:\n",
        "   print(\"overwheight\")\n",
        "if x>=30: print(\"obesity\")"
      ],
      "metadata": {
        "colab": {
          "base_uri": "https://localhost:8080/"
        },
        "id": "hhb4BI9vG5Sp",
        "outputId": "4526aff7-5227-4a2b-fcdb-f1b76660dd86"
      },
      "execution_count": null,
      "outputs": [
        {
          "output_type": "stream",
          "name": "stdout",
          "text": [
            "enter ur weight67\n",
            "enter ur hight5.2\n",
            "Underwheight\n"
          ]
        }
      ]
    },
    {
      "cell_type": "code",
      "source": [
        "#9Q: to check vote eligibity\n",
        "age=int(input(\"enter ur age:\"))\n",
        "if age>=18:\n",
        "  print(\"eligible\")\n",
        "else:\n",
        "  print(\"not eligible\")"
      ],
      "metadata": {
        "colab": {
          "base_uri": "https://localhost:8080/"
        },
        "id": "UkRMM88jM9rc",
        "outputId": "22a7b959-a7cd-47a9-ea08-46b0ba36657e"
      },
      "execution_count": null,
      "outputs": [
        {
          "output_type": "stream",
          "name": "stdout",
          "text": [
            "enter ur age:22\n",
            "eligibly\n"
          ]
        }
      ]
    },
    {
      "cell_type": "code",
      "source": [
        "#10Q: find the person belongs to which type of group\n",
        "age=int(input(\"enter ur age:\"))\n",
        "if age<=22:\n",
        "  print('school group')\n",
        "elif age >=50:\n",
        "  print('work group')\n",
        "else:\n",
        "  print('retire group')"
      ],
      "metadata": {
        "colab": {
          "base_uri": "https://localhost:8080/"
        },
        "id": "vFptPp2JN5yk",
        "outputId": "9fbc71b2-bf23-4937-8aec-78e4e2553680"
      },
      "execution_count": null,
      "outputs": [
        {
          "output_type": "stream",
          "name": "stdout",
          "text": [
            "enter ur age:22\n",
            "school group\n"
          ]
        }
      ]
    }
  ]
}