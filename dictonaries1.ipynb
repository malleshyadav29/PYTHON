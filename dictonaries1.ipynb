{
  "nbformat": 4,
  "nbformat_minor": 0,
  "metadata": {
    "colab": {
      "provenance": []
    },
    "kernelspec": {
      "name": "python3",
      "display_name": "Python 3"
    },
    "language_info": {
      "name": "python"
    }
  },
  "cells": [
    {
      "cell_type": "markdown",
      "source": [
        "#1) define about dictonarie\n",
        "- Dictionaries are used to store data values in keyvalue pairs\n",
        "- A dictionary is is a collection which is ordered*, changeable and do not allow duplicates.\n",
        "- dictionaries are written with curly brackets{}, and have keys and values."
      ],
      "metadata": {
        "id": "mrcyeWIzZrZY"
      }
    },
    {
      "cell_type": "code",
      "source": [
        "#creating dictonaries\n",
        "#empty dictonary\n",
        "empty_dict={}\n",
        "#dictionary with key-value pairs\n",
        "student={'name':'reddy','age':25,'grade':'a'}\n",
        "print(student)\n",
        "#dict={key:value,key:value,key:value}"
      ],
      "metadata": {
        "colab": {
          "base_uri": "https://localhost:8080/"
        },
        "id": "MZImJll4b4Se",
        "outputId": "da24d813-b2b5-46df-8c01-09ebcba663ad"
      },
      "execution_count": null,
      "outputs": [
        {
          "output_type": "stream",
          "name": "stdout",
          "text": [
            "{'name': 'reddy', 'age': 25, 'grade': 'a'}\n"
          ]
        }
      ]
    },
    {
      "cell_type": "code",
      "source": [
        "#dictionary with mixed data types\n",
        "mixed_dict={'name':'sai','age':30,'grade':[85,90,92]}\n",
        "print(mixed_dict)"
      ],
      "metadata": {
        "colab": {
          "base_uri": "https://localhost:8080/"
        },
        "id": "MUjYiIq9eerV",
        "outputId": "1d003485-5e2a-4878-8310-563e9a018cf7"
      },
      "execution_count": null,
      "outputs": [
        {
          "output_type": "stream",
          "name": "stdout",
          "text": [
            "{'name': 'sai', 'age': 30, 'grade': [85, 90, 92]}\n"
          ]
        }
      ]
    },
    {
      "cell_type": "markdown",
      "source": [
        "**Accessing values** : you can access the values in dictionary using the keys."
      ],
      "metadata": {
        "id": "C7RZHQ0MfmKC"
      }
    },
    {
      "cell_type": "code",
      "source": [
        "#accessing elements\n",
        "#dictionary with mixed data types\n",
        "mixed_dict={'name':'mani','age':30,'grade':[85,90,92]}\n",
        "print(mixed_dict)\n",
        "print(student['name'])\n",
        "print(mixed_dict['grade'])"
      ],
      "metadata": {
        "colab": {
          "base_uri": "https://localhost:8080/"
        },
        "id": "6UH67frLfa0R",
        "outputId": "1b172512-ae58-4554-daa5-9a54272161b9"
      },
      "execution_count": null,
      "outputs": [
        {
          "output_type": "stream",
          "name": "stdout",
          "text": [
            "{'name': 'mani', 'age': 30, 'grade': [85, 90, 92]}\n",
            "reddy\n",
            "[85, 90, 92]\n"
          ]
        }
      ]
    },
    {
      "cell_type": "markdown",
      "source": [
        "**Modifying and adding entries**: dictonaries are mutsble, so you can modify existing entries or add new one."
      ],
      "metadata": {
        "id": "bbtQ0e9RhPFx"
      }
    },
    {
      "cell_type": "code",
      "source": [
        "#dictionary with key-values pairs\n",
        "student={'name':'sai','age':65,'grade':'A'}\n",
        "print(student)\n",
        "#modifying an entry\n",
        "student['age']=26\n",
        "print(student)\n",
        "#Adding a new entry\n",
        "student['gender']='female'\n",
        "student['qulification']='B.tech'\n",
        "print(student)"
      ],
      "metadata": {
        "colab": {
          "base_uri": "https://localhost:8080/"
        },
        "id": "_02NzkeRhvQT",
        "outputId": "7b292df6-fefe-4f2c-fad8-5fcf2e4174b6"
      },
      "execution_count": null,
      "outputs": [
        {
          "output_type": "stream",
          "name": "stdout",
          "text": [
            "{'name': 'sai', 'age': 65, 'grade': 'A'}\n",
            "{'name': 'sai', 'age': 26, 'grade': 'A'}\n",
            "{'name': 'sai', 'age': 26, 'grade': 'A', 'gender': 'female', 'qulification': 'B.tech'}\n"
          ]
        }
      ]
    },
    {
      "cell_type": "markdown",
      "source": [
        "#2) Explain 10 examples with key-values"
      ],
      "metadata": {
        "id": "9O0PdH6rds0C"
      }
    },
    {
      "cell_type": "code",
      "source": [
        "student={'name':'reddy','age':25,'grade':'a'}\n",
        "print(student)"
      ],
      "metadata": {
        "colab": {
          "base_uri": "https://localhost:8080/"
        },
        "id": "GTJcgChpTeu3",
        "outputId": "3a3dea00-0fd1-46f3-e9df-63089f87f92b"
      },
      "execution_count": 51,
      "outputs": [
        {
          "output_type": "stream",
          "name": "stdout",
          "text": [
            "{'name': 'reddy', 'age': 25, 'grade': 'a'}\n"
          ]
        }
      ]
    },
    {
      "cell_type": "code",
      "source": [
        "student={'name':'sai','age':65,'grade':'A'}\n",
        "print(student)\n",
        "#modifying an entry\n",
        "student['age']=26\n",
        "print(student)\n",
        "#Adding a new entry\n",
        "student['gender']='female'\n",
        "student['qulification']='B.tech'\n",
        "print(student)"
      ],
      "metadata": {
        "colab": {
          "base_uri": "https://localhost:8080/"
        },
        "id": "WzrEA4-uTlW4",
        "outputId": "2d801fbb-4949-4850-fda4-7abef5837d42"
      },
      "execution_count": 52,
      "outputs": [
        {
          "output_type": "stream",
          "name": "stdout",
          "text": [
            "{'name': 'sai', 'age': 65, 'grade': 'A'}\n",
            "{'name': 'sai', 'age': 26, 'grade': 'A'}\n",
            "{'name': 'sai', 'age': 26, 'grade': 'A', 'gender': 'female', 'qulification': 'B.tech'}\n"
          ]
        }
      ]
    },
    {
      "cell_type": "code",
      "source": [
        "# key-values\n",
        "dict['key1']:'bommarillu'\n",
        "dict['key2']:'manmadhudhu'\n",
        "dict['key3']:'eaga'\n",
        "dict['key5']:'game over'\n",
        "movietickets={'key1':'bommarillu','key2':'manmadhudhu','key3':'okkadu','key4':'eaga','key5':'game over'}\n",
        "print(movietickets)\n",
        "print(movietickets['key1'])\n",
        "print(movietickets['key5'])\n"
      ],
      "metadata": {
        "id": "uCXFjZkIeJmv",
        "colab": {
          "base_uri": "https://localhost:8080/"
        },
        "outputId": "2600257e-9baf-4122-fd7b-de803a0a3151"
      },
      "execution_count": 37,
      "outputs": [
        {
          "output_type": "stream",
          "name": "stdout",
          "text": [
            "{'key1': 'bommarillu', 'key2': 'manmadhudhu', 'key3': 'okkadu', 'key4': 'eaga', 'key5': 'game over'}\n",
            "bommarillu\n",
            "game over\n"
          ]
        }
      ]
    },
    {
      "cell_type": "code",
      "source": [
        "phones={1:'vivo',2:'oppo',3:'xiaomi',4:'realme',5:'poco',11:'oneplus',35:'redmi',120:'sumsung',26:'iphone'}\n",
        "print(phones)\n",
        "print(phones[120])\n",
        "print(phones[26])\n",
        "print(phones[4],phones[3])\n",
        "print(phones[11])"
      ],
      "metadata": {
        "colab": {
          "base_uri": "https://localhost:8080/"
        },
        "id": "ydX6GCIHOEDr",
        "outputId": "897c44c9-8c69-4692-f8e8-b2802835ef43"
      },
      "execution_count": 50,
      "outputs": [
        {
          "output_type": "stream",
          "name": "stdout",
          "text": [
            "{1: 'vivo', 2: 'oppo', 3: 'xiaomi', 4: 'realme', 5: 'poco', 11: 'oneplus', 35: 'redmi', 120: 'sumsung', 26: 'iphone'}\n",
            "sumsung\n",
            "iphone\n",
            "realme xiaomi\n",
            "oneplus\n"
          ]
        }
      ]
    },
    {
      "cell_type": "markdown",
      "source": [
        "#3) create a dictionaries with 15 key-values and access each and every key-value."
      ],
      "metadata": {
        "id": "N3X2h9FnToHD"
      }
    },
    {
      "cell_type": "code",
      "source": [
        "#states and capitals\n",
        "statesandcapitals={'1telangana':'hyderabad',\n",
        "                   '2andhra pradesh':'amaravati',\n",
        "                   '3maharashtra':'mumbai',\n",
        "                   '4chhattisgarh':'raipur',\n",
        "                   '5goa':'panaji',\n",
        "                   '6gujarat':'gandhinagar',\n",
        "                   '7haryana':'chandigarh',\n",
        "                   '8himachal pradesh':'shimla',\n",
        "                   '9himachal':'ranchi',\n",
        "                   '10karnataka':'bengaluru',\n",
        "                   '11kerala':'thiruvananthapuram',\n",
        "                   '12madhya pradesh':'bhopal',\n",
        "                   '13manipur':'imphal',\n",
        "                   '14punjab':'chandigarh',\n",
        "                   '15west bengal':'kolkata'}\n",
        "print(statesandcapitals)\n",
        "print(statesandcapitals['1telangana'])\n",
        "print(statesandcapitals['2andhra pradesh'])\n",
        "print(statesandcapitals['3maharashtra'])\n",
        "print(statesandcapitals['4chhattisgarh'])\n",
        "print(statesandcapitals['5goa'])\n",
        "print(statesandcapitals['6gujarat'])\n",
        "print(statesandcapitals['7haryana'])\n",
        "print(statesandcapitals['8himachal pradesh'])\n",
        "print(statesandcapitals['9himachal'])\n",
        "print(statesandcapitals['10karnataka'])\n",
        "print(statesandcapitals['11kerala'])\n",
        "print(statesandcapitals['12madhya pradesh'])\n",
        "print(statesandcapitals['13manipur'])\n",
        "print(statesandcapitals['14punjab'])\n",
        "print(statesandcapitals['15west bengal'])"
      ],
      "metadata": {
        "colab": {
          "base_uri": "https://localhost:8080/"
        },
        "id": "Rrmd33yWUyZE",
        "outputId": "a60981e6-1c8f-4f49-821a-80adaad46c0a"
      },
      "execution_count": 75,
      "outputs": [
        {
          "output_type": "stream",
          "name": "stdout",
          "text": [
            "{'1telangana': 'hyderabad', '2andhra pradesh': 'amaravati', '3maharashtra': 'mumbai', '4chhattisgarh': 'raipur', '5goa': 'panaji', '6gujarat': 'gandhinagar', '7haryana': 'chandigarh', '8himachal pradesh': 'shimla', '9himachal': 'ranchi', '10karnataka': 'bengaluru', '11kerala': 'thiruvananthapuram', '12madhya pradesh': 'bhopal', '13manipur': 'imphal', '14punjab': 'chandigarh', '15west bengal': 'kolkata'}\n",
            "hyderabad\n",
            "amaravati\n",
            "mumbai\n",
            "raipur\n",
            "panaji\n",
            "gandhinagar\n",
            "chandigarh\n",
            "shimla\n",
            "ranchi\n",
            "bengaluru\n",
            "thiruvananthapuram\n",
            "bhopal\n",
            "imphal\n",
            "chandigarh\n",
            "kolkata\n"
          ]
        }
      ]
    },
    {
      "cell_type": "markdown",
      "source": [
        "#4) Modifying and adding entries\n",
        "- dictionaries are mutable, so you can modify existing entries or add new ones"
      ],
      "metadata": {
        "id": "UWeHjOJHgV8Z"
      }
    },
    {
      "cell_type": "code",
      "source": [
        "#modifying\n",
        "statesandcapitals={'1telangana':'hyderabad',\n",
        "                   '2andhra pradesh':'amaravati',\n",
        "                   '3maharashtra':'mumbai',\n",
        "                   '4chhattisgarh':'raipur',\n",
        "                   '5goa':'panaji',\n",
        "                   '6gujarat':'gandhinagar',\n",
        "                   '7haryana':'chandigarh',\n",
        "                   '8himachal pradesh':'shimla',\n",
        "                   '9himachal':'ranchi',\n",
        "                   '10karnataka':'bengaluru',\n",
        "                   '11kerala':'thiruvananthapuram',\n",
        "                   '12madhya pradesh':'bhopal',\n",
        "                   '13manipur':'imphal',\n",
        "                   '14punjab':'chandigarh',\n",
        "                   '15west bengal':'kolkata'}\n",
        "statesandcapitals['1telangana']='apple'\n",
        "print(statesandcapitals['1telangana'])\n",
        "print(statesandcapitals)\n"
      ],
      "metadata": {
        "colab": {
          "base_uri": "https://localhost:8080/"
        },
        "id": "OrAN-4fvharZ",
        "outputId": "a92d2b10-662b-4450-c855-3551a462012a"
      },
      "execution_count": 82,
      "outputs": [
        {
          "output_type": "stream",
          "name": "stdout",
          "text": [
            "apple\n",
            "{'1telangana': 'apple', '2andhra pradesh': 'amaravati', '3maharashtra': 'mumbai', '4chhattisgarh': 'raipur', '5goa': 'panaji', '6gujarat': 'gandhinagar', '7haryana': 'chandigarh', '8himachal pradesh': 'shimla', '9himachal': 'ranchi', '10karnataka': 'bengaluru', '11kerala': 'thiruvananthapuram', '12madhya pradesh': 'bhopal', '13manipur': 'imphal', '14punjab': 'chandigarh', '15west bengal': 'kolkata'}\n"
          ]
        }
      ]
    },
    {
      "cell_type": "code",
      "source": [
        "#adding a new entry\n",
        "statesandcapitals={'1telangana':'hyderabad',\n",
        "                   '2andhra pradesh':'amaravati',\n",
        "                   '3maharashtra':'mumbai',\n",
        "                   '4chhattisgarh':'raipur',\n",
        "                   '5goa':'panaji',\n",
        "                   '6gujarat':'gandhinagar',\n",
        "                   '7haryana':'chandigarh',\n",
        "                   '8himachal pradesh':'shimla',\n",
        "                   '9himachal':'ranchi',\n",
        "                   '10karnataka':'bengaluru',\n",
        "                   '11kerala':'thiruvananthapuram',\n",
        "                   '12madhya pradesh':'bhopal',\n",
        "                   '13manipur':'imphal',\n",
        "                   '14punjab':'chandigarh',\n",
        "                   '15west bengal':'kolkata'}\n",
        "statesandcapitals['16tamilnadu']='chennai'\n",
        "print(statesandcapitals)"
      ],
      "metadata": {
        "colab": {
          "base_uri": "https://localhost:8080/"
        },
        "id": "kJ9a9CWCjS1z",
        "outputId": "cac2ea57-e78a-403b-b923-9648ab772efc"
      },
      "execution_count": 84,
      "outputs": [
        {
          "output_type": "stream",
          "name": "stdout",
          "text": [
            "{'1telangana': 'hyderabad', '2andhra pradesh': 'amaravati', '3maharashtra': 'mumbai', '4chhattisgarh': 'raipur', '5goa': 'panaji', '6gujarat': 'gandhinagar', '7haryana': 'chandigarh', '8himachal pradesh': 'shimla', '9himachal': 'ranchi', '10karnataka': 'bengaluru', '11kerala': 'thiruvananthapuram', '12madhya pradesh': 'bhopal', '13manipur': 'imphal', '14punjab': 'chandigarh', '15west bengal': 'kolkata', '16tamilnadu': 'chennai'}\n"
          ]
        }
      ]
    },
    {
      "cell_type": "markdown",
      "source": [
        "#5) Dictionary methods.\n"
      ],
      "metadata": {
        "id": "WsXfO5soj8Iv"
      }
    },
    {
      "cell_type": "markdown",
      "source": [
        "1)get():\n",
        "- returns the value for specified key. it  allows you to provide a defult value if the key is not found"
      ],
      "metadata": {
        "id": "s2MTU_cilIaZ"
      }
    },
    {
      "cell_type": "code",
      "source": [
        "#example\n",
        "statesandcapitals={'1telangana':'hyderabad',\n",
        "                   '2andhra pradesh':'amaravati',\n",
        "                   '3maharashtra':'mumbai',\n",
        "                   '4chhattisgarh':'raipur',\n",
        "                   '5goa':'panaji',\n",
        "                   '6gujarat':'gandhinagar',\n",
        "                   '7haryana':'chandigarh',\n",
        "                   '8himachal pradesh':'shimla',\n",
        "                   '9himachal':'ranchi',\n",
        "                   '10karnataka':'bengaluru',\n",
        "                   '11kerala':'thiruvananthapuram',\n",
        "                   '12madhya pradesh':'bhopal',\n",
        "                   '13manipur':'imphal',\n",
        "                   '14punjab':'chandigarh',\n",
        "                   '15west bengal':'kolkata'}\n",
        "statesandcapitals.get('1telangana')\n"
      ],
      "metadata": {
        "colab": {
          "base_uri": "https://localhost:8080/",
          "height": 35
        },
        "id": "sp5kfkFCllFv",
        "outputId": "ec7c0068-e276-4e9e-efbf-b0551d182ff8"
      },
      "execution_count": 94,
      "outputs": [
        {
          "output_type": "execute_result",
          "data": {
            "text/plain": [
              "'hyderabad'"
            ],
            "application/vnd.google.colaboratory.intrinsic+json": {
              "type": "string"
            }
          },
          "metadata": {},
          "execution_count": 94
        }
      ]
    },
    {
      "cell_type": "markdown",
      "source": [
        "2) key():\n",
        "- returns a view of all the keys in the dictionary."
      ],
      "metadata": {
        "id": "EVtPpZCVnadJ"
      }
    },
    {
      "cell_type": "code",
      "source": [
        "statesandcapitals={'1telangana':'hyderabad',\n",
        "                   '2andhra pradesh':'amaravati',\n",
        "                   '3maharashtra':'mumbai',\n",
        "                   '4chhattisgarh':'raipur',\n",
        "                   '5goa':'panaji',\n",
        "                   '6gujarat':'gandhinagar',\n",
        "                   '7haryana':'chandigarh',\n",
        "                   '8himachal pradesh':'shimla',\n",
        "                   '9himachal':'ranchi',\n",
        "                   '10karnataka':'bengaluru',\n",
        "                   '11kerala':'thiruvananthapuram',\n",
        "                   '12madhya pradesh':'bhopal',\n",
        "                   '13manipur':'imphal',\n",
        "                   '14punjab':'chandigarh',\n",
        "                   '15west bengal':'kolkata'}\n",
        "keys=statesandcapitals.keys()\n",
        "print(keys)"
      ],
      "metadata": {
        "colab": {
          "base_uri": "https://localhost:8080/"
        },
        "id": "_aIAYdQOns53",
        "outputId": "188eca26-6320-4349-829e-db6c54527f5c"
      },
      "execution_count": 99,
      "outputs": [
        {
          "output_type": "stream",
          "name": "stdout",
          "text": [
            "dict_keys(['1telangana', '2andhra pradesh', '3maharashtra', '4chhattisgarh', '5goa', '6gujarat', '7haryana', '8himachal pradesh', '9himachal', '10karnataka', '11kerala', '12madhya pradesh', '13manipur', '14punjab', '15west bengal'])\n"
          ]
        }
      ]
    },
    {
      "cell_type": "markdown",
      "source": [
        "3) values():\n",
        "- returns a view of all the values in the dictionary"
      ],
      "metadata": {
        "id": "DBVgfXxgoFzF"
      }
    },
    {
      "cell_type": "code",
      "source": [
        "statesandcapitals={'1telangana':'hyderabad',\n",
        "                   '2andhra pradesh':'amaravati',\n",
        "                   '3maharashtra':'mumbai',\n",
        "                   '4chhattisgarh':'raipur',\n",
        "                   '5goa':'panaji',\n",
        "                   '6gujarat':'gandhinagar',\n",
        "                   '7haryana':'chandigarh',\n",
        "                   '8himachal pradesh':'shimla',\n",
        "                   '9himachal':'ranchi',\n",
        "                   '10karnataka':'bengaluru',\n",
        "                   '11kerala':'thiruvananthapuram',\n",
        "                   '12madhya pradesh':'bhopal',\n",
        "                   '13manipur':'imphal',\n",
        "                   '14punjab':'chandigarh',\n",
        "                   '15west bengal':'kolkata'}\n",
        "values=statesandcapitals.values()\n",
        "print(values)"
      ],
      "metadata": {
        "colab": {
          "base_uri": "https://localhost:8080/"
        },
        "id": "n5mb_0Jro0XZ",
        "outputId": "c76f8584-f413-433b-9baf-101508e26c59"
      },
      "execution_count": 100,
      "outputs": [
        {
          "output_type": "stream",
          "name": "stdout",
          "text": [
            "dict_values(['hyderabad', 'amaravati', 'mumbai', 'raipur', 'panaji', 'gandhinagar', 'chandigarh', 'shimla', 'ranchi', 'bengaluru', 'thiruvananthapuram', 'bhopal', 'imphal', 'chandigarh', 'kolkata'])\n"
          ]
        }
      ]
    },
    {
      "cell_type": "markdown",
      "source": [
        "4) items():\n",
        "- returns a view of all key-value pair as tuples"
      ],
      "metadata": {
        "id": "Y-aRM-80pGHY"
      }
    },
    {
      "cell_type": "code",
      "source": [
        "statesandcapitals={'1telangana':'hyderabad',\n",
        "                   '2andhra pradesh':'amaravati',\n",
        "                   '3maharashtra':'mumbai',\n",
        "                   '4chhattisgarh':'raipur',\n",
        "                   '5goa':'panaji',\n",
        "                   '6gujarat':'gandhinagar',\n",
        "                   '7haryana':'chandigarh',\n",
        "                   '8himachal pradesh':'shimla',\n",
        "                   '9himachal':'ranchi',\n",
        "                   '10karnataka':'bengaluru',\n",
        "                   '11kerala':'thiruvananthapuram',\n",
        "                   '12madhya pradesh':'bhopal',\n",
        "                   '13manipur':'imphal',\n",
        "                   '14punjab':'chandigarh',\n",
        "                   '15west bengal':'kolkata'}\n",
        "items=statesandcapitals.items()\n",
        "print(items)\n"
      ],
      "metadata": {
        "colab": {
          "base_uri": "https://localhost:8080/"
        },
        "id": "KP1w55mgprJN",
        "outputId": "2ff02f30-9944-42e2-9a6b-2e7bb458619e"
      },
      "execution_count": 101,
      "outputs": [
        {
          "output_type": "stream",
          "name": "stdout",
          "text": [
            "dict_items([('1telangana', 'hyderabad'), ('2andhra pradesh', 'amaravati'), ('3maharashtra', 'mumbai'), ('4chhattisgarh', 'raipur'), ('5goa', 'panaji'), ('6gujarat', 'gandhinagar'), ('7haryana', 'chandigarh'), ('8himachal pradesh', 'shimla'), ('9himachal', 'ranchi'), ('10karnataka', 'bengaluru'), ('11kerala', 'thiruvananthapuram'), ('12madhya pradesh', 'bhopal'), ('13manipur', 'imphal'), ('14punjab', 'chandigarh'), ('15west bengal', 'kolkata')])\n"
          ]
        }
      ]
    },
    {
      "cell_type": "markdown",
      "source": [
        "5) pop():\n",
        "- removes and returns the value for a specified key."
      ],
      "metadata": {
        "id": "_G1lOn3tqAL1"
      }
    },
    {
      "cell_type": "code",
      "source": [
        "statesandcapitals={'1telangana':'hyderabad',\n",
        "                   '2andhra pradesh':'amaravati',\n",
        "                   '3maharashtra':'mumbai',\n",
        "                   '4chhattisgarh':'raipur',\n",
        "                   '5goa':'panaji',\n",
        "                   '6gujarat':'gandhinagar',\n",
        "                   '7haryana':'chandigarh',\n",
        "                   '8himachal pradesh':'shimla',\n",
        "                   '9himachal':'ranchi',\n",
        "                   '10karnataka':'bengaluru',\n",
        "                   '11kerala':'thiruvananthapuram',\n",
        "                   '12madhya pradesh':'bhopal',\n",
        "                   '13manipur':'imphal',\n",
        "                   '14punjab':'chandigarh',\n",
        "                   '15west bengal':'kolkata'}\n",
        "statesandcapitals.pop('15west bengal')\n",
        "print(statesandcapitals)"
      ],
      "metadata": {
        "colab": {
          "base_uri": "https://localhost:8080/"
        },
        "id": "8y1srf4lqS2G",
        "outputId": "bd196f98-01ad-4791-f334-65739152aae5"
      },
      "execution_count": 102,
      "outputs": [
        {
          "output_type": "stream",
          "name": "stdout",
          "text": [
            "{'1telangana': 'hyderabad', '2andhra pradesh': 'amaravati', '3maharashtra': 'mumbai', '4chhattisgarh': 'raipur', '5goa': 'panaji', '6gujarat': 'gandhinagar', '7haryana': 'chandigarh', '8himachal pradesh': 'shimla', '9himachal': 'ranchi', '10karnataka': 'bengaluru', '11kerala': 'thiruvananthapuram', '12madhya pradesh': 'bhopal', '13manipur': 'imphal', '14punjab': 'chandigarh'}\n"
          ]
        }
      ]
    },
    {
      "cell_type": "markdown",
      "source": [
        "6) popitem():\n",
        "- removies and returns the last inserted key-value pair as tuple."
      ],
      "metadata": {
        "id": "VTWACMo8qdTg"
      }
    },
    {
      "cell_type": "code",
      "source": [
        "statesandcapitals={'1telangana':'hyderabad',\n",
        "                   '2andhra pradesh':'amaravati',\n",
        "                   '3maharashtra':'mumbai',\n",
        "                   '4chhattisgarh':'raipur',\n",
        "                   '5goa':'panaji',\n",
        "                   '6gujarat':'gandhinagar',\n",
        "                   '7haryana':'chandigarh',\n",
        "                   '8himachal pradesh':'shimla',\n",
        "                   '9himachal':'ranchi',\n",
        "                   '10karnataka':'bengaluru',\n",
        "                   '11kerala':'thiruvananthapuram',\n",
        "                   '12madhya pradesh':'bhopal',\n",
        "                   '13manipur':'imphal',\n",
        "                   '14punjab':'chandigarh',\n",
        "                   '15west bengal':'kolkata'}\n",
        "statesandcapitals.popitem()\n",
        "print(statesandcapitals)"
      ],
      "metadata": {
        "colab": {
          "base_uri": "https://localhost:8080/"
        },
        "id": "41CqYisYqwM_",
        "outputId": "f852547f-808b-4df2-ad54-6aa9cd54d313"
      },
      "execution_count": 103,
      "outputs": [
        {
          "output_type": "stream",
          "name": "stdout",
          "text": [
            "{'1telangana': 'hyderabad', '2andhra pradesh': 'amaravati', '3maharashtra': 'mumbai', '4chhattisgarh': 'raipur', '5goa': 'panaji', '6gujarat': 'gandhinagar', '7haryana': 'chandigarh', '8himachal pradesh': 'shimla', '9himachal': 'ranchi', '10karnataka': 'bengaluru', '11kerala': 'thiruvananthapuram', '12madhya pradesh': 'bhopal', '13manipur': 'imphal', '14punjab': 'chandigarh'}\n"
          ]
        }
      ]
    },
    {
      "cell_type": "markdown",
      "source": [
        "7)update():\n",
        "- updates the dictionary with elements from another dictionary or from an iterable of key-values pairs."
      ],
      "metadata": {
        "id": "ecyIQecFrVAj"
      }
    },
    {
      "cell_type": "code",
      "source": [
        "statesandcapitals={'1telangana':'hyderabad',\n",
        "                   '2andhra pradesh':'amaravati',\n",
        "                   '3maharashtra':'mumbai',\n",
        "                   '4chhattisgarh':'raipur',\n",
        "                   '5goa':'panaji',\n",
        "                   '6gujarat':'gandhinagar',\n",
        "                   '7haryana':'chandigarh',\n",
        "                   '8himachal pradesh':'shimla',\n",
        "                   '9himachal':'ranchi',\n",
        "                   '10karnataka':'bengaluru',\n",
        "                   '11kerala':'thiruvananthapuram',\n",
        "                   '12madhya pradesh':'bhopal',\n",
        "                   '13manipur':'imphal',\n",
        "                   '14punjab':'chandigarh',\n",
        "                   '15west bengal':'kolkata'}\n",
        "statesandcapitals.update({'16tamilnadu':'chennai'})\n",
        "print(statesandcapitals)"
      ],
      "metadata": {
        "colab": {
          "base_uri": "https://localhost:8080/"
        },
        "id": "LzcEPojmrwS2",
        "outputId": "329e5cf5-1e0b-4316-99fb-5c3ffc3888a6"
      },
      "execution_count": 104,
      "outputs": [
        {
          "output_type": "stream",
          "name": "stdout",
          "text": [
            "{'1telangana': 'hyderabad', '2andhra pradesh': 'amaravati', '3maharashtra': 'mumbai', '4chhattisgarh': 'raipur', '5goa': 'panaji', '6gujarat': 'gandhinagar', '7haryana': 'chandigarh', '8himachal pradesh': 'shimla', '9himachal': 'ranchi', '10karnataka': 'bengaluru', '11kerala': 'thiruvananthapuram', '12madhya pradesh': 'bhopal', '13manipur': 'imphal', '14punjab': 'chandigarh', '15west bengal': 'kolkata', '16tamilnadu': 'chennai'}\n"
          ]
        }
      ]
    }
  ]
}