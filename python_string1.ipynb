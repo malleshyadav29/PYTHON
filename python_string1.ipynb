{
  "nbformat": 4,
  "nbformat_minor": 0,
  "metadata": {
    "colab": {
      "provenance": []
    },
    "kernelspec": {
      "name": "python3",
      "display_name": "Python 3"
    },
    "language_info": {
      "name": "python"
    }
  },
  "cells": [
    {
      "cell_type": "markdown",
      "source": [
        "#1) Define about string\n",
        "- In python, a string is a sequence of characters.\n",
        "-  for example, \"hello\" is a string containing a sequence of characters 'h' , 'e' , 'l' , 'l' , and 'o' .\n",
        "- we use single quotes or double qutoes to represent a string in python.\n",
        "- string is most commonly used data types and they are used to represent text\n",
        "- string can allow empty strings and space is also a charaters in strings\n",
        "- the string class represented by \"str\"\n",
        "- we can perform string in various operations and use methods to manipulate and work with string."
      ],
      "metadata": {
        "id": "FsKC7hBikPyE"
      }
    },
    {
      "cell_type": "markdown",
      "source": [
        "#2) create a 10 elements using single qutoes and double qutoes\n"
      ],
      "metadata": {
        "id": "gPD2uWw7nuTA"
      }
    },
    {
      "cell_type": "code",
      "source": [
        "c1 = '234+442j'\n",
        "print(c1)\n",
        "\n",
        "d = \"Data \\n science\"\n",
        "print(d)\n",
        "\n",
        "e = 'games'\n",
        "print(e)\n",
        "\n",
        "f = \"\"\n",
        "print(\"Empty string \\n\",f)\n",
        "\n",
        "g = \" \"\n",
        "print(\"space in string \\n\",g)\n",
        "\n",
        "h = \"wel-come to basara \"\n",
        "print(h*6)\n",
        "\n",
        "i = \"WELCOME  TO PYTHON PROGRAMMING LANGUAGE:) \\n\"\n",
        "print(i*10)\n",
        "\n",
        "j = 'WELCOME TO \\n PYTHON PROGRAMMING LANGUAGE \\n'\n",
        "print(j*8)\n",
        "\n",
        "k = \"\"\" This is\n",
        "                an example for\n",
        "                                triple quotes\"\"\"\n",
        "print(k)\n",
        "\n",
        "print(type(i))"
      ],
      "metadata": {
        "colab": {
          "base_uri": "https://localhost:8080/"
        },
        "id": "8pbIwqiu3hPJ",
        "outputId": "4e301b5c-965d-4e14-bbdb-d57a514bc43a"
      },
      "execution_count": null,
      "outputs": [
        {
          "output_type": "stream",
          "name": "stdout",
          "text": [
            "234+442j\n",
            "Data \n",
            " science\n",
            "games\n",
            "Empty string \n",
            " \n",
            "space in string \n",
            "  \n",
            "wel-come to basara wel-come to basara wel-come to basara wel-come to basara wel-come to basara wel-come to basara \n",
            "WELCOME  TO PYTHON PROGRAMMING LANGUAGE:) \n",
            "WELCOME  TO PYTHON PROGRAMMING LANGUAGE:) \n",
            "WELCOME  TO PYTHON PROGRAMMING LANGUAGE:) \n",
            "WELCOME  TO PYTHON PROGRAMMING LANGUAGE:) \n",
            "WELCOME  TO PYTHON PROGRAMMING LANGUAGE:) \n",
            "WELCOME  TO PYTHON PROGRAMMING LANGUAGE:) \n",
            "WELCOME  TO PYTHON PROGRAMMING LANGUAGE:) \n",
            "WELCOME  TO PYTHON PROGRAMMING LANGUAGE:) \n",
            "WELCOME  TO PYTHON PROGRAMMING LANGUAGE:) \n",
            "WELCOME  TO PYTHON PROGRAMMING LANGUAGE:) \n",
            "\n",
            "WELCOME TO \n",
            " PYTHON PROGRAMMING LANGUAGE \n",
            "WELCOME TO \n",
            " PYTHON PROGRAMMING LANGUAGE \n",
            "WELCOME TO \n",
            " PYTHON PROGRAMMING LANGUAGE \n",
            "WELCOME TO \n",
            " PYTHON PROGRAMMING LANGUAGE \n",
            "WELCOME TO \n",
            " PYTHON PROGRAMMING LANGUAGE \n",
            "WELCOME TO \n",
            " PYTHON PROGRAMMING LANGUAGE \n",
            "WELCOME TO \n",
            " PYTHON PROGRAMMING LANGUAGE \n",
            "WELCOME TO \n",
            " PYTHON PROGRAMMING LANGUAGE \n",
            "\n",
            " This is\n",
            "                an example for\n",
            "                                triple quotes\n",
            "<class 'str'>\n"
          ]
        }
      ]
    },
    {
      "cell_type": "markdown",
      "source": [
        "#3) create a sting 50 characters and access any 10 using index and apply slicing any 2 examples\n"
      ],
      "metadata": {
        "id": "nUQomAs2q_gI"
      }
    },
    {
      "cell_type": "code",
      "source": [
        "string = \"Hyderabad is best the place to have biryani in the whole world\"\n",
        "print(len(string))\n",
        "#indexing\n",
        "print(\"1 character index 0=\",string[0])\n",
        "print(\"62 character index 7=\",string[7])\n",
        "print(\"0character index =\",string[0])\n",
        "print(\"-2 character index 0=\",string[0])\n",
        "print(\"-44 string character index -16=\",[-1])\n",
        "print(\"7 character index 6 = \",string[6])\n",
        "print(\"15 character index 14 = \",string[14])\n",
        "print(\"22 character index 21 = \",string[21])\n",
        "print(\"70 character index -1 = \",string[-1])\n",
        "print(\"65 character index -5 = \",string[-5])\n",
        "#slicing\n",
        "print(\"Slcing of first 56 characters = \",string[:56])\n",
        "print(\"Slcing from 22 to 50 charater = \",string[32:44])\n",
        "print(\"Slcing of last 15 characters = \",string[-2:])\n",
        "print(\"Slcing of -28 to -5 = \",string[-28:-5])\n",
        "70\n",
        "\n"
      ],
      "metadata": {
        "colab": {
          "base_uri": "https://localhost:8080/"
        },
        "id": "PG5uuLzasbXc",
        "outputId": "3c6db326-7bf0-4b12-ad53-bd5f9e2f2c67"
      },
      "execution_count": null,
      "outputs": [
        {
          "output_type": "stream",
          "name": "stdout",
          "text": [
            "62\n",
            "1 character index 0= H\n",
            "62 character index 7= a\n",
            "0character index = H\n",
            "-2 character index 0= H\n",
            "-44 string character index -16= [-1]\n",
            "7 character index 6 =  b\n",
            "15 character index 14 =  e\n",
            "22 character index 21 =   \n",
            "70 character index -1 =  d\n",
            "65 character index -5 =  w\n",
            "Slcing of first 56 characters =  Hyderabad is best the place to have biryani in the whole\n",
            "Slcing from 22 to 50 charater =  ave biryani \n",
            "Slcing of last 15 characters =  ld\n",
            "Slcing of -28 to -5 =  e biryani in the whole \n"
          ]
        },
        {
          "output_type": "execute_result",
          "data": {
            "text/plain": [
              "70"
            ]
          },
          "metadata": {},
          "execution_count": 66
        }
      ]
    },
    {
      "cell_type": "markdown",
      "source": [
        "#4) EXPLAIN ABOUT STRING FORMAT\n",
        "- String format are classified into three types they are\n",
        "1. Old Style Format(% operator)\n",
        "2. Format Method\n",
        "3. String Interpolation(f-string)\n"
      ],
      "metadata": {
        "id": "H_JDCO9e4uh4"
      }
    },
    {
      "cell_type": "markdown",
      "source": [
        "1. Old Style Foarmat(% operation)\n",
        "\n",
        "- Uses the % operator and placeholders"
      ],
      "metadata": {
        "id": "T6fRUahu5KUJ"
      }
    },
    {
      "cell_type": "code",
      "source": [
        "#Example for % opertor\n",
        "village = \"nizamabad\"\n",
        "distance = 200\n",
        "string = \"My village is %s and the distance from hyderabad %fkilometers\"%(village,distance)\n",
        "print(string)"
      ],
      "metadata": {
        "colab": {
          "base_uri": "https://localhost:8080/"
        },
        "id": "-_8VHHaT5SDp",
        "outputId": "3de8a4c5-c549-4b5e-cd9f-3b56b5c40c3a"
      },
      "execution_count": null,
      "outputs": [
        {
          "output_type": "stream",
          "name": "stdout",
          "text": [
            "My village is nizamabad and the distance from hyderabad 200.000000kilometers\n"
          ]
        }
      ]
    },
    {
      "cell_type": "markdown",
      "source": [
        "2.Format Method\n",
        "\n",
        "- Uses the format() method with placeholder"
      ],
      "metadata": {
        "id": "oAi1B4Hd6Yvs"
      }
    },
    {
      "cell_type": "code",
      "source": [
        "#Example for format method\n",
        "village = \"nizamabad\"\n",
        "distance = 200\n",
        "string = \"My village is {} and the distance from hyderabad {} kilometers\".format(village,distance)\n",
        "print(string)"
      ],
      "metadata": {
        "colab": {
          "base_uri": "https://localhost:8080/"
        },
        "id": "J361VOZy6cR8",
        "outputId": "a3c863d1-513d-4d46-9833-7995f9a133cc"
      },
      "execution_count": null,
      "outputs": [
        {
          "output_type": "stream",
          "name": "stdout",
          "text": [
            "My village is nizamabad and the distance from hyderabad 200 kilometers\n"
          ]
        }
      ]
    },
    {
      "cell_type": "markdown",
      "source": [
        "3.String Interpolation(f-string)\n",
        "\n",
        "- f-string is used where expressions inside curly brackets { } are evaluted and replaced"
      ],
      "metadata": {
        "id": "c4-eImpi7y2a"
      }
    },
    {
      "cell_type": "code",
      "source": [
        "#Example for f-string\n",
        "name = \"malleshr\"\n",
        "age = 22\n",
        "loc = \"hitech city\"\n",
        "string = f\"My name is {name} and I am {age} years old and I am from {loc}.\"\n",
        "string1 = f\"My name is {name} \\n I am {age} years old \\n I am from {loc}.\"\n",
        "print(string)\n",
        "print(string1)"
      ],
      "metadata": {
        "colab": {
          "base_uri": "https://localhost:8080/"
        },
        "id": "lXSd33op79rW",
        "outputId": "fbd73415-c251-4a69-f067-15412b49a308"
      },
      "execution_count": null,
      "outputs": [
        {
          "output_type": "stream",
          "name": "stdout",
          "text": [
            "My name is malleshr and I am 22 years old and I am from hitech city.\n",
            "My name is malleshr \n",
            " I am 22 years old \n",
            " I am from hitech city.\n"
          ]
        }
      ]
    },
    {
      "cell_type": "markdown",
      "source": [
        "#5)apply operations\n",
        "1.concatnation:\n",
        "\n",
        "- adding of things"
      ],
      "metadata": {
        "id": "3cYeQ1p08L7e"
      }
    },
    {
      "cell_type": "code",
      "source": [
        "#concatenation\n",
        "a=\"my village is\"\n",
        "b=\"nizamabad\"\n",
        "c=a+' '+b\n",
        "print(c)"
      ],
      "metadata": {
        "colab": {
          "base_uri": "https://localhost:8080/"
        },
        "id": "SFE6v9QW9JAW",
        "outputId": "c3056fcd-4297-45a4-ad2a-93595b8ef995"
      },
      "execution_count": null,
      "outputs": [
        {
          "output_type": "stream",
          "name": "stdout",
          "text": [
            "my village is nizamabad\n"
          ]
        }
      ]
    },
    {
      "cell_type": "markdown",
      "source": [
        "2.repetition:\n",
        "\n",
        "- repeat values of a string\n"
      ],
      "metadata": {
        "id": "qH801iBH9S2L"
      }
    },
    {
      "cell_type": "code",
      "source": [
        "#repetition\n",
        "str1=\"my village is niamabad \"\n",
        "str2=str1*5\n",
        "print(str2)"
      ],
      "metadata": {
        "colab": {
          "base_uri": "https://localhost:8080/"
        },
        "id": "IRK_QdD29XWa",
        "outputId": "aa50e3b7-16e9-4675-eace-ae6abb2e66d7"
      },
      "execution_count": null,
      "outputs": [
        {
          "output_type": "stream",
          "name": "stdout",
          "text": [
            "my village is niamabad my village is niamabad my village is niamabad my village is niamabad my village is niamabad \n"
          ]
        }
      ]
    },
    {
      "cell_type": "markdown",
      "source": [
        "3.slicing:\n",
        "\n",
        "- slicing is a process of extracting a substring from a string"
      ],
      "metadata": {
        "id": "lOcJ86_h9l8E"
      }
    },
    {
      "cell_type": "code",
      "source": [
        "#slicing\n",
        "string = \"my village is niamabad\"\n",
        "print(string[4:15])\n",
        "print(string[-2:])\n",
        "print(string[:-15])\n",
        "print(string[:39])\n"
      ],
      "metadata": {
        "colab": {
          "base_uri": "https://localhost:8080/"
        },
        "id": "Deu3W-0Q9pNC",
        "outputId": "c0b750d6-7309-4e92-bd4a-436d90ff2655"
      },
      "execution_count": null,
      "outputs": [
        {
          "output_type": "stream",
          "name": "stdout",
          "text": [
            "illage is n\n",
            "ad\n",
            "my vill\n",
            "my village is niamabad\n"
          ]
        }
      ]
    },
    {
      "cell_type": "markdown",
      "source": [
        "4.indexing:\n",
        "- accessing individual character in a string"
      ],
      "metadata": {
        "id": "8CWuHcG4-3oP"
      }
    },
    {
      "cell_type": "code",
      "source": [
        "#Example for Indexing\n",
        "line = \"my village is nizamabad \\n \"\n",
        "print(line[11])\n",
        "print(line[-4])"
      ],
      "metadata": {
        "colab": {
          "base_uri": "https://localhost:8080/"
        },
        "id": "sZYn3jRY_cTx",
        "outputId": "b9af7433-09c1-49a9-c977-271bc5b9433a"
      },
      "execution_count": null,
      "outputs": [
        {
          "output_type": "stream",
          "name": "stdout",
          "text": [
            "i\n",
            "d\n"
          ]
        }
      ]
    },
    {
      "cell_type": "markdown",
      "source": [
        "#6) apply methods\n",
        "1.len():\n",
        "-  counts the characters in a string"
      ],
      "metadata": {
        "id": "JMHu0Qpo_3NE"
      }
    },
    {
      "cell_type": "code",
      "source": [
        "#example\n",
        "my_string=\"hello \"\n",
        "print(len(my_string))"
      ],
      "metadata": {
        "colab": {
          "base_uri": "https://localhost:8080/"
        },
        "id": "TzYcSCXu_95l",
        "outputId": "267b6226-f504-4198-a6f1-02470a1fe2e5"
      },
      "execution_count": null,
      "outputs": [
        {
          "output_type": "stream",
          "name": "stdout",
          "text": [
            "6\n"
          ]
        }
      ]
    },
    {
      "cell_type": "markdown",
      "source": [
        "2.lower()/upper():\n",
        "- converts entire data into lower/upper"
      ],
      "metadata": {
        "id": "ENZTpVjJAETD"
      }
    },
    {
      "cell_type": "code",
      "source": [
        "#example\n",
        "my_string=\"hello\"\n",
        "print(my_string.upper())"
      ],
      "metadata": {
        "colab": {
          "base_uri": "https://localhost:8080/"
        },
        "id": "9WUqzrbuAP1j",
        "outputId": "754121db-757b-4ea4-afce-25e10b7f1315"
      },
      "execution_count": null,
      "outputs": [
        {
          "output_type": "stream",
          "name": "stdout",
          "text": [
            "HELLO\n"
          ]
        }
      ]
    },
    {
      "cell_type": "markdown",
      "source": [
        "3.strip():\n",
        "- used to remove spaces beggining and ending"
      ],
      "metadata": {
        "id": "zvpN3WwkAWPm"
      }
    },
    {
      "cell_type": "code",
      "source": [
        "#example\n",
        "my_string=\"  python  \"\n",
        "stripped_string=my_string.strip()\n",
        "print(stripped_string)"
      ],
      "metadata": {
        "colab": {
          "base_uri": "https://localhost:8080/"
        },
        "id": "xQ7NAb4KAZDA",
        "outputId": "8d6c6e0b-efee-4731-8fde-14c8bb966b05"
      },
      "execution_count": null,
      "outputs": [
        {
          "output_type": "stream",
          "name": "stdout",
          "text": [
            "python\n"
          ]
        }
      ]
    },
    {
      "cell_type": "markdown",
      "source": [
        "4.replace():\n",
        "- replace substring with another substring"
      ],
      "metadata": {
        "id": "RKreAPvKAieO"
      }
    },
    {
      "cell_type": "code",
      "source": [
        "#example\n",
        "my_string=\"my name is mallesh\"\n",
        "str=my_string.replace(\"akshaya\",\"pavani\")\n",
        "print(str)"
      ],
      "metadata": {
        "colab": {
          "base_uri": "https://localhost:8080/"
        },
        "id": "t32bNBffAm98",
        "outputId": "ad51ac8c-9f4e-476e-c47a-44109adf9953"
      },
      "execution_count": null,
      "outputs": [
        {
          "output_type": "stream",
          "name": "stdout",
          "text": [
            "my name is mallesh\n"
          ]
        }
      ]
    },
    {
      "cell_type": "markdown",
      "source": [
        "5.split:\n",
        "- splits the one string into substring"
      ],
      "metadata": {
        "id": "X80qW6ioA0ui"
      }
    },
    {
      "cell_type": "code",
      "source": [
        "#example\n",
        "str=\"my name is mallesh\"\n",
        "str1=(str.split())\n",
        "print(str1)"
      ],
      "metadata": {
        "colab": {
          "base_uri": "https://localhost:8080/"
        },
        "id": "eDGGbLBCA4oR",
        "outputId": "53fefded-f576-46de-9064-630808d40d94"
      },
      "execution_count": null,
      "outputs": [
        {
          "output_type": "stream",
          "name": "stdout",
          "text": [
            "['my', 'name', 'is', 'mallesh']\n"
          ]
        }
      ]
    },
    {
      "cell_type": "markdown",
      "source": [
        "6.join:\n",
        "- it joins the substring all into one string"
      ],
      "metadata": {
        "id": "IACjFw26BBWb"
      }
    },
    {
      "cell_type": "code",
      "source": [
        "#example\n",
        "name=['sathayam','kanna','pavan','yogesh']\n",
        "print(\" \".join(name))"
      ],
      "metadata": {
        "id": "3ztQRrZJBFsw"
      },
      "execution_count": null,
      "outputs": []
    },
    {
      "cell_type": "markdown",
      "source": [
        "7.capitalize:\n",
        "- it converts the first character to upper case"
      ],
      "metadata": {
        "id": "-qbwjxo2uv6K"
      }
    },
    {
      "cell_type": "code",
      "source": [
        "#example\n",
        "a=\"hyderabad\"\n",
        "print(a.capitalize())"
      ],
      "metadata": {
        "colab": {
          "base_uri": "https://localhost:8080/"
        },
        "id": "j9mXh4stu0dp",
        "outputId": "ecba6523-5bcc-4348-80fb-6f3a5c5089d3"
      },
      "execution_count": 1,
      "outputs": [
        {
          "output_type": "stream",
          "name": "stdout",
          "text": [
            "Hyderabad\n"
          ]
        }
      ]
    },
    {
      "cell_type": "markdown",
      "source": [
        "8.casefold:\n",
        "- it returns the string into lower case"
      ],
      "metadata": {
        "id": "Kq3R6BkOvT7l"
      }
    },
    {
      "cell_type": "code",
      "source": [
        "#example\n",
        "name=\"MallEsH\"\n",
        "print(name.casefold())"
      ],
      "metadata": {
        "colab": {
          "base_uri": "https://localhost:8080/"
        },
        "id": "zpHHl3C5vWwg",
        "outputId": "5897a2e0-9769-4dec-84c0-777da1c2b802"
      },
      "execution_count": 2,
      "outputs": [
        {
          "output_type": "stream",
          "name": "stdout",
          "text": [
            "mallesh\n"
          ]
        }
      ]
    },
    {
      "cell_type": "markdown",
      "source": [
        "9.center:\n",
        "- it returns the centered string"
      ],
      "metadata": {
        "id": "akREjaHJvlTG"
      }
    },
    {
      "cell_type": "code",
      "source": [
        "#example\n",
        "name=\"mallesh yadav\"\n",
        "print(name.center(77))\n"
      ],
      "metadata": {
        "colab": {
          "base_uri": "https://localhost:8080/"
        },
        "id": "E_WQdmNBvr8J",
        "outputId": "85b759a4-d160-4c53-bb96-3b7321b3b12b"
      },
      "execution_count": 3,
      "outputs": [
        {
          "output_type": "stream",
          "name": "stdout",
          "text": [
            "                                mallesh yadav                                \n"
          ]
        }
      ]
    },
    {
      "cell_type": "markdown",
      "source": [
        "10.count:\n",
        "- it represents the number of occurance of a string"
      ],
      "metadata": {
        "id": "uMug1Z-Wwgev"
      }
    },
    {
      "cell_type": "code",
      "source": [
        "#example\n",
        "str=\"my name is mallesh\"\n",
        "print(str.count('is'))"
      ],
      "metadata": {
        "colab": {
          "base_uri": "https://localhost:8080/"
        },
        "id": "gn_AjAoewlZo",
        "outputId": "391ff070-b48c-4102-a9a8-da0aadd2429b"
      },
      "execution_count": 4,
      "outputs": [
        {
          "output_type": "stream",
          "name": "stdout",
          "text": [
            "1\n"
          ]
        }
      ]
    },
    {
      "cell_type": "markdown",
      "source": [
        "11.find:\n",
        "- it finds the string place and identifies it"
      ],
      "metadata": {
        "id": "JS2k0fmexpdB"
      }
    },
    {
      "cell_type": "code",
      "source": [
        "#example\n",
        "str=\"my name is mallesh\"\n",
        "print(str.find('is'))"
      ],
      "metadata": {
        "colab": {
          "base_uri": "https://localhost:8080/"
        },
        "id": "kwuIyWGKxsEc",
        "outputId": "b2f7fc83-1b22-41e4-84e3-1f7952e88bb5"
      },
      "execution_count": 5,
      "outputs": [
        {
          "output_type": "stream",
          "name": "stdout",
          "text": [
            "8\n"
          ]
        }
      ]
    },
    {
      "cell_type": "markdown",
      "source": [
        "12.encode:\n",
        "- it returnes the encoded version of the string"
      ],
      "metadata": {
        "id": "zzSNta_Ex3wX"
      }
    },
    {
      "cell_type": "code",
      "source": [
        "#example\n",
        "name=\"mallesh\"\n",
        "end=name.encode()\n",
        "print(end)"
      ],
      "metadata": {
        "colab": {
          "base_uri": "https://localhost:8080/"
        },
        "id": "HdaB3YheyH-m",
        "outputId": "fadab8cc-1f69-45aa-e4ad-8cd6092f82c7"
      },
      "execution_count": 7,
      "outputs": [
        {
          "output_type": "stream",
          "name": "stdout",
          "text": [
            "b'mallesh'\n"
          ]
        }
      ]
    },
    {
      "cell_type": "markdown",
      "source": [
        "13.endswith:\n",
        "- it prints true if the string ends with the specified value"
      ],
      "metadata": {
        "id": "-IC7V4bayUMr"
      }
    },
    {
      "cell_type": "code",
      "source": [
        "#example\n",
        "name=\"hyderabad\"\n",
        "str=name.endswith('ba')\n",
        "print(str)"
      ],
      "metadata": {
        "colab": {
          "base_uri": "https://localhost:8080/"
        },
        "id": "wgPzrE4YyXdB",
        "outputId": "53fad6d8-1566-4418-eb3b-4384f4dea18c"
      },
      "execution_count": 8,
      "outputs": [
        {
          "output_type": "stream",
          "name": "stdout",
          "text": [
            "False\n"
          ]
        }
      ]
    },
    {
      "cell_type": "markdown",
      "source": [
        "14.format:\n",
        "- it formats the specific tabs in the string"
      ],
      "metadata": {
        "id": "UTnCkyBiyooY"
      }
    },
    {
      "cell_type": "code",
      "source": [
        "#example\n",
        "name=\"mallesh\"\n",
        "age=21\n",
        "formated_string=\"my name is {} and i'm {} years old\" .format(name,age)\n",
        "print(formated_string)"
      ],
      "metadata": {
        "colab": {
          "base_uri": "https://localhost:8080/"
        },
        "id": "_0Dkbh0Ays1F",
        "outputId": "e2978de0-08a3-4283-a099-d7519cf16a1a"
      },
      "execution_count": 9,
      "outputs": [
        {
          "output_type": "stream",
          "name": "stdout",
          "text": [
            "my name is mallesh and i'm 21 years old\n"
          ]
        }
      ]
    },
    {
      "cell_type": "markdown",
      "source": [
        "15.expandtabs:\n",
        "- it sets the string tab size"
      ],
      "metadata": {
        "id": "gdZPHcS0zOs4"
      }
    },
    {
      "cell_type": "code",
      "source": [
        "#example\n",
        "text_with_tabs=\"my,\\t name!\\thow are you?\"\n",
        "str=text_with_tabs.expandtabs()\n",
        "print(str)"
      ],
      "metadata": {
        "colab": {
          "base_uri": "https://localhost:8080/"
        },
        "id": "b_FjSxtHzS9D",
        "outputId": "fa2f657f-4ad0-470a-95a8-5e3465019629"
      },
      "execution_count": 10,
      "outputs": [
        {
          "output_type": "stream",
          "name": "stdout",
          "text": [
            "my,      name!  how are you?\n"
          ]
        }
      ]
    },
    {
      "cell_type": "markdown",
      "source": [
        "16.index:\n",
        "-  it returns the position of the string and gives it index number"
      ],
      "metadata": {
        "id": "Ai84Ck5tzgPU"
      }
    },
    {
      "cell_type": "code",
      "source": [
        "#example\n",
        "name=\"mallesh\"\n",
        "print(name.index('e'))"
      ],
      "metadata": {
        "colab": {
          "base_uri": "https://localhost:8080/"
        },
        "id": "SO_PYLZVzi1W",
        "outputId": "865cf095-67dd-44f4-cfc1-39b39b4264cf"
      },
      "execution_count": 12,
      "outputs": [
        {
          "output_type": "stream",
          "name": "stdout",
          "text": [
            "4\n"
          ]
        }
      ]
    },
    {
      "cell_type": "markdown",
      "source": [
        "17.isalnum:\n",
        "- it returns true if the string is alphanumeric"
      ],
      "metadata": {
        "id": "Gho8mgGFzxzJ"
      }
    },
    {
      "cell_type": "code",
      "source": [
        "#example\n",
        "name=\"mallesh99\"\n",
        "print(name.isalnum())"
      ],
      "metadata": {
        "colab": {
          "base_uri": "https://localhost:8080/"
        },
        "id": "ZWpLz9NBz1Jv",
        "outputId": "35f02bfd-9242-408f-cc98-6a75889c8855"
      },
      "execution_count": 15,
      "outputs": [
        {
          "output_type": "stream",
          "name": "stdout",
          "text": [
            "True\n"
          ]
        }
      ]
    },
    {
      "cell_type": "markdown",
      "source": [
        "18.isalpha:\n",
        "- it returns true if all the characters in the string are alphabets"
      ],
      "metadata": {
        "id": "7Wdvd0SR0CRd"
      }
    },
    {
      "cell_type": "code",
      "source": [
        "#example\n",
        "name=\"mallesh99\"\n",
        "print(name.isalpha())"
      ],
      "metadata": {
        "colab": {
          "base_uri": "https://localhost:8080/"
        },
        "id": "36OKy7QI0IVh",
        "outputId": "97ab5265-bad6-453d-a52d-e238e2317d38"
      },
      "execution_count": 16,
      "outputs": [
        {
          "output_type": "stream",
          "name": "stdout",
          "text": [
            "False\n"
          ]
        }
      ]
    },
    {
      "cell_type": "markdown",
      "source": [
        "19.isascii:\n",
        "- it returns true if all character in the string are ascii"
      ],
      "metadata": {
        "id": "ZkPAAoj20UPj"
      }
    },
    {
      "cell_type": "code",
      "source": [
        "#example\n",
        "import string\n",
        "str=string.ascii_uppercase\n",
        "print(str)"
      ],
      "metadata": {
        "colab": {
          "base_uri": "https://localhost:8080/"
        },
        "id": "SLDx9LI00iSI",
        "outputId": "247d7569-eaeb-4933-b2d6-ccb6f90f914e"
      },
      "execution_count": 17,
      "outputs": [
        {
          "output_type": "stream",
          "name": "stdout",
          "text": [
            "ABCDEFGHIJKLMNOPQRSTUVWXYZ\n"
          ]
        }
      ]
    },
    {
      "cell_type": "markdown",
      "source": [
        "20.isdecimal:\n",
        "- it returns true if all character in the string are decimals"
      ],
      "metadata": {
        "id": "1rnTFK-_0esr"
      }
    },
    {
      "cell_type": "code",
      "source": [
        "#example\n",
        "weight=\"75.5,54.6,30\"\n",
        "print(weight.isdecimal())"
      ],
      "metadata": {
        "colab": {
          "base_uri": "https://localhost:8080/"
        },
        "id": "q6SEh4tZ0UtZ",
        "outputId": "482bafba-b995-44cb-db8c-75de26300f80"
      },
      "execution_count": 18,
      "outputs": [
        {
          "output_type": "stream",
          "name": "stdout",
          "text": [
            "False\n"
          ]
        }
      ]
    },
    {
      "cell_type": "markdown",
      "source": [
        "21.isdigit:\n",
        "- it returns true if all character in a string are digits"
      ],
      "metadata": {
        "id": "Hyxhm3FS0VHO"
      }
    },
    {
      "cell_type": "code",
      "source": [
        "#example\n",
        "number=\"9\"\n",
        "print(number.isdigit())"
      ],
      "metadata": {
        "colab": {
          "base_uri": "https://localhost:8080/"
        },
        "id": "EYti_ZmT0Vll",
        "outputId": "a259e9b4-cc34-4d89-81f6-480bb1547e02"
      },
      "execution_count": 19,
      "outputs": [
        {
          "output_type": "stream",
          "name": "stdout",
          "text": [
            "True\n"
          ]
        }
      ]
    },
    {
      "cell_type": "markdown",
      "source": [
        "22.isidentifier:\n",
        "- it returns true if the string is an identifier and it cannot come true is they are numbers"
      ],
      "metadata": {
        "id": "VT32ddJi1DzS"
      }
    },
    {
      "cell_type": "code",
      "source": [
        "#example\n",
        "name=\"mallesh_99\"\n",
        "print(name.isidentifier())"
      ],
      "metadata": {
        "colab": {
          "base_uri": "https://localhost:8080/"
        },
        "id": "d0dKCA1C1KM5",
        "outputId": "d6c49389-ab50-4a5b-a7de-f1d0567261b9"
      },
      "execution_count": 20,
      "outputs": [
        {
          "output_type": "stream",
          "name": "stdout",
          "text": [
            "True\n"
          ]
        }
      ]
    },
    {
      "cell_type": "markdown",
      "source": [
        "23.islower:\n",
        "- it returns true if all characters in the string are lowercase"
      ],
      "metadata": {
        "id": "VrinOjMo1WLZ"
      }
    },
    {
      "cell_type": "code",
      "source": [
        "name=\"HYDERABAD\"\n",
        "print(name.islower())\n",
        "name=\"hyderabad\"\n",
        "print(name.islower())"
      ],
      "metadata": {
        "colab": {
          "base_uri": "https://localhost:8080/"
        },
        "id": "qez5_ofx1Ygv",
        "outputId": "18c5c61a-efa6-46bf-eca2-f8e8c7f3b69a"
      },
      "execution_count": 25,
      "outputs": [
        {
          "output_type": "stream",
          "name": "stdout",
          "text": [
            "False\n",
            "True\n"
          ]
        }
      ]
    },
    {
      "cell_type": "markdown",
      "source": [
        "24.isupper:\n",
        "- it returns true if all character in the string are uppercase"
      ],
      "metadata": {
        "id": "Wi-cq_611kib"
      }
    },
    {
      "cell_type": "code",
      "source": [
        "name=\"HYDERABAD\"\n",
        "print(name.islower())\n",
        "name=\"hyderabad\"\n",
        "print(name.islower())"
      ],
      "metadata": {
        "colab": {
          "base_uri": "https://localhost:8080/"
        },
        "id": "aqk_8H8p17Iw",
        "outputId": "0237fc28-73b1-4a61-c237-18f30290dc4e"
      },
      "execution_count": 24,
      "outputs": [
        {
          "output_type": "stream",
          "name": "stdout",
          "text": [
            "False\n",
            "True\n"
          ]
        }
      ]
    },
    {
      "cell_type": "markdown",
      "source": [
        "25.isnumeric:\n",
        "- it returns true if all character in the string are numeric"
      ],
      "metadata": {
        "id": "Ap8wECOB2ITQ"
      }
    },
    {
      "cell_type": "code",
      "source": [
        "age=\"55,88\"\n",
        "print(age.isnumeric())\n",
        "age=\"7\"\n",
        "print(age.isnumeric())"
      ],
      "metadata": {
        "colab": {
          "base_uri": "https://localhost:8080/"
        },
        "id": "vdoLmfmy2MV7",
        "outputId": "72b12891-76b6-41b9-aa00-c962f9e81808"
      },
      "execution_count": 26,
      "outputs": [
        {
          "output_type": "stream",
          "name": "stdout",
          "text": [
            "False\n",
            "True\n"
          ]
        }
      ]
    },
    {
      "cell_type": "markdown",
      "source": [
        "26.istitle:\n",
        "- it returns true if the string is title cased"
      ],
      "metadata": {
        "id": "O8PFf5wI2VOC"
      }
    },
    {
      "cell_type": "code",
      "source": [
        "str=\"my name is mallesh\"\n",
        "print(str.istitle())"
      ],
      "metadata": {
        "colab": {
          "base_uri": "https://localhost:8080/"
        },
        "id": "iVaswBQ62crJ",
        "outputId": "7765782c-bb1d-4806-d289-cd41ac0bdbf6"
      },
      "execution_count": 27,
      "outputs": [
        {
          "output_type": "stream",
          "name": "stdout",
          "text": [
            "False\n"
          ]
        }
      ]
    },
    {
      "cell_type": "markdown",
      "source": [
        "27.isspace:\n",
        "- it returns true if all characters in the string are whitespaces"
      ],
      "metadata": {
        "id": "Xl9z1Qo72msV"
      }
    },
    {
      "cell_type": "code",
      "source": [
        "name=\"hyderabadadilabad\"\n",
        "print(name.isspace())"
      ],
      "metadata": {
        "colab": {
          "base_uri": "https://localhost:8080/"
        },
        "id": "B9YNDp7T2uan",
        "outputId": "8dc9d73e-fe8f-4cbd-f90c-cd038a95ee36"
      },
      "execution_count": 30,
      "outputs": [
        {
          "output_type": "stream",
          "name": "stdout",
          "text": [
            "False\n"
          ]
        }
      ]
    },
    {
      "cell_type": "markdown",
      "source": [
        "28.isprintable:\n",
        "- it returns true if all character in the string are printable"
      ],
      "metadata": {
        "id": "5OR0C3ny3LqD"
      }
    },
    {
      "cell_type": "code",
      "source": [
        "name=\"mallesh\"\n",
        "print(name.isprintable())"
      ],
      "metadata": {
        "colab": {
          "base_uri": "https://localhost:8080/"
        },
        "id": "cOSxEMXg3ObQ",
        "outputId": "1cd6c91f-4199-40fa-e176-77714287498b"
      },
      "execution_count": 31,
      "outputs": [
        {
          "output_type": "stream",
          "name": "stdout",
          "text": [
            "True\n"
          ]
        }
      ]
    },
    {
      "cell_type": "markdown",
      "source": [
        "29.lstrip:\n",
        "- it returns a copy of tyhe string by removing starting whitespaces"
      ],
      "metadata": {
        "id": "2pg9jZkA3ZdF"
      }
    },
    {
      "cell_type": "code",
      "source": [
        "#example\n",
        "str=\"   hyderabad\"\n",
        "print(str.lstrip())"
      ],
      "metadata": {
        "colab": {
          "base_uri": "https://localhost:8080/"
        },
        "id": "E08GKXzd3bd3",
        "outputId": "88a9317d-711b-48f8-c5dd-604185d7f1b5"
      },
      "execution_count": 32,
      "outputs": [
        {
          "output_type": "stream",
          "name": "stdout",
          "text": [
            "hyderabad\n"
          ]
        }
      ]
    },
    {
      "cell_type": "markdown",
      "source": [
        "30.rstrip:\n",
        "- it returns the string by removing the ending whitespaces"
      ],
      "metadata": {
        "id": "pPk8S_r73mQt"
      }
    },
    {
      "cell_type": "code",
      "source": [
        "#example\n",
        "str=\"hyderabad     \"\n",
        "print(str.rstrip())"
      ],
      "metadata": {
        "colab": {
          "base_uri": "https://localhost:8080/"
        },
        "id": "mlJFsFDi3ofP",
        "outputId": "fcaf2b42-4ffb-46ed-92e8-a7d32e332422"
      },
      "execution_count": 34,
      "outputs": [
        {
          "output_type": "stream",
          "name": "stdout",
          "text": [
            "hyderabad\n"
          ]
        }
      ]
    },
    {
      "cell_type": "markdown",
      "source": [
        "31.splitlines:\n",
        "- it will split the string and returns a list"
      ],
      "metadata": {
        "id": "juzDAsCj3-OH"
      }
    },
    {
      "cell_type": "code",
      "source": [
        "#example\n",
        "str=\"my\\n name\\n is\\n mallesh\\n\"\n",
        "c=str.splitlines()\n",
        "print(c)"
      ],
      "metadata": {
        "colab": {
          "base_uri": "https://localhost:8080/"
        },
        "id": "_7XTI8Ui4Ajm",
        "outputId": "d2ed5b57-2ab5-4004-e56a-aa7c2ab9bc18"
      },
      "execution_count": 35,
      "outputs": [
        {
          "output_type": "stream",
          "name": "stdout",
          "text": [
            "['my', ' name', ' is', ' mallesh']\n"
          ]
        }
      ]
    },
    {
      "cell_type": "markdown",
      "source": [
        "32.ljust:\n",
        "- the string methods returns a new string of a given length after substituting a given character in rightside of original string"
      ],
      "metadata": {
        "id": "qh5wgqcU4G9y"
      }
    },
    {
      "cell_type": "code",
      "source": [
        "#example\n",
        "str=\"mallesh\"\n",
        "length=5\n",
        "print(str.ljust(length))"
      ],
      "metadata": {
        "colab": {
          "base_uri": "https://localhost:8080/"
        },
        "id": "6rLSdv4P4Nnm",
        "outputId": "99791e66-2f2b-4d9c-87cf-61eb5cd30639"
      },
      "execution_count": 38,
      "outputs": [
        {
          "output_type": "stream",
          "name": "stdout",
          "text": [
            "mallesh\n"
          ]
        }
      ]
    },
    {
      "cell_type": "markdown",
      "source": [
        "33.rjust:\n",
        "- thsi method returns a new string of a given length after substituting a given character in leftside of original string"
      ],
      "metadata": {
        "id": "Zgb4aqK74n2N"
      }
    },
    {
      "cell_type": "code",
      "source": [
        "#example\n",
        "str=\"mallesh\"\n",
        "length=7\n",
        "print(str.rjust(length))"
      ],
      "metadata": {
        "id": "XHa6xDuC4wrY",
        "outputId": "aaaee15f-0c25-4fa5-efda-f56a3ba5bc85",
        "colab": {
          "base_uri": "https://localhost:8080/"
        }
      },
      "execution_count": 39,
      "outputs": [
        {
          "output_type": "stream",
          "name": "stdout",
          "text": [
            "mallesh\n"
          ]
        }
      ]
    },
    {
      "cell_type": "markdown",
      "source": [
        "34.zfill:\n",
        "- it returns a copy of the string with 0 characters padded to the left side of the given string"
      ],
      "metadata": {
        "id": "SdTcHajI43Tw"
      }
    },
    {
      "cell_type": "code",
      "source": [
        "#example\n",
        "name=\"my name is mallesh\"\n",
        "print(name.zfill(17))\n",
        "print(name.zfill(25))\n",
        "print(name.zfill(40))"
      ],
      "metadata": {
        "id": "VY5nCz1h480h",
        "outputId": "4beb8dda-7994-4612-b5c6-88b8acd39f70",
        "colab": {
          "base_uri": "https://localhost:8080/"
        }
      },
      "execution_count": 43,
      "outputs": [
        {
          "output_type": "stream",
          "name": "stdout",
          "text": [
            "my name is mallesh\n",
            "0000000my name is mallesh\n",
            "0000000000000000000000my name is mallesh\n"
          ]
        }
      ]
    },
    {
      "cell_type": "markdown",
      "source": [
        "35.swapcase:\n",
        "- converts all uppercase characters to lowercase and viceversa"
      ],
      "metadata": {
        "id": "l1cvoQty5XVs"
      }
    },
    {
      "cell_type": "code",
      "source": [
        "#example\n",
        "str=\"MallEsh\"\n",
        "print(str.swapcase())\n",
        "\n",
        "str=\"mallesh\"\n",
        "print(str.swapcase())\n",
        "\n",
        "ste=\"MALLESH\"\n",
        "print(str.swapcase())"
      ],
      "metadata": {
        "id": "2fhvtbAH5dvW",
        "outputId": "a6049f04-5961-44ed-ee39-d6689eaf2ed1",
        "colab": {
          "base_uri": "https://localhost:8080/"
        }
      },
      "execution_count": 44,
      "outputs": [
        {
          "output_type": "stream",
          "name": "stdout",
          "text": [
            "mALLeSH\n",
            "MALLESH\n",
            "MALLESH\n"
          ]
        }
      ]
    },
    {
      "cell_type": "markdown",
      "source": [
        "36.startswith:\n",
        "- returns true if a string starts with the given prefix"
      ],
      "metadata": {
        "id": "ZbTFGtYr5uGl"
      }
    },
    {
      "cell_type": "code",
      "source": [
        "str=\"mallesh\"\n",
        "print(str.startswith(\"Mallesh\"))"
      ],
      "metadata": {
        "id": "3jOpefMY5zdZ",
        "outputId": "f8aad76a-0141-4a82-ea3b-ea6adff61e31",
        "colab": {
          "base_uri": "https://localhost:8080/"
        }
      },
      "execution_count": 45,
      "outputs": [
        {
          "output_type": "stream",
          "name": "stdout",
          "text": [
            "False\n"
          ]
        }
      ]
    },
    {
      "cell_type": "markdown",
      "source": [
        "37.rindex:\n",
        "- returns the highest index of the substring inside the string"
      ],
      "metadata": {
        "id": "bDx5atTz5-ZW"
      }
    },
    {
      "cell_type": "code",
      "source": [
        "str='mallesh for mallesh'\n",
        "name=str.rindex('mallesh')\n",
        "print(\"substring 'mallesh':\",name)"
      ],
      "metadata": {
        "id": "9oJUapHV6DJS",
        "outputId": "18017193-56b5-4240-c9e1-c1b962f2df95",
        "colab": {
          "base_uri": "https://localhost:8080/"
        }
      },
      "execution_count": 46,
      "outputs": [
        {
          "output_type": "stream",
          "name": "stdout",
          "text": [
            "substring 'mallesh': 12\n"
          ]
        }
      ]
    },
    {
      "cell_type": "markdown",
      "source": [
        "38.rfind:\n",
        "- returns the highest index of the substring"
      ],
      "metadata": {
        "id": "yFZmePod6TFn"
      }
    },
    {
      "cell_type": "code",
      "source": [
        "str=\"malleshformallesh\"\n",
        "print(str.rfind(\"mallesh\"))"
      ],
      "metadata": {
        "id": "kGncD2Wu6Z7D",
        "outputId": "50ad8399-62b7-41b2-aa54-d4279f955bf1",
        "colab": {
          "base_uri": "https://localhost:8080/"
        }
      },
      "execution_count": 48,
      "outputs": [
        {
          "output_type": "stream",
          "name": "stdout",
          "text": [
            "10\n"
          ]
        }
      ]
    },
    {
      "cell_type": "markdown",
      "source": [
        "39.format_map:\n",
        "- formats specified values in a string using a dictionary"
      ],
      "metadata": {
        "id": "6palAfes6nWw"
      }
    },
    {
      "cell_type": "code",
      "source": [
        "a={'x':'hyderabad','y':'nirmal'}\n",
        "print(\"{x}'s last name is {y}\".format_map(a))"
      ],
      "metadata": {
        "id": "VY-TGt5D6s8o",
        "outputId": "b6b6908a-dd9f-46cb-d981-790a0e157357",
        "colab": {
          "base_uri": "https://localhost:8080/"
        }
      },
      "execution_count": 49,
      "outputs": [
        {
          "output_type": "stream",
          "name": "stdout",
          "text": [
            "hyderabad's last name is nirmal\n"
          ]
        }
      ]
    },
    {
      "cell_type": "markdown",
      "source": [
        "40.translate: modify string according to given translation mapping\n",
        "\n"
      ],
      "metadata": {
        "id": "8vOWOfJP7CpB"
      }
    },
    {
      "cell_type": "code",
      "source": [
        "translation={103:None,101:None,101:None}\n",
        "str=\"mallesh\"\n",
        "print(\"translated string:\",str.translate(translation))"
      ],
      "metadata": {
        "id": "KqZIXXmk7EBG",
        "outputId": "3746dfba-3393-4763-ff18-ae496984f426",
        "colab": {
          "base_uri": "https://localhost:8080/"
        }
      },
      "execution_count": 51,
      "outputs": [
        {
          "output_type": "stream",
          "name": "stdout",
          "text": [
            "translated string: mallsh\n"
          ]
        }
      ]
    }
  ]
}