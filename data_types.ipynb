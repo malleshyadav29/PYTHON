{
  "nbformat": 4,
  "nbformat_minor": 0,
  "metadata": {
    "colab": {
      "provenance": []
    },
    "kernelspec": {
      "name": "python3",
      "display_name": "Python 3"
    },
    "language_info": {
      "name": "python"
    }
  },
  "cells": [
    {
      "cell_type": "markdown",
      "source": [
        "DATA TYPES\n",
        "\n",
        "- Data Types Specifies a Type of value to perform a operation on that value.\n",
        "- There ara Two Types\n",
        "- Basic Data Type\n",
        "- Advanced Data Types"
      ],
      "metadata": {
        "id": "WmQNiJDDzSvl"
      }
    },
    {
      "cell_type": "markdown",
      "source": [
        "Basic Data Types\n",
        "\n",
        "Integer\n",
        "\n",
        "- The Number that can be a Positive,Negative and Zero .it can not have any fractional or Decimal number."
      ],
      "metadata": {
        "id": "1it354Znzru3"
      }
    },
    {
      "cell_type": "code",
      "source": [
        "i=900\n",
        "print(type(i))\n",
        "\n"
      ],
      "metadata": {
        "colab": {
          "base_uri": "https://localhost:8080/"
        },
        "id": "n3n-Gf31z6C5",
        "outputId": "f0d92bb0-ab44-40dd-e91b-5ab41a7f5ddd"
      },
      "execution_count": 2,
      "outputs": [
        {
          "output_type": "stream",
          "name": "stdout",
          "text": [
            "<class 'int'>\n"
          ]
        }
      ]
    },
    {
      "cell_type": "markdown",
      "source": [
        "Float\n",
        "- The Number that can be a positive , negative and zero with  decimal point."
      ],
      "metadata": {
        "id": "_dUAr5_70St_"
      }
    },
    {
      "cell_type": "code",
      "source": [
        "k=6.98790\n",
        "print(type(k))"
      ],
      "metadata": {
        "colab": {
          "base_uri": "https://localhost:8080/"
        },
        "id": "NHLO326s00Bi",
        "outputId": "9dd4b35b-0710-4f84-ba9e-d2d8082d2e41"
      },
      "execution_count": 3,
      "outputs": [
        {
          "output_type": "stream",
          "name": "stdout",
          "text": [
            "<class 'float'>\n"
          ]
        }
      ]
    },
    {
      "cell_type": "markdown",
      "source": [
        "Complex\n",
        "\n",
        "- The combination of real numbers and iamaginary number."
      ],
      "metadata": {
        "id": "8RWeVElq1D69"
      }
    },
    {
      "cell_type": "code",
      "source": [
        "a=6876+54j\n",
        "print(type(a))"
      ],
      "metadata": {
        "colab": {
          "base_uri": "https://localhost:8080/"
        },
        "id": "FqslDxqj1Qg5",
        "outputId": "ecef259f-fafe-42b3-bc3e-e03ae3e56750"
      },
      "execution_count": 4,
      "outputs": [
        {
          "output_type": "stream",
          "name": "stdout",
          "text": [
            "<class 'complex'>\n"
          ]
        }
      ]
    },
    {
      "cell_type": "markdown",
      "source": [
        "Examples for Basic Data Types"
      ],
      "metadata": {
        "id": "R3PiNdnC1lco"
      }
    },
    {
      "cell_type": "code",
      "source": [
        "a=98\n",
        "b=98.76\n",
        "c=98+66j\n",
        "print(type(c))\n",
        "print(type(a))\n",
        "print(type(b))"
      ],
      "metadata": {
        "colab": {
          "base_uri": "https://localhost:8080/"
        },
        "id": "sAO5tSXS1rkV",
        "outputId": "0e137e7e-74ef-450c-c967-72b89f7259f4"
      },
      "execution_count": 5,
      "outputs": [
        {
          "output_type": "stream",
          "name": "stdout",
          "text": [
            "<class 'complex'>\n",
            "<class 'int'>\n",
            "<class 'float'>\n"
          ]
        }
      ]
    },
    {
      "cell_type": "code",
      "source": [
        "a=-46\n",
        "b=-523.1805\n",
        "c=-96+97j\n",
        "print(type(a))\n",
        "print(type(b))\n",
        "print(type(c))"
      ],
      "metadata": {
        "colab": {
          "base_uri": "https://localhost:8080/"
        },
        "id": "3ZfX7db218uL",
        "outputId": "f3cd2951-5a3f-4677-b48a-5c45a38d0bec"
      },
      "execution_count": 6,
      "outputs": [
        {
          "output_type": "stream",
          "name": "stdout",
          "text": [
            "<class 'int'>\n",
            "<class 'float'>\n",
            "<class 'complex'>\n"
          ]
        }
      ]
    },
    {
      "cell_type": "code",
      "source": [
        "a=-67\n",
        "b=98.34\n",
        "c=-32+82j\n",
        "d=a+b\n",
        "e=a+b+c\n",
        "f=a*b\n",
        "g=a-c-d\n",
        "h=g*a*a*c*d\n",
        "i=a*a*a*a*a-e\n",
        "print(d)\n",
        "print(type(d))\n",
        "print(e)\n",
        "print(type(e))\n",
        "print(f)\n",
        "print(type(f))\n",
        "print(g)\n",
        "print(type(g))\n",
        "print(h)\n",
        "print(type(h))\n",
        "print(i)\n",
        "print(type(i))\n",
        "print(type(a))\n",
        "print(type(b))\n",
        "print(type(c))\n",
        "print(type(d))\n",
        "print(type(e))\n",
        "print(type(f))\n",
        "print(type(g))\n",
        "print(type(h))\n",
        "print(type(i))"
      ],
      "metadata": {
        "colab": {
          "base_uri": "https://localhost:8080/"
        },
        "id": "Cf_S47Xz2Wht",
        "outputId": "14ce0323-0271-4143-ded7-7135d8a77f9f"
      },
      "execution_count": 8,
      "outputs": [
        {
          "output_type": "stream",
          "name": "stdout",
          "text": [
            "31.340000000000003\n",
            "<class 'float'>\n",
            "(-0.6599999999999966+82j)\n",
            "<class 'complex'>\n",
            "-6588.780000000001\n",
            "<class 'float'>\n",
            "(-66.34-82j)\n",
            "<class 'complex'>\n",
            "(1244625612.9888-396152809.92880017j)\n",
            "<class 'complex'>\n",
            "(-1350125106.34-82j)\n",
            "<class 'complex'>\n",
            "<class 'int'>\n",
            "<class 'float'>\n",
            "<class 'complex'>\n",
            "<class 'float'>\n",
            "<class 'complex'>\n",
            "<class 'float'>\n",
            "<class 'complex'>\n",
            "<class 'complex'>\n",
            "<class 'complex'>\n"
          ]
        }
      ]
    },
    {
      "cell_type": "markdown",
      "source": [
        "Boolean\n",
        "\n",
        "- Any value present in a Function then it gives output as True.\n",
        "- Thre is no value Present in a Function it gives output as False."
      ],
      "metadata": {
        "id": "1aNCy8252uEC"
      }
    },
    {
      "cell_type": "markdown",
      "source": [
        "Examples"
      ],
      "metadata": {
        "id": "1mQyYkHG29Hc"
      }
    },
    {
      "cell_type": "code",
      "source": [
        "a=54>75\n",
        "print(a)"
      ],
      "metadata": {
        "colab": {
          "base_uri": "https://localhost:8080/"
        },
        "id": "lXeq_lW_3JJc",
        "outputId": "edf60e6d-d61e-4f5c-df67-126ea94caa1a"
      },
      "execution_count": 9,
      "outputs": [
        {
          "output_type": "stream",
          "name": "stdout",
          "text": [
            "False\n"
          ]
        }
      ]
    },
    {
      "cell_type": "code",
      "source": [
        "b=98<99\n",
        "print(b)"
      ],
      "metadata": {
        "colab": {
          "base_uri": "https://localhost:8080/"
        },
        "id": "mYl_wO9a3RwW",
        "outputId": "67038eb8-9580-4b34-923f-bb89889ac34f"
      },
      "execution_count": 10,
      "outputs": [
        {
          "output_type": "stream",
          "name": "stdout",
          "text": [
            "True\n"
          ]
        }
      ]
    },
    {
      "cell_type": "code",
      "source": [
        "c=(97==87)\n",
        "print(c)"
      ],
      "metadata": {
        "colab": {
          "base_uri": "https://localhost:8080/"
        },
        "id": "4nM9dVYc3fz6",
        "outputId": "ccb084f6-3bcd-4bef-c55c-6d11dd9431af"
      },
      "execution_count": 12,
      "outputs": [
        {
          "output_type": "stream",
          "name": "stdout",
          "text": [
            "False\n"
          ]
        }
      ]
    },
    {
      "cell_type": "code",
      "source": [
        "d=(44==44)\n",
        "print(d)"
      ],
      "metadata": {
        "colab": {
          "base_uri": "https://localhost:8080/"
        },
        "id": "Ykz7j7Rx31qY",
        "outputId": "68563d62-f7fd-48d4-9ca0-f23becc3e986"
      },
      "execution_count": 15,
      "outputs": [
        {
          "output_type": "stream",
          "name": "stdout",
          "text": [
            "True\n"
          ]
        }
      ]
    },
    {
      "cell_type": "code",
      "source": [
        "j=9==6\n",
        "print(j)"
      ],
      "metadata": {
        "colab": {
          "base_uri": "https://localhost:8080/"
        },
        "id": "yOnjE8eN4EkU",
        "outputId": "438bdb0c-913d-4410-f2bb-2ca12fe073cf"
      },
      "execution_count": 17,
      "outputs": [
        {
          "output_type": "stream",
          "name": "stdout",
          "text": [
            "False\n"
          ]
        }
      ]
    },
    {
      "cell_type": "code",
      "source": [
        "k=9<10\n",
        "print(k)"
      ],
      "metadata": {
        "colab": {
          "base_uri": "https://localhost:8080/"
        },
        "id": "zFiE4t9M5kCr",
        "outputId": "8400f4df-48fe-4f35-db39-25ee17c87b93"
      },
      "execution_count": 18,
      "outputs": [
        {
          "output_type": "stream",
          "name": "stdout",
          "text": [
            "True\n"
          ]
        }
      ]
    },
    {
      "cell_type": "code",
      "source": [
        "l=0==0\n",
        "print(l)"
      ],
      "metadata": {
        "colab": {
          "base_uri": "https://localhost:8080/"
        },
        "id": "w_Nm_TQn5s-b",
        "outputId": "d5556021-857c-47f5-989f-63efce577e86"
      },
      "execution_count": 19,
      "outputs": [
        {
          "output_type": "stream",
          "name": "stdout",
          "text": [
            "True\n"
          ]
        }
      ]
    },
    {
      "cell_type": "code",
      "source": [
        "bool(2)"
      ],
      "metadata": {
        "colab": {
          "base_uri": "https://localhost:8080/"
        },
        "id": "ZdqK6WLD53yU",
        "outputId": "a5a3b677-3388-4054-ca65-c3f077e6a9fb"
      },
      "execution_count": 20,
      "outputs": [
        {
          "output_type": "execute_result",
          "data": {
            "text/plain": [
              "True"
            ]
          },
          "metadata": {},
          "execution_count": 20
        }
      ]
    },
    {
      "cell_type": "code",
      "source": [
        "bool(0)"
      ],
      "metadata": {
        "colab": {
          "base_uri": "https://localhost:8080/"
        },
        "id": "BDeZnwl259BR",
        "outputId": "aacdd45f-8513-439a-d33e-8183f311b6bd"
      },
      "execution_count": 21,
      "outputs": [
        {
          "output_type": "execute_result",
          "data": {
            "text/plain": [
              "False"
            ]
          },
          "metadata": {},
          "execution_count": 21
        }
      ]
    },
    {
      "cell_type": "code",
      "source": [
        "bool(-1)"
      ],
      "metadata": {
        "colab": {
          "base_uri": "https://localhost:8080/"
        },
        "id": "FGCqkDBC6CZ0",
        "outputId": "59b9d513-d96f-4fa2-d3e7-e8e1c4dc6e5c"
      },
      "execution_count": 22,
      "outputs": [
        {
          "output_type": "execute_result",
          "data": {
            "text/plain": [
              "True"
            ]
          },
          "metadata": {},
          "execution_count": 22
        }
      ]
    },
    {
      "cell_type": "code",
      "source": [
        "bool(100)"
      ],
      "metadata": {
        "colab": {
          "base_uri": "https://localhost:8080/"
        },
        "id": "9OTo3kR-6JWm",
        "outputId": "565c6e12-7bb7-4bb6-864c-34ca63425381"
      },
      "execution_count": 23,
      "outputs": [
        {
          "output_type": "execute_result",
          "data": {
            "text/plain": [
              "True"
            ]
          },
          "metadata": {},
          "execution_count": 23
        }
      ]
    },
    {
      "cell_type": "code",
      "source": [
        "bool()"
      ],
      "metadata": {
        "colab": {
          "base_uri": "https://localhost:8080/"
        },
        "id": "L6pL6IdA6OLT",
        "outputId": "e8338291-0823-4c30-9b5e-0d2cbf69e656"
      },
      "execution_count": 24,
      "outputs": [
        {
          "output_type": "execute_result",
          "data": {
            "text/plain": [
              "False"
            ]
          },
          "metadata": {},
          "execution_count": 24
        }
      ]
    },
    {
      "cell_type": "code",
      "source": [
        "bool(9)"
      ],
      "metadata": {
        "colab": {
          "base_uri": "https://localhost:8080/"
        },
        "id": "6g_R4Kv36Ra0",
        "outputId": "4ce272c7-68e4-476c-95f4-07d27c828008"
      },
      "execution_count": 34,
      "outputs": [
        {
          "output_type": "execute_result",
          "data": {
            "text/plain": [
              "True"
            ]
          },
          "metadata": {},
          "execution_count": 34
        }
      ]
    },
    {
      "cell_type": "code",
      "source": [
        "bool(j)"
      ],
      "metadata": {
        "colab": {
          "base_uri": "https://localhost:8080/"
        },
        "id": "PQGkOf5L6XNk",
        "outputId": "4f9a91ba-424f-4e7d-f46c-9f22b8af43f7"
      },
      "execution_count": 27,
      "outputs": [
        {
          "output_type": "execute_result",
          "data": {
            "text/plain": [
              "False"
            ]
          },
          "metadata": {},
          "execution_count": 27
        }
      ]
    },
    {
      "cell_type": "code",
      "source": [
        "bool(k)"
      ],
      "metadata": {
        "colab": {
          "base_uri": "https://localhost:8080/"
        },
        "id": "JkWhtcXr6dIg",
        "outputId": "b419366a-c9ff-4be2-816f-29ba0edb316b"
      },
      "execution_count": 29,
      "outputs": [
        {
          "output_type": "execute_result",
          "data": {
            "text/plain": [
              "True"
            ]
          },
          "metadata": {},
          "execution_count": 29
        }
      ]
    },
    {
      "cell_type": "code",
      "source": [
        "bool(l)"
      ],
      "metadata": {
        "colab": {
          "base_uri": "https://localhost:8080/"
        },
        "id": "-3NnfrVz6k0o",
        "outputId": "8a28bfd5-c42a-4493-ac61-d0683475103d"
      },
      "execution_count": 31,
      "outputs": [
        {
          "output_type": "execute_result",
          "data": {
            "text/plain": [
              "True"
            ]
          },
          "metadata": {},
          "execution_count": 31
        }
      ]
    }
  ]
}