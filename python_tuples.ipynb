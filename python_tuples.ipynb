{
  "nbformat": 4,
  "nbformat_minor": 0,
  "metadata": {
    "colab": {
      "provenance": []
    },
    "kernelspec": {
      "name": "python3",
      "display_name": "Python 3"
    },
    "language_info": {
      "name": "python"
    }
  },
  "cells": [
    {
      "cell_type": "markdown",
      "source": [
        "#1) define about tuples\n",
        "- A tuple is a data type that represents an ordered, immutable(unchangeable) sequence of elements\n",
        "- Tuples are similar to lists, but the keys differences is that tuples cannot be modified once they are created\n",
        "- they are defined using parenthese() and elements are represented by commas,\n",
        "\n",
        "**Features of python tuple**\n",
        "- Tuples are a immutable data type, meaning their elements cannot be changed after they are generated\n",
        "- Each element in a  tuple has a specific order that will never change because tuples are ordered sequences."
      ],
      "metadata": {
        "id": "IbPRk4T7ErNL"
      }
    },
    {
      "cell_type": "markdown",
      "source": [
        "**Immutability**\n",
        "- once a tuple is created, you cannot change its elements or add/remove elements"
      ],
      "metadata": {
        "id": "4oDD9V_-kUjQ"
      }
    },
    {
      "cell_type": "code",
      "source": [
        "#example\n",
        "fruits=(\"apple\",\"banana\",\"cherry\")\n",
        "print(fruits)\n",
        "fruits[1]=\"orange\""
      ],
      "metadata": {
        "colab": {
          "base_uri": "https://localhost:8080/",
          "height": 193
        },
        "id": "zJF_Kvk_kvNZ",
        "outputId": "c5023a19-661c-43f7-b08c-9d4c369590ee"
      },
      "execution_count": 1,
      "outputs": [
        {
          "output_type": "stream",
          "name": "stdout",
          "text": [
            "('apple', 'banana', 'cherry')\n"
          ]
        },
        {
          "output_type": "error",
          "ename": "TypeError",
          "evalue": "'tuple' object does not support item assignment",
          "traceback": [
            "\u001b[0;31m---------------------------------------------------------------------------\u001b[0m",
            "\u001b[0;31mTypeError\u001b[0m                                 Traceback (most recent call last)",
            "\u001b[0;32m<ipython-input-1-eaa3fae7e230>\u001b[0m in \u001b[0;36m<cell line: 4>\u001b[0;34m()\u001b[0m\n\u001b[1;32m      2\u001b[0m \u001b[0mfruits\u001b[0m\u001b[0;34m=\u001b[0m\u001b[0;34m(\u001b[0m\u001b[0;34m\"apple\"\u001b[0m\u001b[0;34m,\u001b[0m\u001b[0;34m\"banana\"\u001b[0m\u001b[0;34m,\u001b[0m\u001b[0;34m\"cherry\"\u001b[0m\u001b[0;34m)\u001b[0m\u001b[0;34m\u001b[0m\u001b[0;34m\u001b[0m\u001b[0m\n\u001b[1;32m      3\u001b[0m \u001b[0mprint\u001b[0m\u001b[0;34m(\u001b[0m\u001b[0mfruits\u001b[0m\u001b[0;34m)\u001b[0m\u001b[0;34m\u001b[0m\u001b[0;34m\u001b[0m\u001b[0m\n\u001b[0;32m----> 4\u001b[0;31m \u001b[0mfruits\u001b[0m\u001b[0;34m[\u001b[0m\u001b[0;36m1\u001b[0m\u001b[0;34m]\u001b[0m\u001b[0;34m=\u001b[0m\u001b[0;34m\"orange\"\u001b[0m\u001b[0;34m\u001b[0m\u001b[0;34m\u001b[0m\u001b[0m\n\u001b[0m",
            "\u001b[0;31mTypeError\u001b[0m: 'tuple' object does not support item assignment"
          ]
        }
      ]
    },
    {
      "cell_type": "markdown",
      "source": [
        "#2) create 10 examples using tuples\n"
      ],
      "metadata": {
        "id": "ggDtU-hTlE4y"
      }
    },
    {
      "cell_type": "code",
      "source": [
        "#Empty tuple\n",
        "empty_tuple=()"
      ],
      "metadata": {
        "id": "j4OnuN54lR40"
      },
      "execution_count": 2,
      "outputs": []
    },
    {
      "cell_type": "code",
      "source": [
        "#tuple  with elements\n",
        "fruits=(\"apple\",\"banana\",\"cherry\")\n",
        "fruits\n",
        "print(type(fruits))"
      ],
      "metadata": {
        "colab": {
          "base_uri": "https://localhost:8080/"
        },
        "id": "t_pqhOCKldm4",
        "outputId": "2b8eb084-68e0-4dd9-b8ca-382b61c28de3"
      },
      "execution_count": 3,
      "outputs": [
        {
          "output_type": "stream",
          "name": "stdout",
          "text": [
            "<class 'tuple'>\n"
          ]
        }
      ]
    },
    {
      "cell_type": "code",
      "source": [
        "#mixed data types\n",
        "mixed_tuple=(1,\"hello\",3.14,True)\n",
        "print (mixed_tuple)"
      ],
      "metadata": {
        "colab": {
          "base_uri": "https://localhost:8080/"
        },
        "id": "SP3HMugWlyKD",
        "outputId": "d0cb255d-a76a-4cb1-c256-fbfb5757e9cc"
      },
      "execution_count": 5,
      "outputs": [
        {
          "output_type": "stream",
          "name": "stdout",
          "text": [
            "(1, 'hello', 3.14, True)\n"
          ]
        }
      ]
    },
    {
      "cell_type": "code",
      "source": [
        "#single element tuple\n",
        "single_element_tuple=(67,)\n",
        "print(type(single_element_tuple))\n",
        "print(single_element_tuple)"
      ],
      "metadata": {
        "colab": {
          "base_uri": "https://localhost:8080/"
        },
        "id": "pfAuqnk7mExs",
        "outputId": "a0f38076-30a6-4778-fd54-2ddd308f0453"
      },
      "execution_count": 8,
      "outputs": [
        {
          "output_type": "stream",
          "name": "stdout",
          "text": [
            "<class 'tuple'>\n",
            "(67,)\n"
          ]
        }
      ]
    },
    {
      "cell_type": "code",
      "source": [
        "name=\"rakesh\"\n",
        "\n",
        "age=25\n",
        "CGPA=8.5\n",
        "student_details=(name,age,CGPA)\n",
        "print(student_details)\n",
        "print(type(student_details))"
      ],
      "metadata": {
        "colab": {
          "base_uri": "https://localhost:8080/"
        },
        "id": "CDlXHMpemtsK",
        "outputId": "d4666e34-279f-419b-eca4-a5417cc87e5c"
      },
      "execution_count": 12,
      "outputs": [
        {
          "output_type": "stream",
          "name": "stdout",
          "text": [
            "('rakesh', 25, 8.5)\n",
            "<class 'tuple'>\n"
          ]
        }
      ]
    },
    {
      "cell_type": "code",
      "source": [
        "student_details1=(\"rakesh\",25,8.5)\n",
        "student_details2=(\"varun\",25,6.7)\n",
        "student_details3=(\"rakesh\",22,7.5)\n",
        "print(student_details1)\n",
        "print(student_details2)\n",
        "print(student_details3)\n",
        "print(type(student_details1),type(student_details2),type(student_details3))\n"
      ],
      "metadata": {
        "colab": {
          "base_uri": "https://localhost:8080/"
        },
        "id": "Gk2DbiW4nVu3",
        "outputId": "f774def4-97e5-49eb-c213-5d4d23209ff9"
      },
      "execution_count": 14,
      "outputs": [
        {
          "output_type": "stream",
          "name": "stdout",
          "text": [
            "('rakesh', 25, 8.5)\n",
            "('varun', 25, 6.7)\n",
            "('rakesh', 22, 7.5)\n",
            "<class 'tuple'> <class 'tuple'> <class 'tuple'>\n"
          ]
        }
      ]
    },
    {
      "cell_type": "code",
      "source": [
        "x=(11,22,33,44,55,66,77,88,99,100)\n",
        "print(x)\n",
        "print(\"datatype of y is\",type(x))\n",
        "fruits=(\"apple\",\"banana\",\"cherry\")\n",
        "print(fruits)\n",
        "print(\"datatype of fruits =\",type(fruits))\n"
      ],
      "metadata": {
        "colab": {
          "base_uri": "https://localhost:8080/"
        },
        "id": "96K4NjRroSJa",
        "outputId": "060b5ae1-482e-438a-e57e-492150a30fa6"
      },
      "execution_count": 24,
      "outputs": [
        {
          "output_type": "stream",
          "name": "stdout",
          "text": [
            "(11, 22, 33, 44, 55, 66, 77, 88, 99, 100)\n",
            "datatype of y is <class 'tuple'>\n",
            "('apple', 'banana', 'cherry')\n",
            "datatype of fruits = <class 'tuple'>\n"
          ]
        }
      ]
    },
    {
      "cell_type": "markdown",
      "source": [
        "#3) create a tuple 10 examples and access index and apply slicing.\n",
        "**Accessing of tuples**\n",
        "- Tuples support indexing and slicing , just like lists"
      ],
      "metadata": {
        "id": "MchaYqmFqhwh"
      }
    },
    {
      "cell_type": "code",
      "source": [
        "#index\n",
        "fruits=(\"apple\",\"banana\",\"cherry\")\n",
        "print(fruits[0])\n",
        "print(fruits[1])\n",
        "print(fruits[2])\n",
        "print(type(fruits))"
      ],
      "metadata": {
        "colab": {
          "base_uri": "https://localhost:8080/"
        },
        "id": "5sv5iu6lr64y",
        "outputId": "43ba46e7-cb62-4b1c-a317-1659c06d446b"
      },
      "execution_count": 25,
      "outputs": [
        {
          "output_type": "stream",
          "name": "stdout",
          "text": [
            "apple\n",
            "banana\n",
            "cherry\n",
            "<class 'tuple'>\n"
          ]
        }
      ]
    },
    {
      "cell_type": "code",
      "source": [
        "#slicing\n",
        "fruits=(\"apple\",\"banana\",\"cherry\",\"orange\",\"kiwi\",\"melon\",\"mango\")\n",
        "print(fruits[2:5])\n",
        "print(fruits[:5])\n",
        "print(fruits[2:])\n",
        "print(type(fruits))"
      ],
      "metadata": {
        "colab": {
          "base_uri": "https://localhost:8080/"
        },
        "id": "1wMqbGzxsLGV",
        "outputId": "42536c1a-fa9e-4125-8f29-516bcb2164ec"
      },
      "execution_count": 26,
      "outputs": [
        {
          "output_type": "stream",
          "name": "stdout",
          "text": [
            "('cherry', 'orange', 'kiwi')\n",
            "('apple', 'banana', 'cherry', 'orange', 'kiwi')\n",
            "('cherry', 'orange', 'kiwi', 'melon', 'mango')\n",
            "<class 'tuple'>\n"
          ]
        }
      ]
    },
    {
      "cell_type": "code",
      "source": [
        "fruits=(\"apple\",\"banana\",\"cherry\",\"orange\",\"kiwi\",\"melon\",\"mango\")\n",
        "print(fruits[-4:-1])\n",
        "print(fruits[:-1])\n",
        "print(fruits[-3:])\n",
        "print(type(fruits))"
      ],
      "metadata": {
        "colab": {
          "base_uri": "https://localhost:8080/"
        },
        "id": "_vhKYvvosfn6",
        "outputId": "0de7c85f-abf9-4d01-8226-f120417546b1"
      },
      "execution_count": 27,
      "outputs": [
        {
          "output_type": "stream",
          "name": "stdout",
          "text": [
            "('orange', 'kiwi', 'melon')\n",
            "('apple', 'banana', 'cherry', 'orange', 'kiwi', 'melon')\n",
            "('kiwi', 'melon', 'mango')\n",
            "<class 'tuple'>\n"
          ]
        }
      ]
    },
    {
      "cell_type": "code",
      "source": [
        "fruits=(\"apple\",\"banana\",\"cherry\",\"orange\",\"kiwi\",\"melon\",\"mango\")\n",
        "print(fruits[1:5])\n",
        "print(fruits[:2])\n",
        "print(type(fruits))"
      ],
      "metadata": {
        "colab": {
          "base_uri": "https://localhost:8080/"
        },
        "id": "j0FrZilOsk4U",
        "outputId": "c8673c29-ec9f-4264-9947-c56058608785"
      },
      "execution_count": 29,
      "outputs": [
        {
          "output_type": "stream",
          "name": "stdout",
          "text": [
            "('banana', 'cherry', 'orange', 'kiwi')\n",
            "('apple', 'banana')\n",
            "<class 'tuple'>\n"
          ]
        }
      ]
    },
    {
      "cell_type": "code",
      "source": [
        "fruits=(\"apple\",\"banana\",\"cherry\",\"orange\",\"kiwi\",\"melon\",\"mango\")\n",
        "print(fruits[3])\n",
        "print(fruits[2])\n",
        "print(fruits[1])\n",
        "print(fruits[0])\n",
        "print(fruits[-4:-1])\n",
        "print(fruits[-3:])\n",
        "print(fruits[:-1])\n",
        "print(type(fruits))"
      ],
      "metadata": {
        "colab": {
          "base_uri": "https://localhost:8080/"
        },
        "id": "DxnwOIJqtBBp",
        "outputId": "26c597a8-8a96-45a0-e44d-b7da163a327c"
      },
      "execution_count": 30,
      "outputs": [
        {
          "output_type": "stream",
          "name": "stdout",
          "text": [
            "orange\n",
            "cherry\n",
            "banana\n",
            "apple\n",
            "('orange', 'kiwi', 'melon')\n",
            "('kiwi', 'melon', 'mango')\n",
            "('apple', 'banana', 'cherry', 'orange', 'kiwi', 'melon')\n",
            "<class 'tuple'>\n"
          ]
        }
      ]
    },
    {
      "cell_type": "markdown",
      "source": [
        "#4) tuple operations\n",
        "\n",
        "1) concatenation\n",
        "- combining two tuples"
      ],
      "metadata": {
        "id": "v2dhWryytdNU"
      }
    },
    {
      "cell_type": "code",
      "source": [
        "fruits=(\"apple\",\"banana\",\"cherry\",\"orange\",\"kiwi\",\"melon\",\"mango\")\n",
        "numbers=(1,2,3,4,5,6,7,8,9,10)\n",
        "fruits_numbers=fruits+numbers\n",
        "print(fruits_numbers)\n",
        "print(type(fruits_numbers))"
      ],
      "metadata": {
        "colab": {
          "base_uri": "https://localhost:8080/"
        },
        "id": "dJXaP1Q1uSiP",
        "outputId": "9f3c8857-6c1c-43a6-9126-1d0a5d8acd63"
      },
      "execution_count": 31,
      "outputs": [
        {
          "output_type": "stream",
          "name": "stdout",
          "text": [
            "('apple', 'banana', 'cherry', 'orange', 'kiwi', 'melon', 'mango', 1, 2, 3, 4, 5, 6, 7, 8, 9, 10)\n",
            "<class 'tuple'>\n"
          ]
        }
      ]
    },
    {
      "cell_type": "markdown",
      "source": [
        "2)Repetition\n",
        "- repeating a tuple"
      ],
      "metadata": {
        "id": "fW4fMA3Cujt-"
      }
    },
    {
      "cell_type": "code",
      "source": [
        "fruits=(\"apple\",\"banana\",\"cherry\",\"orange\",\"kiwi\",\"melon\",\"mango\")\n",
        "fruits_repeated=fruits*3\n",
        "print(fruits_repeated)\n",
        "print(type(fruits_repeated))\n",
        "numbers=(1,2,3,4,5,6,7,8,9,10)\n",
        "numbers_repeated=numbers*2\n",
        "print(numbers_repeated)\n",
        "print(type(numbers_repeated))\n",
        "fruits_numbers_repeated=fruits+numbers*2\n",
        "print(fruits_numbers_repeated)\n",
        "print(type(fruits_numbers_repeated))\n"
      ],
      "metadata": {
        "colab": {
          "base_uri": "https://localhost:8080/"
        },
        "id": "Qc7oWlFWuxgh",
        "outputId": "c871dce5-e03f-4c5c-92a3-56c5fd19a612"
      },
      "execution_count": 32,
      "outputs": [
        {
          "output_type": "stream",
          "name": "stdout",
          "text": [
            "('apple', 'banana', 'cherry', 'orange', 'kiwi', 'melon', 'mango', 'apple', 'banana', 'cherry', 'orange', 'kiwi', 'melon', 'mango', 'apple', 'banana', 'cherry', 'orange', 'kiwi', 'melon', 'mango')\n",
            "<class 'tuple'>\n",
            "(1, 2, 3, 4, 5, 6, 7, 8, 9, 10, 1, 2, 3, 4, 5, 6, 7, 8, 9, 10)\n",
            "<class 'tuple'>\n",
            "('apple', 'banana', 'cherry', 'orange', 'kiwi', 'melon', 'mango', 1, 2, 3, 4, 5, 6, 7, 8, 9, 10, 1, 2, 3, 4, 5, 6, 7, 8, 9, 10)\n",
            "<class 'tuple'>\n"
          ]
        }
      ]
    },
    {
      "cell_type": "markdown",
      "source": [
        "#5) Tuple methods\n",
        "- Tuple have limited methods compared to lists due to the Immutability\n",
        "\n",
        "1) count():\n",
        "- Returns the number of occurrences of a specified value"
      ],
      "metadata": {
        "id": "VVlBTjY6vgTS"
      }
    },
    {
      "cell_type": "code",
      "source": [
        "number=(1,3,2,7,4,9,10,3,4,9,7,6,11,10,5,3,5,0,22,3,6,8)\n",
        "count_of_number=number.count(3)\n",
        "print(count_of_number)\n"
      ],
      "metadata": {
        "colab": {
          "base_uri": "https://localhost:8080/"
        },
        "id": "W-W824aMwimZ",
        "outputId": "c34e75c6-998e-45f5-f969-eb6900b571e0"
      },
      "execution_count": 34,
      "outputs": [
        {
          "output_type": "stream",
          "name": "stdout",
          "text": [
            "4\n"
          ]
        }
      ]
    },
    {
      "cell_type": "code",
      "source": [
        "fruits=(\"apple\",\"banana\",\"cherry\",\"orange\",\"kiwi\",\"melon\",\"mango\",\"apple\",\"banana\",\"cherry\",\"orange\",\"melon\",\"mango\",\"apple\",\"banana\",\"orange\",\"kiwi\",\"melon\",\"mango\")\n",
        "count_of_fruits=fruits.count(\"apple\")\n",
        "print(count_of_fruits)"
      ],
      "metadata": {
        "colab": {
          "base_uri": "https://localhost:8080/"
        },
        "id": "tVXT4gQvxDbu",
        "outputId": "207b35b7-e0ef-440d-c5f3-ed8b37b51535"
      },
      "execution_count": 36,
      "outputs": [
        {
          "output_type": "stream",
          "name": "stdout",
          "text": [
            "3\n"
          ]
        }
      ]
    },
    {
      "cell_type": "markdown",
      "source": [
        "2) Index():\n",
        "- Returns the index of the first occurrence of a specified value"
      ],
      "metadata": {
        "id": "TzKUoGoNxi2P"
      }
    },
    {
      "cell_type": "code",
      "source": [
        "numbers=(1,2,3.,4,5,6,7,8,9,10)\n",
        "index_of_number=numbers.index(5)\n",
        "print(index_of_number)\n",
        "fruits=(\"apple\",\"banana\",\"cherry\",\"orange\",\"kiwi\",\"melon\",\"mango\")\n",
        "index_of_fruits=fruits.index(\"cherry\")\n",
        "print(index_of_fruits)"
      ],
      "metadata": {
        "colab": {
          "base_uri": "https://localhost:8080/"
        },
        "id": "mY2Oa8Ekx6Q9",
        "outputId": "58da6ef1-75b3-4d4d-97c7-208c757b5ba2"
      },
      "execution_count": 38,
      "outputs": [
        {
          "output_type": "stream",
          "name": "stdout",
          "text": [
            "4\n",
            "2\n"
          ]
        }
      ]
    }
  ]
}