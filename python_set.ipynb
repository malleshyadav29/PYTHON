{
  "nbformat": 4,
  "nbformat_minor": 0,
  "metadata": {
    "colab": {
      "provenance": []
    },
    "kernelspec": {
      "name": "python3",
      "display_name": "Python 3"
    },
    "language_info": {
      "name": "python"
    }
  },
  "cells": [
    {
      "cell_type": "markdown",
      "source": [
        "#1) Defie about set.\n",
        "- In python, a set is a collecetion of unique elements, and it is defined using curly braces{} and separeted by ,(comma)\n",
        "- sets are used to store multiple items in a single variable\n",
        "- sets are unordered, mutable ,and do not allow duplicate elements\n",
        "- sets provide a variety of methods for performing common set operations like union,intersection, difference, and more"
      ],
      "metadata": {
        "id": "YMjNEsIgywOD"
      }
    },
    {
      "cell_type": "markdown",
      "source": [
        "#2) Create  10 examples using set\n"
      ],
      "metadata": {
        "id": "EJELsEVZ1HP_"
      }
    },
    {
      "cell_type": "code",
      "source": [
        "#creating an empty set\n",
        "empty_set = set()\n",
        "print(empty_set)"
      ],
      "metadata": {
        "colab": {
          "base_uri": "https://localhost:8080/"
        },
        "id": "YBfiw1hK4Kmq",
        "outputId": "757d1d7d-03b7-4a91-b4c6-c16eab8a63d9"
      },
      "execution_count": 1,
      "outputs": [
        {
          "output_type": "stream",
          "name": "stdout",
          "text": [
            "set()\n"
          ]
        }
      ]
    },
    {
      "cell_type": "code",
      "source": [
        "#creating a set with element\n",
        "fruits = {\"apple\",\"banana\",\"orange\"}\n",
        "print(fruits)\n",
        "print(type(fruits))"
      ],
      "metadata": {
        "colab": {
          "base_uri": "https://localhost:8080/"
        },
        "id": "8l1Q1dYZ4elU",
        "outputId": "07ad14d8-a429-48ce-c970-deab51d38f34"
      },
      "execution_count": 4,
      "outputs": [
        {
          "output_type": "stream",
          "name": "stdout",
          "text": [
            "{'apple', 'orange', 'banana'}\n",
            "<class 'set'>\n"
          ]
        }
      ]
    },
    {
      "cell_type": "code",
      "source": [
        "#converting a list to a set\n",
        "number=set([1,2,3,4,5])\n",
        "print(number)\n",
        "print(type(number))"
      ],
      "metadata": {
        "colab": {
          "base_uri": "https://localhost:8080/"
        },
        "id": "zKrMWNZ84xph",
        "outputId": "bf11391e-f774-4728-8c9f-702a993d2a82"
      },
      "execution_count": 6,
      "outputs": [
        {
          "output_type": "stream",
          "name": "stdout",
          "text": [
            "{1, 2, 3, 4, 5}\n",
            "<class 'set'>\n"
          ]
        }
      ]
    },
    {
      "cell_type": "code",
      "source": [
        "#duplicate items in a set\n",
        "names={\"pavan\",\"yogesh\",\"kanna\",\"ganesh\",\"pavan\",\"mallesh\",\"yogesh\",\"devesh\",\"mahesh\",\"yogesh\",\"pavan\"}\n",
        "print(names)"
      ],
      "metadata": {
        "colab": {
          "base_uri": "https://localhost:8080/"
        },
        "id": "l8nK-9595ypw",
        "outputId": "c7af75ce-37b6-43f8-bd5f-549038a3f903"
      },
      "execution_count": 8,
      "outputs": [
        {
          "output_type": "stream",
          "name": "stdout",
          "text": [
            "{'devesh', 'yogesh', 'ganesh', 'mallesh', 'kanna', 'pavan', 'mahesh'}\n"
          ]
        }
      ]
    },
    {
      "cell_type": "code",
      "source": [
        "number={1,2,3,4,5,1,2,3,4,5,10,7,8,9,11,10,3,8,9,4,7,2,11}\n",
        "print(number)\n",
        "print(type(number))"
      ],
      "metadata": {
        "colab": {
          "base_uri": "https://localhost:8080/"
        },
        "id": "iBLWXnnG9hhv",
        "outputId": "8e49bbcb-c394-40a2-a8be-63492ffbe2b8"
      },
      "execution_count": 16,
      "outputs": [
        {
          "output_type": "stream",
          "name": "stdout",
          "text": [
            "{1, 2, 3, 4, 5, 7, 8, 9, 10, 11}\n",
            "<class 'set'>\n"
          ]
        }
      ]
    },
    {
      "cell_type": "markdown",
      "source": [
        "#3) How to Add or update or Remove Elements in a Set\n",
        "- sets are mutable.However, since they are unordered,indexing has no meaning.\n",
        "- we cant access or change an element of a set using indexing or slicing\n",
        "- set data type does not support it."
      ],
      "metadata": {
        "id": "dKT09QYy985g"
      }
    },
    {
      "cell_type": "markdown",
      "source": [
        "1) Add items to set in python\n",
        "- In python, we use the add () method. to add an item to a set.\n"
      ],
      "metadata": {
        "id": "HyS_aqWn_eaz"
      }
    },
    {
      "cell_type": "code",
      "source": [
        "number={9,3,4,5,2,4,11,5,6,3,9,5,11,10,33,11,56,99,4,9,11,4,5,7}\n",
        "print(number)\n",
        "number.add(100)\n",
        "print(number)\n",
        "number.add(200)\n",
        "print(number)\n",
        "number.add(\"apple\")\n",
        "print(number)"
      ],
      "metadata": {
        "colab": {
          "base_uri": "https://localhost:8080/"
        },
        "id": "zL2WTbxr_u7h",
        "outputId": "535942af-afe4-43b0-f2bb-0a9162208de8"
      },
      "execution_count": 19,
      "outputs": [
        {
          "output_type": "stream",
          "name": "stdout",
          "text": [
            "{33, 2, 3, 4, 5, 6, 99, 7, 9, 10, 11, 56}\n",
            "{33, 2, 3, 4, 5, 6, 99, 7, 9, 10, 11, 100, 56}\n",
            "{33, 2, 3, 4, 5, 6, 99, 7, 9, 10, 11, 100, 200, 56}\n",
            "{33, 2, 3, 4, 5, 6, 99, 7, 9, 10, 11, 100, 200, 'apple', 56}\n"
          ]
        }
      ]
    },
    {
      "cell_type": "code",
      "source": [
        "fruit={\"apple\",\"banana\",\"orange\"}\n",
        "print(fruit)\n",
        "fruit.add(\"mango\")\n",
        "print(fruit)\n",
        "fruit.add(\"grapes\")\n",
        "print(fruit)"
      ],
      "metadata": {
        "colab": {
          "base_uri": "https://localhost:8080/"
        },
        "id": "mPEXpsw3BFID",
        "outputId": "f8c0e0d5-ccb9-449f-8ce5-ea443b34a09c"
      },
      "execution_count": 20,
      "outputs": [
        {
          "output_type": "stream",
          "name": "stdout",
          "text": [
            "{'apple', 'orange', 'banana'}\n",
            "{'mango', 'apple', 'orange', 'banana'}\n",
            "{'orange', 'mango', 'apple', 'banana', 'grapes'}\n"
          ]
        }
      ]
    },
    {
      "cell_type": "markdown",
      "source": [
        "2) update python set\n",
        "- the update () method is used to update the set with items other collection types (lists,tuples,set,etc.)\n"
      ],
      "metadata": {
        "id": "cwlv2_ZrBOYI"
      }
    },
    {
      "cell_type": "code",
      "source": [
        "names={'mallesh','pavan','yogesh'}\n",
        "print(names)\n",
        "names.update(['ganesh','kanna','devesh'])\n",
        "print(names)"
      ],
      "metadata": {
        "colab": {
          "base_uri": "https://localhost:8080/"
        },
        "id": "2_hlWBHkBrh5",
        "outputId": "5eb92d8e-53a0-42d3-fa4c-3becf1e641ae"
      },
      "execution_count": 21,
      "outputs": [
        {
          "output_type": "stream",
          "name": "stdout",
          "text": [
            "{'mallesh', 'yogesh', 'pavan'}\n",
            "{'devesh', 'yogesh', 'ganesh', 'mallesh', 'kanna', 'pavan'}\n"
          ]
        }
      ]
    },
    {
      "cell_type": "code",
      "source": [
        "number1={1,2,3,4,5,6,7,8,9,10}\n",
        "number2={11,12,10,2,5,6,7,8,9,10}\n",
        "print(number1)\n",
        "number1.update(number2)\n",
        "print(number1)"
      ],
      "metadata": {
        "colab": {
          "base_uri": "https://localhost:8080/"
        },
        "id": "7kHc8ii8CHBd",
        "outputId": "1aef56e1-2cbd-43a7-894b-715f73ba6c12"
      },
      "execution_count": 22,
      "outputs": [
        {
          "output_type": "stream",
          "name": "stdout",
          "text": [
            "{1, 2, 3, 4, 5, 6, 7, 8, 9, 10}\n",
            "{1, 2, 3, 4, 5, 6, 7, 8, 9, 10, 11, 12}\n"
          ]
        }
      ]
    },
    {
      "cell_type": "markdown",
      "source": [
        "**Remove an element from a set**\n",
        "- we use the dist() method to remove the specified element from a set\n"
      ],
      "metadata": {
        "id": "9Trwo-H7DEiz"
      }
    },
    {
      "cell_type": "code",
      "source": [
        "#type 1\n",
        "fruits={\"apple\",\"banana\",\"orange\",\"mango\",\"grapes\"}\n",
        "print(fruits)\n",
        "fruits.remove(\"banana\")"
      ],
      "metadata": {
        "colab": {
          "base_uri": "https://localhost:8080/"
        },
        "id": "n1_llYFQDcm5",
        "outputId": "bcce6186-3eef-40e3-9fe1-9602a18034b0"
      },
      "execution_count": 23,
      "outputs": [
        {
          "output_type": "stream",
          "name": "stdout",
          "text": [
            "{'mango', 'apple', 'banana', 'grapes', 'orange'}\n"
          ]
        }
      ]
    },
    {
      "cell_type": "code",
      "source": [
        "#type 2\n",
        "fruits={\"apple\",\"banana\",\"orange\",\"mango\",\"grapes\"}\n",
        "print(fruits)\n",
        "fruits.discard(\"banana\")"
      ],
      "metadata": {
        "colab": {
          "base_uri": "https://localhost:8080/"
        },
        "id": "w1Crdjp4DpH2",
        "outputId": "c640cedf-c46a-404f-dfda-38fd2ab36154"
      },
      "execution_count": 24,
      "outputs": [
        {
          "output_type": "stream",
          "name": "stdout",
          "text": [
            "{'mango', 'apple', 'banana', 'grapes', 'orange'}\n"
          ]
        }
      ]
    },
    {
      "cell_type": "markdown",
      "source": [
        "#4)Python set() Operations\n",
        "- If you remember your basic high school math, you'll probably recall mathematical set operations like union, intersection, difference and symmetric difference. Well, you can achieve the same thing with Python sets.\n",
        "1. Set Union\n",
        "- The union of two sets is the set of all the elements of both the sets without duplicates. You can use the union() method or the | syntax to find the union of a Python set.\n",
        "- combines elements from two sets , romoving duplicates\n"
      ],
      "metadata": {
        "id": "SCKhumJpD9a_"
      }
    },
    {
      "cell_type": "code",
      "source": [
        "# using the union() operator\n",
        "first_set = {1, 2, 3,5,4}\n",
        "second_set = {3, 4, 5}\n",
        "first_set.union(second_set)\n"
      ],
      "metadata": {
        "colab": {
          "base_uri": "https://localhost:8080/"
        },
        "id": "tuo3wPnFF-3I",
        "outputId": "f38ead06-0a19-4850-9dff-95e07575c700"
      },
      "execution_count": 28,
      "outputs": [
        {
          "output_type": "execute_result",
          "data": {
            "text/plain": [
              "{1, 2, 3, 4, 5}"
            ]
          },
          "metadata": {},
          "execution_count": 28
        }
      ]
    },
    {
      "cell_type": "code",
      "source": [
        "# using the `|` operator\n",
        "first_set = {1, 2, 3,5,4}\n",
        "second_set = {3, 4, 5}\n",
        "first_set | second_set"
      ],
      "metadata": {
        "colab": {
          "base_uri": "https://localhost:8080/"
        },
        "id": "S0Lay3_DGQ8S",
        "outputId": "72943d99-80f2-4e8d-a6fa-79d74833c41a"
      },
      "execution_count": 27,
      "outputs": [
        {
          "output_type": "execute_result",
          "data": {
            "text/plain": [
              "{1, 2, 3, 4, 5}"
            ]
          },
          "metadata": {},
          "execution_count": 27
        }
      ]
    },
    {
      "cell_type": "markdown",
      "source": [
        "2. Set Intersection\n",
        "- The intersection of two sets is the set of all the common elements of both the sets. You can use the intersection() method of the & operator to find the intersection of a Python set."
      ],
      "metadata": {
        "id": "RKsOsqUgG3wV"
      }
    },
    {
      "cell_type": "code",
      "source": [
        "# using the intersection() operator\n",
        "first_set = {1, 2, 3, 4, 5, 6}\n",
        "second_set = {4, 5, 6, 7, 8, 9}\n",
        "first_set.intersection(second_set)\n",
        "\n"
      ],
      "metadata": {
        "colab": {
          "base_uri": "https://localhost:8080/"
        },
        "id": "Va9QrJsPHBHo",
        "outputId": "d3465960-eee9-479b-bc07-d606ae2ab4c3"
      },
      "execution_count": 32,
      "outputs": [
        {
          "output_type": "execute_result",
          "data": {
            "text/plain": [
              "{4, 5, 6}"
            ]
          },
          "metadata": {},
          "execution_count": 32
        }
      ]
    },
    {
      "cell_type": "code",
      "source": [
        "# using the `&` operator\n",
        "first_set = {1, 2, 3, 4, 5, 6}\n",
        "second_set = {4, 5, 6, 7, 8, 9}\n",
        "first_set & second_set"
      ],
      "metadata": {
        "colab": {
          "base_uri": "https://localhost:8080/"
        },
        "id": "lBVCWmwxHK5G",
        "outputId": "b179bffb-c03e-47c1-98d6-68d24ffbd8ea"
      },
      "execution_count": 29,
      "outputs": [
        {
          "output_type": "execute_result",
          "data": {
            "text/plain": [
              "{4, 5, 6}"
            ]
          },
          "metadata": {},
          "execution_count": 29
        }
      ]
    },
    {
      "cell_type": "markdown",
      "source": [
        "3. Set Difference\n",
        "- The difference between two sets is the set of all the elements in first set that are not present in the second set. You would use the difference() method or the - operator to achieve this in Python."
      ],
      "metadata": {
        "id": "-fAnFg0cHlcu"
      }
    },
    {
      "cell_type": "code",
      "source": [
        " # using the difference() operator\n",
        "first_set = {1, 2, 3, 4, 5, 6}\n",
        "second_set = {4, 5, 6, 7, 8, 9}\n",
        "first_set.difference(second_set)"
      ],
      "metadata": {
        "colab": {
          "base_uri": "https://localhost:8080/"
        },
        "id": "3N1l6Y7HHopc",
        "outputId": "56d3cc5e-d342-4065-eff8-e36756184034"
      },
      "execution_count": 30,
      "outputs": [
        {
          "output_type": "execute_result",
          "data": {
            "text/plain": [
              "{1, 2, 3}"
            ]
          },
          "metadata": {},
          "execution_count": 30
        }
      ]
    },
    {
      "cell_type": "code",
      "source": [
        "second_set - first_set"
      ],
      "metadata": {
        "colab": {
          "base_uri": "https://localhost:8080/"
        },
        "id": "lDztYZGhIxji",
        "outputId": "c85d2b8d-ddcc-485b-cbed-c681e4d15c96"
      },
      "execution_count": 35,
      "outputs": [
        {
          "output_type": "execute_result",
          "data": {
            "text/plain": [
              "{7, 8, 9}"
            ]
          },
          "metadata": {},
          "execution_count": 35
        }
      ]
    },
    {
      "cell_type": "code",
      "source": [
        " # using the `-` operator\n",
        "first_set = {1, 2, 3, 4, 5, 6}\n",
        "second_set = {4, 5, 6, 7, 8, 9}\n",
        "first_set - second_set\n",
        "\n"
      ],
      "metadata": {
        "colab": {
          "base_uri": "https://localhost:8080/"
        },
        "id": "dKul07poIB_Z",
        "outputId": "09d7e07f-b476-44a5-a5a5-3d798778738e"
      },
      "execution_count": 36,
      "outputs": [
        {
          "output_type": "execute_result",
          "data": {
            "text/plain": [
              "{1, 2, 3}"
            ]
          },
          "metadata": {},
          "execution_count": 36
        }
      ]
    },
    {
      "cell_type": "markdown",
      "source": [
        "4. Set Symmetric Difference\n",
        "- The symmetric difference between two sets is the set of all the elements that are either in the first set or the second set but not in both.\n",
        "\n",
        "- You have the choice of using either the symmetric_difference() method or the ^ operator to do this in Python."
      ],
      "metadata": {
        "id": "CxIDYOJFI9Om"
      }
    },
    {
      "cell_type": "code",
      "source": [
        "first_set = {1, 2, 3, 4, 5, 6}\n",
        "second_set = {4, 5, 6, 7, 8, 9}\n",
        "first_set.symmetric_difference(second_set)\n",
        "\n"
      ],
      "metadata": {
        "colab": {
          "base_uri": "https://localhost:8080/"
        },
        "id": "dyJiAe1iJAYj",
        "outputId": "ef08a9bd-9c7f-4704-aa07-43f9493c10bb"
      },
      "execution_count": 38,
      "outputs": [
        {
          "output_type": "execute_result",
          "data": {
            "text/plain": [
              "{1, 2, 3, 7, 8, 9}"
            ]
          },
          "metadata": {},
          "execution_count": 38
        }
      ]
    },
    {
      "cell_type": "code",
      "source": [
        " # using the `^` operator\n",
        "first_set = {1, 2, 3, 4, 5, 6}\n",
        "second_set = {4, 5, 6, 7, 8, 9}\n",
        "first_set ^ second_set\n",
        "\n"
      ],
      "metadata": {
        "colab": {
          "base_uri": "https://localhost:8080/"
        },
        "id": "8FNY_DKIJNzb",
        "outputId": "304f9f79-ea0a-4e0e-8f7f-c3e82c1d1225"
      },
      "execution_count": 37,
      "outputs": [
        {
          "output_type": "execute_result",
          "data": {
            "text/plain": [
              "{1, 2, 3, 7, 8, 9}"
            ]
          },
          "metadata": {},
          "execution_count": 37
        }
      ]
    }
  ]
}