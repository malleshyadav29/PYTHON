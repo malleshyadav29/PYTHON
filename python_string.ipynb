{
  "nbformat": 4,
  "nbformat_minor": 0,
  "metadata": {
    "colab": {
      "provenance": []
    },
    "kernelspec": {
      "name": "python3",
      "display_name": "Python 3"
    },
    "language_info": {
      "name": "python"
    }
  },
  "cells": [
    {
      "cell_type": "markdown",
      "source": [
        "#1) Define about string\n",
        "- In python, a string is a sequence of characters.\n",
        "-  for example, \"hello\" is a string containing a sequence of characters 'h' , 'e' , 'l' , 'l' , and 'o' .\n",
        "- we use single quotes or double qutoes to represent a string in python.\n",
        "- string is most commonly used data types and they are used to represent text\n",
        "- string can allow empty strings and space is also a charaters in strings\n",
        "- the string class represented by \"str\"\n",
        "- we can perform string in various operations and use methods to manipulate and work with string."
      ],
      "metadata": {
        "id": "FsKC7hBikPyE"
      }
    },
    {
      "cell_type": "markdown",
      "source": [
        "#2) create a 10 elements using single qutoes and double qutoes\n"
      ],
      "metadata": {
        "id": "gPD2uWw7nuTA"
      }
    },
    {
      "cell_type": "code",
      "source": [
        "c1 = '234+442j'\n",
        "print(c1)\n",
        "\n",
        "d = \"Data \\n science\"\n",
        "print(d)\n",
        "\n",
        "e = 'games'\n",
        "print(e)\n",
        "\n",
        "f = \"\"\n",
        "print(\"Empty string \\n\",f)\n",
        "\n",
        "g = \" \"\n",
        "print(\"space in string \\n\",g)\n",
        "\n",
        "h = \"wel-come to basara \"\n",
        "print(h*6)\n",
        "\n",
        "i = \"WELCOME  TO PYTHON PROGRAMMING LANGUAGE:) \\n\"\n",
        "print(i*10)\n",
        "\n",
        "j = 'WELCOME TO \\n PYTHON PROGRAMMING LANGUAGE \\n'\n",
        "print(j*8)\n",
        "\n",
        "k = \"\"\" This is\n",
        "                an example for\n",
        "                                triple quotes\"\"\"\n",
        "print(k)\n",
        "\n",
        "print(type(i))"
      ],
      "metadata": {
        "colab": {
          "base_uri": "https://localhost:8080/"
        },
        "id": "8pbIwqiu3hPJ",
        "outputId": "4e301b5c-965d-4e14-bbdb-d57a514bc43a"
      },
      "execution_count": 61,
      "outputs": [
        {
          "output_type": "stream",
          "name": "stdout",
          "text": [
            "234+442j\n",
            "Data \n",
            " science\n",
            "games\n",
            "Empty string \n",
            " \n",
            "space in string \n",
            "  \n",
            "wel-come to basara wel-come to basara wel-come to basara wel-come to basara wel-come to basara wel-come to basara \n",
            "WELCOME  TO PYTHON PROGRAMMING LANGUAGE:) \n",
            "WELCOME  TO PYTHON PROGRAMMING LANGUAGE:) \n",
            "WELCOME  TO PYTHON PROGRAMMING LANGUAGE:) \n",
            "WELCOME  TO PYTHON PROGRAMMING LANGUAGE:) \n",
            "WELCOME  TO PYTHON PROGRAMMING LANGUAGE:) \n",
            "WELCOME  TO PYTHON PROGRAMMING LANGUAGE:) \n",
            "WELCOME  TO PYTHON PROGRAMMING LANGUAGE:) \n",
            "WELCOME  TO PYTHON PROGRAMMING LANGUAGE:) \n",
            "WELCOME  TO PYTHON PROGRAMMING LANGUAGE:) \n",
            "WELCOME  TO PYTHON PROGRAMMING LANGUAGE:) \n",
            "\n",
            "WELCOME TO \n",
            " PYTHON PROGRAMMING LANGUAGE \n",
            "WELCOME TO \n",
            " PYTHON PROGRAMMING LANGUAGE \n",
            "WELCOME TO \n",
            " PYTHON PROGRAMMING LANGUAGE \n",
            "WELCOME TO \n",
            " PYTHON PROGRAMMING LANGUAGE \n",
            "WELCOME TO \n",
            " PYTHON PROGRAMMING LANGUAGE \n",
            "WELCOME TO \n",
            " PYTHON PROGRAMMING LANGUAGE \n",
            "WELCOME TO \n",
            " PYTHON PROGRAMMING LANGUAGE \n",
            "WELCOME TO \n",
            " PYTHON PROGRAMMING LANGUAGE \n",
            "\n",
            " This is\n",
            "                an example for\n",
            "                                triple quotes\n",
            "<class 'str'>\n"
          ]
        }
      ]
    },
    {
      "cell_type": "markdown",
      "source": [
        "#3) create a sting 50 characters and access any 10 using index and apply slicing any 2 examples\n"
      ],
      "metadata": {
        "id": "nUQomAs2q_gI"
      }
    },
    {
      "cell_type": "code",
      "source": [
        "string = \"Hyderabad is best the place to have biryani in the whole world\"\n",
        "print(len(string))\n",
        "#indexing\n",
        "print(\"1 character index 0=\",string[0])\n",
        "print(\"62 character index 7=\",string[7])\n",
        "print(\"0character index =\",string[0])\n",
        "print(\"-2 character index 0=\",string[0])\n",
        "print(\"-44 string character index -16=\",[-1])\n",
        "print(\"7 character index 6 = \",string[6])\n",
        "print(\"15 character index 14 = \",string[14])\n",
        "print(\"22 character index 21 = \",string[21])\n",
        "print(\"70 character index -1 = \",string[-1])\n",
        "print(\"65 character index -5 = \",string[-5])\n",
        "#slicing\n",
        "print(\"Slcing of first 56 characters = \",string[:56])\n",
        "print(\"Slcing from 22 to 50 charater = \",string[32:44])\n",
        "print(\"Slcing of last 15 characters = \",string[-2:])\n",
        "print(\"Slcing of -28 to -5 = \",string[-28:-5])\n",
        "70\n",
        "\n"
      ],
      "metadata": {
        "colab": {
          "base_uri": "https://localhost:8080/"
        },
        "id": "PG5uuLzasbXc",
        "outputId": "3c6db326-7bf0-4b12-ad53-bd5f9e2f2c67"
      },
      "execution_count": 66,
      "outputs": [
        {
          "output_type": "stream",
          "name": "stdout",
          "text": [
            "62\n",
            "1 character index 0= H\n",
            "62 character index 7= a\n",
            "0character index = H\n",
            "-2 character index 0= H\n",
            "-44 string character index -16= [-1]\n",
            "7 character index 6 =  b\n",
            "15 character index 14 =  e\n",
            "22 character index 21 =   \n",
            "70 character index -1 =  d\n",
            "65 character index -5 =  w\n",
            "Slcing of first 56 characters =  Hyderabad is best the place to have biryani in the whole\n",
            "Slcing from 22 to 50 charater =  ave biryani \n",
            "Slcing of last 15 characters =  ld\n",
            "Slcing of -28 to -5 =  e biryani in the whole \n"
          ]
        },
        {
          "output_type": "execute_result",
          "data": {
            "text/plain": [
              "70"
            ]
          },
          "metadata": {},
          "execution_count": 66
        }
      ]
    },
    {
      "cell_type": "markdown",
      "source": [
        "#4) EXPLAIN ABOUT STRING FORMAT\n",
        "- String format are classified into three types they are\n",
        "1. Old Style Format(% operator)\n",
        "2. Format Method\n",
        "3. String Interpolation(f-string)\n"
      ],
      "metadata": {
        "id": "H_JDCO9e4uh4"
      }
    },
    {
      "cell_type": "markdown",
      "source": [
        "1. Old Style Foarmat(% operation)\n",
        "\n",
        "- Uses the % operator and placeholders"
      ],
      "metadata": {
        "id": "T6fRUahu5KUJ"
      }
    },
    {
      "cell_type": "code",
      "source": [
        "#Example for % opertor\n",
        "village = \"nizamabad\"\n",
        "distance = 200\n",
        "string = \"My village is %s and the distance from hyderabad %fkilometers\"%(village,distance)\n",
        "print(string)"
      ],
      "metadata": {
        "colab": {
          "base_uri": "https://localhost:8080/"
        },
        "id": "-_8VHHaT5SDp",
        "outputId": "3de8a4c5-c549-4b5e-cd9f-3b56b5c40c3a"
      },
      "execution_count": 71,
      "outputs": [
        {
          "output_type": "stream",
          "name": "stdout",
          "text": [
            "My village is nizamabad and the distance from hyderabad 200.000000kilometers\n"
          ]
        }
      ]
    },
    {
      "cell_type": "markdown",
      "source": [
        "2.Format Method\n",
        "\n",
        "- Uses the format() method with placeholder"
      ],
      "metadata": {
        "id": "oAi1B4Hd6Yvs"
      }
    },
    {
      "cell_type": "code",
      "source": [
        "#Example for format method\n",
        "village = \"nizamabad\"\n",
        "distance = 200\n",
        "string = \"My village is {} and the distance from hyderabad {} kilometers\".format(village,distance)\n",
        "print(string)"
      ],
      "metadata": {
        "colab": {
          "base_uri": "https://localhost:8080/"
        },
        "id": "J361VOZy6cR8",
        "outputId": "a3c863d1-513d-4d46-9833-7995f9a133cc"
      },
      "execution_count": 78,
      "outputs": [
        {
          "output_type": "stream",
          "name": "stdout",
          "text": [
            "My village is nizamabad and the distance from hyderabad 200 kilometers\n"
          ]
        }
      ]
    },
    {
      "cell_type": "markdown",
      "source": [
        "3.String Interpolation(f-string)\n",
        "\n",
        "- f-string is used where expressions inside curly brackets { } are evaluted and replaced"
      ],
      "metadata": {
        "id": "c4-eImpi7y2a"
      }
    },
    {
      "cell_type": "code",
      "source": [
        "#Example for f-string\n",
        "name = \"malleshr\"\n",
        "age = 22\n",
        "loc = \"hitech city\"\n",
        "string = f\"My name is {name} and I am {age} years old and I am from {loc}.\"\n",
        "string1 = f\"My name is {name} \\n I am {age} years old \\n I am from {loc}.\"\n",
        "print(string)\n",
        "print(string1)"
      ],
      "metadata": {
        "colab": {
          "base_uri": "https://localhost:8080/"
        },
        "id": "lXSd33op79rW",
        "outputId": "fbd73415-c251-4a69-f067-15412b49a308"
      },
      "execution_count": 79,
      "outputs": [
        {
          "output_type": "stream",
          "name": "stdout",
          "text": [
            "My name is malleshr and I am 22 years old and I am from hitech city.\n",
            "My name is malleshr \n",
            " I am 22 years old \n",
            " I am from hitech city.\n"
          ]
        }
      ]
    },
    {
      "cell_type": "markdown",
      "source": [
        "#5)apply operations\n",
        "1.concatnation:\n",
        "\n",
        "- adding of things"
      ],
      "metadata": {
        "id": "3cYeQ1p08L7e"
      }
    },
    {
      "cell_type": "code",
      "source": [
        "#concatenation\n",
        "a=\"my village is\"\n",
        "b=\"nizamabad\"\n",
        "c=a+' '+b\n",
        "print(c)"
      ],
      "metadata": {
        "colab": {
          "base_uri": "https://localhost:8080/"
        },
        "id": "SFE6v9QW9JAW",
        "outputId": "c3056fcd-4297-45a4-ad2a-93595b8ef995"
      },
      "execution_count": 80,
      "outputs": [
        {
          "output_type": "stream",
          "name": "stdout",
          "text": [
            "my village is nizamabad\n"
          ]
        }
      ]
    },
    {
      "cell_type": "markdown",
      "source": [
        "2.repetition:\n",
        "\n",
        "- repeat values of a string\n"
      ],
      "metadata": {
        "id": "qH801iBH9S2L"
      }
    },
    {
      "cell_type": "code",
      "source": [
        "#repetition\n",
        "str1=\"my village is niamabad \"\n",
        "str2=str1*5\n",
        "print(str2)"
      ],
      "metadata": {
        "colab": {
          "base_uri": "https://localhost:8080/"
        },
        "id": "IRK_QdD29XWa",
        "outputId": "aa50e3b7-16e9-4675-eace-ae6abb2e66d7"
      },
      "execution_count": 83,
      "outputs": [
        {
          "output_type": "stream",
          "name": "stdout",
          "text": [
            "my village is niamabad my village is niamabad my village is niamabad my village is niamabad my village is niamabad \n"
          ]
        }
      ]
    },
    {
      "cell_type": "markdown",
      "source": [
        "3.slicing:\n",
        "\n",
        "- slicing is a process of extracting a substring from a string"
      ],
      "metadata": {
        "id": "lOcJ86_h9l8E"
      }
    },
    {
      "cell_type": "code",
      "source": [
        "#slicing\n",
        "string = \"my village is niamabad\"\n",
        "print(string[4:15])\n",
        "print(string[-2:])\n",
        "print(string[:-15])\n",
        "print(string[:39])\n",
        ""
      ],
      "metadata": {
        "colab": {
          "base_uri": "https://localhost:8080/"
        },
        "id": "Deu3W-0Q9pNC",
        "outputId": "c0b750d6-7309-4e92-bd4a-436d90ff2655"
      },
      "execution_count": 92,
      "outputs": [
        {
          "output_type": "stream",
          "name": "stdout",
          "text": [
            "illage is n\n",
            "ad\n",
            "my vill\n",
            "my village is niamabad\n"
          ]
        }
      ]
    },
    {
      "cell_type": "markdown",
      "source": [
        "4.indexing:\n",
        "- accessing individual character in a string"
      ],
      "metadata": {
        "id": "8CWuHcG4-3oP"
      }
    },
    {
      "cell_type": "code",
      "source": [
        "#Example for Indexing\n",
        "line = \"my village is nizamabad \\n \"\n",
        "print(line[11])\n",
        "print(line[-4])"
      ],
      "metadata": {
        "colab": {
          "base_uri": "https://localhost:8080/"
        },
        "id": "sZYn3jRY_cTx",
        "outputId": "b9af7433-09c1-49a9-c977-271bc5b9433a"
      },
      "execution_count": 94,
      "outputs": [
        {
          "output_type": "stream",
          "name": "stdout",
          "text": [
            "i\n",
            "d\n"
          ]
        }
      ]
    },
    {
      "cell_type": "markdown",
      "source": [
        "#6) apply methods\n",
        "1.len():\n",
        "-  counts the characters in a string"
      ],
      "metadata": {
        "id": "JMHu0Qpo_3NE"
      }
    },
    {
      "cell_type": "code",
      "source": [
        "#example\n",
        "my_string=\"hello \"\n",
        "print(len(my_string))"
      ],
      "metadata": {
        "colab": {
          "base_uri": "https://localhost:8080/"
        },
        "id": "TzYcSCXu_95l",
        "outputId": "267b6226-f504-4198-a6f1-02470a1fe2e5"
      },
      "execution_count": 95,
      "outputs": [
        {
          "output_type": "stream",
          "name": "stdout",
          "text": [
            "6\n"
          ]
        }
      ]
    },
    {
      "cell_type": "markdown",
      "source": [
        "2.lower()/upper():\n",
        "- converts entire data into lower/upper"
      ],
      "metadata": {
        "id": "ENZTpVjJAETD"
      }
    },
    {
      "cell_type": "code",
      "source": [
        "#example\n",
        "my_string=\"hello\"\n",
        "print(my_string.upper())"
      ],
      "metadata": {
        "colab": {
          "base_uri": "https://localhost:8080/"
        },
        "id": "9WUqzrbuAP1j",
        "outputId": "754121db-757b-4ea4-afce-25e10b7f1315"
      },
      "execution_count": 96,
      "outputs": [
        {
          "output_type": "stream",
          "name": "stdout",
          "text": [
            "HELLO\n"
          ]
        }
      ]
    },
    {
      "cell_type": "markdown",
      "source": [
        "3.strip():\n",
        "- used to remove spaces beggining and ending"
      ],
      "metadata": {
        "id": "zvpN3WwkAWPm"
      }
    },
    {
      "cell_type": "code",
      "source": [
        "#example\n",
        "my_string=\"  python  \"\n",
        "stripped_string=my_string.strip()\n",
        "print(stripped_string)"
      ],
      "metadata": {
        "colab": {
          "base_uri": "https://localhost:8080/"
        },
        "id": "xQ7NAb4KAZDA",
        "outputId": "8d6c6e0b-efee-4731-8fde-14c8bb966b05"
      },
      "execution_count": 97,
      "outputs": [
        {
          "output_type": "stream",
          "name": "stdout",
          "text": [
            "python\n"
          ]
        }
      ]
    },
    {
      "cell_type": "markdown",
      "source": [
        "4.replace():\n",
        "- replace substring with another substring"
      ],
      "metadata": {
        "id": "RKreAPvKAieO"
      }
    },
    {
      "cell_type": "code",
      "source": [
        "#example\n",
        "my_string=\"my name is mallesh\"\n",
        "str=my_string.replace(\"akshaya\",\"pavani\")\n",
        "print(str)"
      ],
      "metadata": {
        "colab": {
          "base_uri": "https://localhost:8080/"
        },
        "id": "t32bNBffAm98",
        "outputId": "ad51ac8c-9f4e-476e-c47a-44109adf9953"
      },
      "execution_count": 99,
      "outputs": [
        {
          "output_type": "stream",
          "name": "stdout",
          "text": [
            "my name is mallesh\n"
          ]
        }
      ]
    },
    {
      "cell_type": "markdown",
      "source": [
        "5.split:\n",
        "- splits the one string into substring"
      ],
      "metadata": {
        "id": "X80qW6ioA0ui"
      }
    },
    {
      "cell_type": "code",
      "source": [
        "#example\n",
        "str=\"my name is mallesh\"\n",
        "str1=(str.split())\n",
        "print(str1)"
      ],
      "metadata": {
        "colab": {
          "base_uri": "https://localhost:8080/"
        },
        "id": "eDGGbLBCA4oR",
        "outputId": "53fefded-f576-46de-9064-630808d40d94"
      },
      "execution_count": 100,
      "outputs": [
        {
          "output_type": "stream",
          "name": "stdout",
          "text": [
            "['my', 'name', 'is', 'mallesh']\n"
          ]
        }
      ]
    },
    {
      "cell_type": "markdown",
      "source": [
        "6.join:\n",
        "- it joins the substring all into one string"
      ],
      "metadata": {
        "id": "IACjFw26BBWb"
      }
    },
    {
      "cell_type": "code",
      "source": [
        "#example\n",
        "name=['sathayam','kanna','pavan','yogesh']\n",
        "print(\" \".join(name))"
      ],
      "metadata": {
        "colab": {
          "base_uri": "https://localhost:8080/"
        },
        "id": "3ztQRrZJBFsw",
        "outputId": "f2286a3d-4d27-440d-a9bd-1c72001183f2"
      },
      "execution_count": 101,
      "outputs": [
        {
          "output_type": "stream",
          "name": "stdout",
          "text": [
            "sathayam kanna pavan yogesh\n"
          ]
        }
      ]
    }
  ]
}