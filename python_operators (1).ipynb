{
  "nbformat": 4,
  "nbformat_minor": 0,
  "metadata": {
    "colab": {
      "provenance": []
    },
    "kernelspec": {
      "name": "python3",
      "display_name": "Python 3"
    },
    "language_info": {
      "name": "python"
    }
  },
  "cells": [
    {
      "cell_type": "markdown",
      "source": [
        "# Explain about operaters and define the type of operator in python\n",
        "- In Python programming, Operators in general are used to perform operations on values and variables. These are standard symbols used for logical and arithmetic operations. In this article, we will look into different types of Python operators.\n",
        "- OPERATORS: These are the special symbols. Eg- + , * , /, etc.\n",
        "- OPERAND: It is the value on which the operator is applied\n",
        "\n",
        "- 7 types of operators in python\n",
        "\n",
        "1) Arithmetic operator\n",
        "\n",
        "2) Assgement operattor\n",
        "\n",
        "3) Comparsion operator\n",
        "\n",
        "4) Logical operator\n",
        "\n",
        "5) Identity operator\n",
        "\n",
        "6) Membership opertor\n",
        "\n",
        "7) Bitwise opertor"
      ],
      "metadata": {
        "id": "rq0wzCjZwNBG"
      }
    },
    {
      "cell_type": "markdown",
      "source": [
        "# Explain each and every operators with 10 Examples\n",
        "\n",
        "**1) Arithmetic operator**\n",
        "\n",
        "Arithmetic oprtator are used with numeric values to perform common mathematical operation\n",
        "\n",
        "- Addition +\n",
        "- subtraction -\n",
        "- Multiplication *\n",
        "- Division /\n",
        "- Modulus %\n",
        "- Exponentitation //"
      ],
      "metadata": {
        "id": "D7kXKjUFIacr"
      }
    },
    {
      "cell_type": "code",
      "source": [
        "# Examples Arithmetic operator\n",
        "A=20\n",
        "B=43\n",
        "print(A+B)\n",
        "print(A-B)\n",
        "print(A*B)\n",
        "print(A/b)\n",
        "print(A%B)\n",
        "print(A//B)"
      ],
      "metadata": {
        "colab": {
          "base_uri": "https://localhost:8080/"
        },
        "id": "Ow2EKxGBX8an",
        "outputId": "30865a88-8b08-4ff9-aa04-6809cf416e43"
      },
      "execution_count": 2,
      "outputs": [
        {
          "output_type": "stream",
          "name": "stdout",
          "text": [
            "63\n",
            "-23\n",
            "860\n",
            "0.8695652173913043\n",
            "20\n",
            "0\n"
          ]
        }
      ]
    },
    {
      "cell_type": "code",
      "source": [
        "x=66\n",
        "y=55\n",
        "z=44\n",
        "print(x+y+z)\n",
        "print(x-y-z)\n",
        "print(x*y*z)\n",
        "print(x/y/z)\n",
        "print(x%y%z)\n",
        "print(x//y//z)"
      ],
      "metadata": {
        "colab": {
          "base_uri": "https://localhost:8080/"
        },
        "id": "hoqctKhpZXd_",
        "outputId": "df144707-9f21-4318-f1c8-b79ec8efc2c7"
      },
      "execution_count": 3,
      "outputs": [
        {
          "output_type": "stream",
          "name": "stdout",
          "text": [
            "165\n",
            "-33\n",
            "159720\n",
            "0.02727272727272727\n",
            "11\n",
            "0\n"
          ]
        }
      ]
    },
    {
      "cell_type": "markdown",
      "source": [
        "**2) Assignment Operater**\n",
        "- Assignment operators are used to assign values to variables\n",
        "- Assignment operators like a+=b so it store in only 3 bits and c=a+b it store in 5 bits.Assignment operater will reduce the memorey\n",
        "\n",
        "- Assigment operater  =\n",
        "- Addition Assigment  +=\n",
        "- subratction Assigment  -=\n",
        "- multplication Assigment  *=\n",
        "- division Assigment /=\n",
        "- Remainder Assigment %=\n",
        "- Exponent Assigment **="
      ],
      "metadata": {
        "id": "HNF6ehi0bSgK"
      }
    },
    {
      "cell_type": "code",
      "source": [
        "#Examples Assignment Operater\n",
        "a=28\n",
        "b=67\n",
        "a=b\n",
        "print(a)\n",
        "a+=b\n",
        "print(a)\n",
        "a-=b\n",
        "print(a)\n",
        "a*=b\n",
        "print(a)\n",
        "a/=b\n",
        "print(a)\n",
        "a%=b\n",
        "print(a)\n",
        "a**=b\n",
        "print(a)"
      ],
      "metadata": {
        "colab": {
          "base_uri": "https://localhost:8080/"
        },
        "id": "RFxwUXQGgJkc",
        "outputId": "3c81e12e-8beb-4311-accb-ee10d7044969"
      },
      "execution_count": 9,
      "outputs": [
        {
          "output_type": "stream",
          "name": "stdout",
          "text": [
            "67\n",
            "134\n",
            "67\n",
            "4489\n",
            "67.0\n",
            "0.0\n",
            "0.0\n"
          ]
        }
      ]
    },
    {
      "cell_type": "markdown",
      "source": [
        "**3) Compraison operater**\n",
        "- comparison operators are used to compare two values\n",
        "- comparison operators are used to compare values and return either True or False.\n",
        "- They can be used to compare different values in python ,such as integers or strings\n",
        "- Equal ==\n",
        "- Not equal !=\n",
        "- Greater than >\n",
        "- less than <  \n",
        "- Greater than or equal to >=\n",
        "- less than or equal to <=\n",
        "\n"
      ],
      "metadata": {
        "id": "Ac6duw2qkYl3"
      }
    },
    {
      "cell_type": "code",
      "source": [
        "#examples\n",
        "a=88\n",
        "b=43\n",
        "print(a==b)\n",
        "print(a!=b)\n",
        "print(a>b)\n",
        "print(a<b)\n",
        "print(a>=b)\n",
        "print(a<=b)"
      ],
      "metadata": {
        "colab": {
          "base_uri": "https://localhost:8080/"
        },
        "id": "os1mpkKUnS_2",
        "outputId": "114d9baf-0b4c-485a-9b15-a4c5eee427d5"
      },
      "execution_count": 20,
      "outputs": [
        {
          "output_type": "stream",
          "name": "stdout",
          "text": [
            "False\n",
            "True\n",
            "True\n",
            "False\n",
            "True\n",
            "False\n"
          ]
        }
      ]
    },
    {
      "cell_type": "markdown",
      "source": [
        "**4) Logical operators**\n",
        "- logical operators are used to combine conditional satatements that TRUE ,FALSE if condition satisfy TRUE not satify FALSE\n",
        "- **and** the condition is L.H.S and R.H.S will satisfy the output is TRUE, if L.H.S Satisfy and R.H.S will not satisfy the output is FALSE.\n",
        "- **or** the condition is L.H.S and R.H.S in this any one either L.H.S or R.H.S is satisfy the output will be TRUE\n",
        "- **not** opertor is oppiste to and ,or operators\n"
      ],
      "metadata": {
        "id": "oRKn8snKoL3K"
      }
    },
    {
      "cell_type": "code",
      "source": [
        "#and\n",
        "45==45 and 56>47"
      ],
      "metadata": {
        "colab": {
          "base_uri": "https://localhost:8080/"
        },
        "id": "RqWV8g9FtqKJ",
        "outputId": "87265fd5-bc90-4744-fbde-cd2275a0b76a"
      },
      "execution_count": 23,
      "outputs": [
        {
          "output_type": "execute_result",
          "data": {
            "text/plain": [
              "True"
            ]
          },
          "metadata": {},
          "execution_count": 23
        }
      ]
    },
    {
      "cell_type": "code",
      "source": [
        "#0r\n",
        "65>76 or 89==89"
      ],
      "metadata": {
        "colab": {
          "base_uri": "https://localhost:8080/"
        },
        "id": "uOziQFGXuKIH",
        "outputId": "6e49cc56-a656-4849-8b60-ea7ce0352b81"
      },
      "execution_count": 25,
      "outputs": [
        {
          "output_type": "execute_result",
          "data": {
            "text/plain": [
              "True"
            ]
          },
          "metadata": {},
          "execution_count": 25
        }
      ]
    },
    {
      "cell_type": "code",
      "source": [
        "#not\n",
        "not(45==45 and 56>47)"
      ],
      "metadata": {
        "colab": {
          "base_uri": "https://localhost:8080/"
        },
        "id": "S04j9wCduWAm",
        "outputId": "17412418-6379-4bf1-db8e-614f873080d8"
      },
      "execution_count": 27,
      "outputs": [
        {
          "output_type": "execute_result",
          "data": {
            "text/plain": [
              "False"
            ]
          },
          "metadata": {},
          "execution_count": 27
        }
      ]
    },
    {
      "cell_type": "markdown",
      "source": [
        "**5) Identity operators**\n",
        "- Identity operators are used to compare the objects, not if they are equal, but if they are actually the same objects, with the same memory location\n",
        "- **is** if both variables are the same object\n",
        "- **is not** if both variables are not the same object"
      ],
      "metadata": {
        "id": "e77P1I3Fu0wV"
      }
    },
    {
      "cell_type": "code",
      "source": [
        "x=6\n",
        "y=9\n",
        "print (x is y)\n",
        "print (x is not y)"
      ],
      "metadata": {
        "colab": {
          "base_uri": "https://localhost:8080/"
        },
        "id": "ZH1z16mWx5cf",
        "outputId": "47f80d86-b142-4d21-c0e0-c24e16bb61e6"
      },
      "execution_count": 30,
      "outputs": [
        {
          "output_type": "stream",
          "name": "stdout",
          "text": [
            "False\n",
            "True\n"
          ]
        }
      ]
    },
    {
      "cell_type": "code",
      "source": [
        "a=33\n",
        "b=33\n",
        "print (a is b)\n",
        "print (a is not b)"
      ],
      "metadata": {
        "colab": {
          "base_uri": "https://localhost:8080/"
        },
        "id": "OxthYsx8yCmn",
        "outputId": "8ce3d888-5c37-4d73-bdaa-a923eb690069"
      },
      "execution_count": 32,
      "outputs": [
        {
          "output_type": "stream",
          "name": "stdout",
          "text": [
            "True\n",
            "False\n"
          ]
        }
      ]
    },
    {
      "cell_type": "markdown",
      "source": [
        "**Membership operators**\n",
        "- Membership operators are used to test if sequence is presented in an object\n",
        "- **in** Return True if a sequence with the specified value is present in the object\n",
        "- **not in** Return True if a sequence with the specified value is not present in the object"
      ],
      "metadata": {
        "id": "FxhvVPVLyhz_"
      }
    },
    {
      "cell_type": "code",
      "source": [
        "u=[3,2,4,5,1]\n",
        "print (1 in u)\n",
        "print (1 not in u)\n"
      ],
      "metadata": {
        "colab": {
          "base_uri": "https://localhost:8080/"
        },
        "id": "vgF3qUF10jSc",
        "outputId": "ec3c40d1-2058-441e-c6f6-fe0469fc83b2"
      },
      "execution_count": 51,
      "outputs": [
        {
          "output_type": "stream",
          "name": "stdout",
          "text": [
            "True\n",
            "False\n"
          ]
        }
      ]
    },
    {
      "cell_type": "code",
      "source": [
        "course =\"DATA SCIENCE\"\n",
        "print(\"a\" in course)\n",
        "print(\"A\" in course)\n",
        "print(\"S\" not in course)\n"
      ],
      "metadata": {
        "colab": {
          "base_uri": "https://localhost:8080/"
        },
        "id": "0_McM1S72fZg",
        "outputId": "cad672ce-5587-4c0f-eab3-168966eb6028"
      },
      "execution_count": 61,
      "outputs": [
        {
          "output_type": "stream",
          "name": "stdout",
          "text": [
            "False\n",
            "True\n",
            "False\n"
          ]
        }
      ]
    },
    {
      "cell_type": "markdown",
      "source": [
        "**7) Bitwise operators**\n",
        "- Bitwise operators are used to compare (binary) numbers\n",
        "- **&** AND\n",
        "- **|** OR\n",
        "- **^** XOR\n",
        "- **~** NOT\n",
        "- **<<** Zero fill left shift\n",
        "- **>>** Signed right shift"
      ],
      "metadata": {
        "id": "ezRPiPX33tqk"
      }
    },
    {
      "cell_type": "code",
      "source": [
        "a=3\n",
        "b=5\n",
        "print(a&b)\n",
        "print(a|b)\n"
      ],
      "metadata": {
        "colab": {
          "base_uri": "https://localhost:8080/"
        },
        "id": "ddZw6aMp58jC",
        "outputId": "306daafc-58f4-4187-892c-f349c2f0becf"
      },
      "execution_count": 62,
      "outputs": [
        {
          "output_type": "stream",
          "name": "stdout",
          "text": [
            "1\n",
            "7\n"
          ]
        }
      ]
    }
  ]
}