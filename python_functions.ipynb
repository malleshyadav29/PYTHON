{
  "nbformat": 4,
  "nbformat_minor": 0,
  "metadata": {
    "colab": {
      "provenance": []
    },
    "kernelspec": {
      "name": "python3",
      "display_name": "Python 3"
    },
    "language_info": {
      "name": "python"
    }
  },
  "cells": [
    {
      "cell_type": "markdown",
      "source": [
        "#**Python Functions:-**\n",
        "- A function is a block of code that performs a specific task.\n",
        "- you can pass data, known as parameters, into a function.\n",
        "- A function can return data as a result.\n",
        "\n",
        "**type of functions :-**\n",
        "- there are two type of function in python programming:\n",
        "\n",
        "**1) standard libary function / building function :-**\n",
        "\n",
        "- these are built-in function in python that are available to use.\n",
        "\n",
        "**2) user_defined function :-**\n",
        "- we can own function based on our requirements\n",
        "\n",
        "#the sytax to declare a function is :\n",
        "- define function_name(arguments): #function body\n",
        "\n",
        "    return.\n",
        "\n",
        "Here,\n",
        "\n",
        "  def-keyword used to declare of function.\n",
        "\n",
        "  function_name - any name given to function.\n",
        "\n",
        "  arguments - any value passed to function\n",
        "\n",
        "  return(optional) - return value from a function"
      ],
      "metadata": {
        "id": "h96aaOi7D-uX"
      }
    },
    {
      "cell_type": "code",
      "source": [
        "#example:\n",
        "def welcome (name,age):\n",
        "  print(f'my name {name} and my age is {age}')\n",
        "  #call in the function\n",
        "  #by using function name"
      ],
      "metadata": {
        "id": "jXx1TPa0H4NR"
      },
      "execution_count": 49,
      "outputs": []
    },
    {
      "cell_type": "code",
      "source": [
        "#call in the function\n",
        "#by using function name\n",
        "welcome( 'mallesh',22)"
      ],
      "metadata": {
        "colab": {
          "base_uri": "https://localhost:8080/"
        },
        "id": "ZCdJ9BpSIy3Z",
        "outputId": "f2dee5d1-ad34-450a-8831-1684b7cdf64e"
      },
      "execution_count": 50,
      "outputs": [
        {
          "output_type": "stream",
          "name": "stdout",
          "text": [
            "my name mallesh and my age is 22\n"
          ]
        }
      ]
    },
    {
      "cell_type": "code",
      "source": [
        "welcome(\"kanna\",23)"
      ],
      "metadata": {
        "colab": {
          "base_uri": "https://localhost:8080/"
        },
        "id": "dofBV7sHJfV5",
        "outputId": "10d01d30-2499-462f-f91f-aaa13004df48"
      },
      "execution_count": 54,
      "outputs": [
        {
          "output_type": "stream",
          "name": "stdout",
          "text": [
            "my name kanna and my age is 23\n"
          ]
        }
      ]
    },
    {
      "cell_type": "code",
      "source": [
        "def bike_showroom (bike_name):\n",
        "    bikes = ['duke', 'fz', 'bullet']\n",
        "    if bike_name in bikes:\n",
        "        print(f\"Yes, we have {bike_name}. Which model are you looking for?\")\n",
        "    else:\n",
        "        print(\"No, we don't have that bike.\")\n",
        "\n",
        "\n",
        "bike_name = input(\"Enter the bike name: \")\n",
        "\n",
        "bike_showroom(bike_name)"
      ],
      "metadata": {
        "colab": {
          "base_uri": "https://localhost:8080/"
        },
        "id": "S6wyC-6DDdA2",
        "outputId": "cbaa2c0b-8753-4f41-de5d-f6e93579e83d"
      },
      "execution_count": 87,
      "outputs": [
        {
          "output_type": "stream",
          "name": "stdout",
          "text": [
            "Enter the bike name: activa\n",
            "No, we don't have that bike.\n"
          ]
        }
      ]
    }
  ]
}